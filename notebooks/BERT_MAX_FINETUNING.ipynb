{
 "cells": [
  {
   "cell_type": "markdown",
   "metadata": {},
   "source": [
    "### Prepare the notebook to have access to all files"
   ]
  },
  {
   "cell_type": "code",
   "execution_count": 1,
   "metadata": {
    "execution": {
     "iopub.execute_input": "2021-01-25T08:16:10.999470Z",
     "iopub.status.busy": "2021-01-25T08:16:10.998839Z",
     "iopub.status.idle": "2021-01-25T08:16:11.008358Z",
     "shell.execute_reply": "2021-01-25T08:16:11.007177Z",
     "shell.execute_reply.started": "2021-01-25T08:16:10.999231Z"
    }
   },
   "outputs": [],
   "source": [
    "import os\n",
    "import sys\n",
    "# get the project root\n",
    "__filename__ = os.path.abspath(\"..\")\n",
    "__dirname__ = os.path.dirname(__filename__)\n",
    "if __dirname__ not in sys.path:\n",
    "    sys.path.append(__dirname__)"
   ]
  },
  {
   "cell_type": "markdown",
   "metadata": {
    "execution": {
     "iopub.execute_input": "2020-12-01T10:22:23.293558Z",
     "iopub.status.busy": "2020-12-01T10:22:23.293204Z",
     "iopub.status.idle": "2020-12-01T10:22:23.297517Z",
     "shell.execute_reply": "2020-12-01T10:22:23.296659Z",
     "shell.execute_reply.started": "2020-12-01T10:22:23.293517Z"
    }
   },
   "source": [
    "### Visualization and process library"
   ]
  },
  {
   "cell_type": "code",
   "execution_count": 2,
   "metadata": {
    "execution": {
     "iopub.execute_input": "2021-01-25T08:16:11.737830Z",
     "iopub.status.busy": "2021-01-25T08:16:11.737379Z",
     "iopub.status.idle": "2021-01-25T08:16:12.264069Z",
     "shell.execute_reply": "2021-01-25T08:16:12.263455Z",
     "shell.execute_reply.started": "2021-01-25T08:16:11.737780Z"
    }
   },
   "outputs": [],
   "source": [
    "import re\n",
    "import numpy as np\n",
    "import matplotlib.pyplot as plt\n",
    "\n",
    "import random\n",
    "\n",
    "from tqdm import notebook\n",
    "tqdmn = notebook.tqdm"
   ]
  },
  {
   "cell_type": "markdown",
   "metadata": {},
   "source": [
    "### Debugging Tool"
   ]
  },
  {
   "cell_type": "code",
   "execution_count": 3,
   "metadata": {
    "execution": {
     "iopub.execute_input": "2021-01-25T08:16:12.409575Z",
     "iopub.status.busy": "2021-01-25T08:16:12.409355Z",
     "iopub.status.idle": "2021-01-25T08:16:12.413123Z",
     "shell.execute_reply": "2021-01-25T08:16:12.412428Z",
     "shell.execute_reply.started": "2021-01-25T08:16:12.409552Z"
    }
   },
   "outputs": [],
   "source": [
    "from importlib import reload"
   ]
  },
  {
   "cell_type": "markdown",
   "metadata": {},
   "source": [
    "# Data Loading"
   ]
  },
  {
   "cell_type": "code",
   "execution_count": 4,
   "metadata": {
    "execution": {
     "iopub.execute_input": "2021-01-25T08:16:13.043561Z",
     "iopub.status.busy": "2021-01-25T08:16:13.043188Z",
     "iopub.status.idle": "2021-01-25T08:16:13.048530Z",
     "shell.execute_reply": "2021-01-25T08:16:13.047478Z",
     "shell.execute_reply.started": "2021-01-25T08:16:13.043519Z"
    }
   },
   "outputs": [],
   "source": [
    "def open_training_set(filepath):\n",
    "    with open(filepath, 'r', encoding='utf-8') as f:\n",
    "        return f.readlines()"
   ]
  },
  {
   "cell_type": "code",
   "execution_count": 5,
   "metadata": {
    "execution": {
     "iopub.execute_input": "2021-01-25T08:16:13.385053Z",
     "iopub.status.busy": "2021-01-25T08:16:13.384695Z",
     "iopub.status.idle": "2021-01-25T08:16:13.391109Z",
     "shell.execute_reply": "2021-01-25T08:16:13.390119Z",
     "shell.execute_reply.started": "2021-01-25T08:16:13.385012Z"
    }
   },
   "outputs": [],
   "source": [
    "def format_row(string):\n",
    "    splitted_values = re.split(r'\\t+', string)\n",
    "    \n",
    "    if len(splitted_values) == 3:\n",
    "        rel, query, document = splitted_values\n",
    "        return { \"query\": query.strip(), \"documents\": document.strip(), \"relevance\": rel.strip() }\n",
    "    else:\n",
    "        return None"
   ]
  },
  {
   "cell_type": "code",
   "execution_count": 6,
   "metadata": {
    "execution": {
     "iopub.execute_input": "2021-01-25T08:16:13.809830Z",
     "iopub.status.busy": "2021-01-25T08:16:13.809352Z",
     "iopub.status.idle": "2021-01-25T08:16:13.814954Z",
     "shell.execute_reply": "2021-01-25T08:16:13.813849Z",
     "shell.execute_reply.started": "2021-01-25T08:16:13.809777Z"
    }
   },
   "outputs": [],
   "source": [
    "def format_dataset(array):\n",
    "    return [format_row(row) for row in array]"
   ]
  },
  {
   "cell_type": "code",
   "execution_count": 7,
   "metadata": {
    "execution": {
     "iopub.execute_input": "2021-01-25T08:16:22.255214Z",
     "iopub.status.busy": "2021-01-25T08:16:22.254787Z",
     "iopub.status.idle": "2021-01-25T08:16:22.262611Z",
     "shell.execute_reply": "2021-01-25T08:16:22.261432Z",
     "shell.execute_reply.started": "2021-01-25T08:16:22.255164Z"
    }
   },
   "outputs": [],
   "source": [
    "def prepare_dataset(filepath):   \n",
    "    file = open_training_set(filepath)\n",
    "    file = format_dataset(file)\n",
    "    \n",
    "    dataset = {}\n",
    "    dataset[\"query\"] = [el[\"query\"] for el in file if el]\n",
    "    dataset[\"documents\"] = [el[\"documents\"] for el in file if el]\n",
    "    dataset[\"relevance\"] = [el[\"relevance\"] for el in file if el]\n",
    "    return dataset"
   ]
  },
  {
   "cell_type": "code",
   "execution_count": 8,
   "metadata": {
    "execution": {
     "iopub.execute_input": "2021-01-25T08:16:22.722684Z",
     "iopub.status.busy": "2021-01-25T08:16:22.722196Z",
     "iopub.status.idle": "2021-01-25T08:16:22.728368Z",
     "shell.execute_reply": "2021-01-25T08:16:22.727319Z",
     "shell.execute_reply.started": "2021-01-25T08:16:22.722621Z"
    }
   },
   "outputs": [],
   "source": [
    "def get_train_datasets(datatype):\n",
    "    # prepare the dataset paths\n",
    "    train_path = f\"../../data/clir/sasaki18/{datatype}/train.txt\"\n",
    "    # load the datasets\n",
    "    return prepare_dataset(train_path)"
   ]
  },
  {
   "cell_type": "code",
   "execution_count": 9,
   "metadata": {
    "execution": {
     "iopub.execute_input": "2021-01-25T08:16:23.580303Z",
     "iopub.status.busy": "2021-01-25T08:16:23.579902Z",
     "iopub.status.idle": "2021-01-25T08:16:23.585070Z",
     "shell.execute_reply": "2021-01-25T08:16:23.584104Z",
     "shell.execute_reply.started": "2021-01-25T08:16:23.580257Z"
    }
   },
   "outputs": [],
   "source": [
    "data = {\n",
    "    \"data_en_de\": None,\n",
    "    \"data_en_fr\": None,\n",
    "    \"data_en_tl\": None,\n",
    "}"
   ]
  },
  {
   "cell_type": "code",
   "execution_count": 10,
   "metadata": {
    "execution": {
     "iopub.execute_input": "2021-01-25T08:16:26.116092Z",
     "iopub.status.busy": "2021-01-25T08:16:26.115802Z",
     "iopub.status.idle": "2021-01-25T08:18:02.642239Z",
     "shell.execute_reply": "2021-01-25T08:18:02.641243Z",
     "shell.execute_reply.started": "2021-01-25T08:16:26.116062Z"
    }
   },
   "outputs": [],
   "source": [
    "for key in data.keys():\n",
    "    data[key] = get_train_datasets(key)"
   ]
  },
  {
   "cell_type": "code",
   "execution_count": 11,
   "metadata": {
    "execution": {
     "iopub.execute_input": "2021-01-22T10:43:09.168364Z",
     "iopub.status.busy": "2021-01-22T10:43:09.168176Z",
     "iopub.status.idle": "2021-01-22T10:43:09.171824Z",
     "shell.execute_reply": "2021-01-22T10:43:09.171256Z",
     "shell.execute_reply.started": "2021-01-22T10:43:09.168340Z"
    }
   },
   "outputs": [],
   "source": [
    "all_data = { \"query\": [], \"documents\": [], \"relevance\": [] }"
   ]
  },
  {
   "cell_type": "code",
   "execution_count": 12,
   "metadata": {
    "execution": {
     "iopub.execute_input": "2021-01-22T10:43:09.173160Z",
     "iopub.status.busy": "2021-01-22T10:43:09.172991Z",
     "iopub.status.idle": "2021-01-22T10:43:11.775429Z",
     "shell.execute_reply": "2021-01-22T10:43:11.774852Z",
     "shell.execute_reply.started": "2021-01-22T10:43:09.173139Z"
    }
   },
   "outputs": [],
   "source": [
    "for key in data.keys():\n",
    "    all_data[\"query\"] = all_data[\"query\"] + data[key][\"query\"]\n",
    "    all_data[\"documents\"] = all_data[\"documents\"] + data[key][\"documents\"]\n",
    "    all_data[\"relevance\"] = all_data[\"relevance\"] + data[key][\"relevance\"]"
   ]
  },
  {
   "cell_type": "markdown",
   "metadata": {},
   "source": [
    "# Model Libraries"
   ]
  },
  {
   "cell_type": "code",
   "execution_count": 22,
   "metadata": {
    "execution": {
     "iopub.execute_input": "2021-01-22T10:44:31.531660Z",
     "iopub.status.busy": "2021-01-22T10:44:31.531241Z",
     "iopub.status.idle": "2021-01-22T10:44:31.537969Z",
     "shell.execute_reply": "2021-01-22T10:44:31.536906Z",
     "shell.execute_reply.started": "2021-01-22T10:44:31.531612Z"
    }
   },
   "outputs": [],
   "source": [
    "import torch\n",
    "import torch.nn as nn\n",
    "import torch.nn.functional as f\n",
    "import torch.optim as optim\n",
    "# import transformers\n",
    "from transformers import BertTokenizer\n",
    "# import datasets\n",
    "from datasets import Dataset\n",
    "\n",
    "# import the NEW method\n",
    "import library.bert_max"
   ]
  },
  {
   "cell_type": "code",
   "execution_count": 23,
   "metadata": {
    "execution": {
     "iopub.execute_input": "2021-01-22T10:44:31.884359Z",
     "iopub.status.busy": "2021-01-22T10:44:31.883916Z",
     "iopub.status.idle": "2021-01-22T10:44:31.891727Z",
     "shell.execute_reply": "2021-01-22T10:44:31.890767Z",
     "shell.execute_reply.started": "2021-01-22T10:44:31.884311Z"
    }
   },
   "outputs": [
    {
     "data": {
      "text/plain": [
       "<module 'library.bert_cls' from '/home/erikn/Documents/code/research/library/bert_cls.py'>"
      ]
     },
     "execution_count": 23,
     "metadata": {},
     "output_type": "execute_result"
    }
   ],
   "source": [
    "reload(library.bert_max)"
   ]
  },
  {
   "cell_type": "markdown",
   "metadata": {},
   "source": [
    "## Model Training"
   ]
  },
  {
   "cell_type": "code",
   "execution_count": 15,
   "metadata": {
    "execution": {
     "iopub.execute_input": "2021-01-22T10:43:16.304706Z",
     "iopub.status.busy": "2021-01-22T10:43:16.304325Z",
     "iopub.status.idle": "2021-01-22T10:43:32.026178Z",
     "shell.execute_reply": "2021-01-22T10:43:32.025301Z",
     "shell.execute_reply.started": "2021-01-22T10:43:16.304661Z"
    }
   },
   "outputs": [],
   "source": [
    "dataset = Dataset.from_dict(all_data)"
   ]
  },
  {
   "cell_type": "code",
   "execution_count": 16,
   "metadata": {
    "execution": {
     "iopub.execute_input": "2021-01-22T10:43:32.027806Z",
     "iopub.status.busy": "2021-01-22T10:43:32.027617Z",
     "iopub.status.idle": "2021-01-22T10:43:32.031640Z",
     "shell.execute_reply": "2021-01-22T10:43:32.030919Z",
     "shell.execute_reply.started": "2021-01-22T10:43:32.027780Z"
    }
   },
   "outputs": [],
   "source": [
    "batch_size = 5\n",
    "n_epochs = 1\n",
    "n_steps = 16"
   ]
  },
  {
   "cell_type": "code",
   "execution_count": 17,
   "metadata": {
    "execution": {
     "iopub.execute_input": "2021-01-22T10:43:32.033905Z",
     "iopub.status.busy": "2021-01-22T10:43:32.033715Z",
     "iopub.status.idle": "2021-01-22T10:43:32.196457Z",
     "shell.execute_reply": "2021-01-22T10:43:32.195614Z",
     "shell.execute_reply.started": "2021-01-22T10:43:32.033881Z"
    }
   },
   "outputs": [],
   "source": [
    "# set the device on which we will train the model\n",
    "device = torch.device(\"cuda\" if torch.cuda.is_available() else \"cpu\")"
   ]
  },
  {
   "cell_type": "code",
   "execution_count": 18,
   "metadata": {
    "execution": {
     "iopub.execute_input": "2021-01-22T10:43:32.198162Z",
     "iopub.status.busy": "2021-01-22T10:43:32.197900Z",
     "iopub.status.idle": "2021-01-22T10:43:32.288282Z",
     "shell.execute_reply": "2021-01-22T10:43:32.287241Z",
     "shell.execute_reply.started": "2021-01-22T10:43:32.198129Z"
    }
   },
   "outputs": [],
   "source": [
    "# prepare the dataset loader\n",
    "train_data = torch.utils.data.DataLoader(dataset, batch_size=batch_size)"
   ]
  },
  {
   "cell_type": "code",
   "execution_count": 19,
   "metadata": {
    "execution": {
     "iopub.execute_input": "2021-01-22T10:43:32.290121Z",
     "iopub.status.busy": "2021-01-22T10:43:32.289762Z",
     "iopub.status.idle": "2021-01-22T10:43:36.631681Z",
     "shell.execute_reply": "2021-01-22T10:43:36.630966Z",
     "shell.execute_reply.started": "2021-01-22T10:43:32.290079Z"
    }
   },
   "outputs": [],
   "source": [
    "# get the bert tokenizer\n",
    "tokenizer = BertTokenizer.from_pretrained('bert-base-multilingual-cased')"
   ]
  },
  {
   "cell_type": "code",
   "execution_count": 24,
   "metadata": {
    "execution": {
     "iopub.execute_input": "2021-01-22T10:44:33.766415Z",
     "iopub.status.busy": "2021-01-22T10:44:33.765685Z",
     "iopub.status.idle": "2021-01-22T10:44:43.552523Z",
     "shell.execute_reply": "2021-01-22T10:44:43.551457Z",
     "shell.execute_reply.started": "2021-01-22T10:44:33.766332Z"
    }
   },
   "outputs": [],
   "source": [
    "# load the NEW method used for CLIR\n",
    "model = library.bert_max.BERT_MAX().train().to(device)"
   ]
  },
  {
   "cell_type": "code",
   "execution_count": 25,
   "metadata": {
    "execution": {
     "iopub.execute_input": "2021-01-22T10:44:58.987740Z",
     "iopub.status.busy": "2021-01-22T10:44:58.987254Z",
     "iopub.status.idle": "2021-01-22T10:44:58.999423Z",
     "shell.execute_reply": "2021-01-22T10:44:58.998408Z",
     "shell.execute_reply.started": "2021-01-22T10:44:58.987685Z"
    }
   },
   "outputs": [],
   "source": [
    "# initialize the Adam optimizer (used for training/updating the model)\n",
    "optimizer = optim.AdamW(params=model.parameters(), lr=1e-6)"
   ]
  },
  {
   "cell_type": "code",
   "execution_count": 26,
   "metadata": {
    "execution": {
     "iopub.execute_input": "2021-01-22T10:44:59.533127Z",
     "iopub.status.busy": "2021-01-22T10:44:59.532694Z",
     "iopub.status.idle": "2021-01-22T10:44:59.538528Z",
     "shell.execute_reply": "2021-01-22T10:44:59.537474Z",
     "shell.execute_reply.started": "2021-01-22T10:44:59.533078Z"
    }
   },
   "outputs": [],
   "source": [
    "cross_entropy_loss = torch.nn.CrossEntropyLoss()"
   ]
  },
  {
   "cell_type": "code",
   "execution_count": 27,
   "metadata": {
    "execution": {
     "iopub.execute_input": "2021-01-22T10:45:00.166136Z",
     "iopub.status.busy": "2021-01-22T10:45:00.165655Z",
     "iopub.status.idle": "2021-01-22T10:45:00.181745Z",
     "shell.execute_reply": "2021-01-22T10:45:00.181056Z",
     "shell.execute_reply.started": "2021-01-22T10:45:00.166086Z"
    }
   },
   "outputs": [
    {
     "name": "stdout",
     "output_type": "stream",
     "text": [
      "Parameter containing:\n",
      "tensor([[ 0.0260, -0.0062, -0.0041,  ...,  0.0297,  0.0242,  0.0197],\n",
      "        [ 0.0104, -0.0136,  0.0067,  ...,  0.0124,  0.0267,  0.0337],\n",
      "        [ 0.0221, -0.0036,  0.0193,  ...,  0.0069,  0.0268,  0.0050],\n",
      "        ...,\n",
      "        [ 0.0068,  0.0189,  0.0267,  ...,  0.0229,  0.0647,  0.0437],\n",
      "        [ 0.0184,  0.0148,  0.0243,  ...,  0.0321,  0.0071,  0.0204],\n",
      "        [ 0.0214,  0.0188, -0.0134,  ..., -0.0060,  0.0058, -0.0059]],\n",
      "       device='cuda:0', requires_grad=True)\n"
     ]
    }
   ],
   "source": [
    "for param in model.parameters():\n",
    "    print(param)\n",
    "    break"
   ]
  },
  {
   "cell_type": "code",
   "execution_count": 40,
   "metadata": {
    "execution": {
     "iopub.execute_input": "2021-01-22T10:56:19.777259Z",
     "iopub.status.busy": "2021-01-22T10:56:19.776951Z",
     "iopub.status.idle": "2021-01-22T10:56:19.785313Z",
     "shell.execute_reply": "2021-01-22T10:56:19.784683Z",
     "shell.execute_reply.started": "2021-01-22T10:56:19.777229Z"
    }
   },
   "outputs": [],
   "source": [
    "def train(batch, loss_fn):\n",
    "    query = example[\"query\"]\n",
    "    documents = example[\"documents\"]\n",
    "    relevance = example[\"relevance\"]\n",
    "    \n",
    "    # shuffle the indices\n",
    "    index_shuffle = list(range(len(documents)))\n",
    "    random.shuffle(index_shuffle)\n",
    "\n",
    "    documents = [documents[index_shuffle[i]] for i in range(len(documents))]\n",
    "    relevance = [relevance[index_shuffle[i]] for i in range(len(relevance))]\n",
    "    \n",
    "    q_inputs = tokenizer(query, truncation=True, padding=True, return_tensors='pt')\n",
    "    d_inputs = tokenizer(documents, truncation=True, padding=True, return_tensors='pt')\n",
    "    labels = torch.LongTensor([relevance.index('2')])\n",
    "    labels = labels.to(device)\n",
    "    # get the input batches\n",
    "    examples = { \n",
    "        'q_input_ids': q_inputs['input_ids'],\n",
    "        'q_attention_mask': q_inputs['attention_mask'],\n",
    "        'q_token_type_ids': q_inputs['token_type_ids'],\n",
    "        'd_input_ids': d_inputs['input_ids'],\n",
    "        'd_attention_mask': d_inputs['attention_mask'],\n",
    "        'd_token_type_ids': d_inputs['token_type_ids'],\n",
    "    }\n",
    "    # move the batch tensors to the same device as the \n",
    "    examples = { k: v.to(device) for k, v in examples.items() }\n",
    "    # send 'input_ids', 'attention_mask' and 'labels' to the model\n",
    "    # the outputs are of shape (loss, distances)\n",
    "    outputs = model(**examples)\n",
    "    distances = (1 - outputs).unsqueeze(0)\n",
    "    loss = loss_fn(distances, labels)\n",
    "    return loss"
   ]
  },
  {
   "cell_type": "code",
   "execution_count": null,
   "metadata": {
    "execution": {
     "iopub.execute_input": "2021-01-22T10:56:24.552418Z",
     "iopub.status.busy": "2021-01-22T10:56:24.552005Z"
    }
   },
   "outputs": [
    {
     "data": {
      "application/vnd.jupyter.widget-view+json": {
       "model_id": "218505ba7fb044fe89ce154c2ba9a4f5",
       "version_major": 2,
       "version_minor": 0
      },
      "text/plain": [
       "HBox(children=(FloatProgress(value=0.0, max=1.0), HTML(value='')))"
      ]
     },
     "metadata": {},
     "output_type": "display_data"
    },
    {
     "data": {
      "application/vnd.jupyter.widget-view+json": {
       "model_id": "b8b9d38e530b4cb7b2e11ed7ef26d85e",
       "version_major": 2,
       "version_minor": 0
      },
      "text/plain": [
       "HBox(children=(FloatProgress(value=0.0, max=719609.0), HTML(value='')))"
      ]
     },
     "metadata": {},
     "output_type": "display_data"
    }
   ],
   "source": [
    "train_loss = []\n",
    "# iterate through the data 'n_epochs' times\n",
    "for epoch in tqdmn(range(n_epochs)):\n",
    "    current_loss = 0\n",
    "    # iterate through each batch of the train data\n",
    "    for i, batch in enumerate(tqdmn(train_data)):\n",
    "        loss = train(batch, cross_entropy_loss)\n",
    "        loss.backward()\n",
    "        # Make sure deallocation has taken place\n",
    "        if torch.cuda.is_available():\n",
    "            torch.cuda.empty_cache()\n",
    "            torch.cuda.synchronize()\n",
    "        \n",
    "        # update the model using the optimizer\n",
    "        optimizer.step()\n",
    "        # once we update the model we set the gradients to zero\n",
    "        optimizer.zero_grad()\n",
    "        current_loss += loss.item()\n",
    "        if i % n_steps == 0 and i > 0:\n",
    "            # update the model using the optimizer\n",
    "            optimizer.step()\n",
    "            # once we update the model we set the gradients to zero\n",
    "            optimizer.zero_grad()\n",
    "            # store the loss value for visualization\n",
    "            train_loss.append(current_loss / (batch_size * n_steps))\n",
    "            current_loss = 0\n",
    "    # update the model one last time for this epoch\n",
    "    optimizer.step()\n",
    "    optimizer.zero_grad()"
   ]
  },
  {
   "cell_type": "code",
   "execution_count": 38,
   "metadata": {
    "execution": {
     "iopub.execute_input": "2021-01-22T10:55:39.808978Z",
     "iopub.status.busy": "2021-01-22T10:55:39.808593Z",
     "iopub.status.idle": "2021-01-22T10:55:39.822780Z",
     "shell.execute_reply": "2021-01-22T10:55:39.821881Z",
     "shell.execute_reply.started": "2021-01-22T10:55:39.808934Z"
    }
   },
   "outputs": [
    {
     "name": "stdout",
     "output_type": "stream",
     "text": [
      "Parameter containing:\n",
      "tensor([[ 0.0260, -0.0062, -0.0041,  ...,  0.0297,  0.0242,  0.0197],\n",
      "        [ 0.0104, -0.0136,  0.0067,  ...,  0.0124,  0.0267,  0.0337],\n",
      "        [ 0.0221, -0.0036,  0.0193,  ...,  0.0069,  0.0268,  0.0050],\n",
      "        ...,\n",
      "        [ 0.0068,  0.0189,  0.0267,  ...,  0.0229,  0.0647,  0.0437],\n",
      "        [ 0.0184,  0.0148,  0.0243,  ...,  0.0321,  0.0071,  0.0204],\n",
      "        [ 0.0214,  0.0188, -0.0134,  ..., -0.0060,  0.0058, -0.0059]],\n",
      "       device='cuda:0', requires_grad=True)\n"
     ]
    }
   ],
   "source": [
    "for param in model.parameters():\n",
    "    print(param)\n",
    "    break"
   ]
  },
  {
   "cell_type": "code",
   "execution_count": 39,
   "metadata": {
    "execution": {
     "iopub.execute_input": "2021-01-22T10:55:41.338731Z",
     "iopub.status.busy": "2021-01-22T10:55:41.338323Z",
     "iopub.status.idle": "2021-01-22T10:55:41.546552Z",
     "shell.execute_reply": "2021-01-22T10:55:41.545921Z",
     "shell.execute_reply.started": "2021-01-22T10:55:41.338689Z"
    }
   },
   "outputs": [
    {
     "data": {
      "image/png": "[encoded data removed]",
      "text/plain": [
       "<Figure size 720x288 with 1 Axes>"
      ]
     },
     "metadata": {
      "needs_background": "light"
     },
     "output_type": "display_data"
    }
   ],
   "source": [
    "# DEFAULT EPSILON (1e-8)\n",
    "fig, ax = plt.subplots(figsize=(10, 4))\n",
    "# visualize the loss values\n",
    "ax.plot(train_loss)\n",
    "# set the labels\n",
    "ax.set_ylabel('Loss')\n",
    "ax.set_xlabel('Iterations')\n",
    "fig.tight_layout()\n",
    "plt.show()"
   ]
  },
  {
   "cell_type": "code",
   "execution_count": 33,
   "metadata": {
    "execution": {
     "iopub.execute_input": "2021-01-16T17:51:16.723917Z",
     "iopub.status.busy": "2021-01-16T17:51:16.723496Z",
     "iopub.status.idle": "2021-01-16T17:51:16.737316Z",
     "shell.execute_reply": "2021-01-16T17:51:16.736731Z",
     "shell.execute_reply.started": "2021-01-16T17:51:16.723870Z"
    }
   },
   "outputs": [],
   "source": [
    "optimizer.zero_grad()"
   ]
  },
  {
   "cell_type": "code",
   "execution_count": 34,
   "metadata": {
    "execution": {
     "iopub.execute_input": "2021-01-16T17:51:25.396161Z",
     "iopub.status.busy": "2021-01-16T17:51:25.395619Z",
     "iopub.status.idle": "2021-01-16T17:51:25.400945Z",
     "shell.execute_reply": "2021-01-16T17:51:25.400052Z",
     "shell.execute_reply.started": "2021-01-16T17:51:25.396097Z"
    }
   },
   "outputs": [],
   "source": [
    "PATH = '../../data/models/bert_cls_sasaki18.pth'"
   ]
  },
  {
   "cell_type": "code",
   "execution_count": 35,
   "metadata": {
    "execution": {
     "iopub.execute_input": "2021-01-16T17:51:28.332020Z",
     "iopub.status.busy": "2021-01-16T17:51:28.331745Z",
     "iopub.status.idle": "2021-01-16T17:51:36.150312Z",
     "shell.execute_reply": "2021-01-16T17:51:36.149136Z",
     "shell.execute_reply.started": "2021-01-16T17:51:28.331990Z"
    }
   },
   "outputs": [],
   "source": [
    "torch.save(model.state_dict(), PATH)"
   ]
  },
  {
   "cell_type": "code",
   "execution_count": null,
   "metadata": {},
   "outputs": [],
   "source": []
  }
 ],
 "metadata": {
  "kernelspec": {
   "display_name": "Python 3",
   "language": "python",
   "name": "python3"
  },
  "language_info": {
   "codemirror_mode": {
    "name": "ipython",
    "version": 3
   },
   "file_extension": ".py",
   "mimetype": "text/x-python",
   "name": "python",
   "nbconvert_exporter": "python",
   "pygments_lexer": "ipython3",
   "version": "3.8.5"
  }
 },
 "nbformat": 4,
 "nbformat_minor": 4
}
