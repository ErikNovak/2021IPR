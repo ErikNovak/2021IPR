{
 "cells": [
  {
   "cell_type": "markdown",
   "metadata": {},
   "source": [
    "### Prepare the notebook to have access to all files"
   ]
  },
  {
   "cell_type": "code",
   "execution_count": 1,
   "metadata": {
    "execution": {
     "iopub.execute_input": "2021-01-12T11:56:13.062977Z",
     "iopub.status.busy": "2021-01-12T11:56:13.062700Z",
     "iopub.status.idle": "2021-01-12T11:56:13.067707Z",
     "shell.execute_reply": "2021-01-12T11:56:13.067004Z",
     "shell.execute_reply.started": "2021-01-12T11:56:13.062901Z"
    }
   },
   "outputs": [],
   "source": [
    "import os\n",
    "import sys\n",
    "# get the project root\n",
    "__filename__ = os.path.abspath(\"..\")\n",
    "__dirname__ = os.path.dirname(__filename__)\n",
    "if __dirname__ not in sys.path:\n",
    "    sys.path.append(__dirname__)"
   ]
  },
  {
   "cell_type": "markdown",
   "metadata": {
    "execution": {
     "iopub.execute_input": "2020-12-01T10:22:23.293558Z",
     "iopub.status.busy": "2020-12-01T10:22:23.293204Z",
     "iopub.status.idle": "2020-12-01T10:22:23.297517Z",
     "shell.execute_reply": "2020-12-01T10:22:23.296659Z",
     "shell.execute_reply.started": "2020-12-01T10:22:23.293517Z"
    }
   },
   "source": [
    "### Visualization and process library"
   ]
  },
  {
   "cell_type": "code",
   "execution_count": 2,
   "metadata": {
    "execution": {
     "iopub.execute_input": "2021-01-12T11:56:13.070832Z",
     "iopub.status.busy": "2021-01-12T11:56:13.070590Z",
     "iopub.status.idle": "2021-01-12T11:56:13.680115Z",
     "shell.execute_reply": "2021-01-12T11:56:13.679587Z",
     "shell.execute_reply.started": "2021-01-12T11:56:13.070802Z"
    }
   },
   "outputs": [],
   "source": [
    "import re\n",
    "import numpy as np\n",
    "import matplotlib.pyplot as plt\n",
    "\n",
    "import random\n",
    "\n",
    "from tqdm import notebook\n",
    "tqdmn = notebook.tqdm"
   ]
  },
  {
   "cell_type": "markdown",
   "metadata": {},
   "source": [
    "### Debugging Tool"
   ]
  },
  {
   "cell_type": "code",
   "execution_count": 3,
   "metadata": {
    "execution": {
     "iopub.execute_input": "2021-01-12T11:56:13.681214Z",
     "iopub.status.busy": "2021-01-12T11:56:13.681043Z",
     "iopub.status.idle": "2021-01-12T11:56:13.684038Z",
     "shell.execute_reply": "2021-01-12T11:56:13.683508Z",
     "shell.execute_reply.started": "2021-01-12T11:56:13.681193Z"
    }
   },
   "outputs": [],
   "source": [
    "from importlib import reload"
   ]
  },
  {
   "cell_type": "markdown",
   "metadata": {},
   "source": [
    "# Data Loading"
   ]
  },
  {
   "cell_type": "code",
   "execution_count": null,
   "metadata": {},
   "outputs": [],
   "source": [
    "from library.data_loader import get_train_datasets"
   ]
  },
  {
   "cell_type": "code",
   "execution_count": 9,
   "metadata": {
    "execution": {
     "iopub.execute_input": "2021-01-12T11:56:14.481514Z",
     "iopub.status.busy": "2021-01-12T11:56:14.481123Z",
     "iopub.status.idle": "2021-01-12T11:56:14.602334Z",
     "shell.execute_reply": "2021-01-12T11:56:14.601256Z",
     "shell.execute_reply.started": "2021-01-12T11:56:14.481466Z"
    }
   },
   "outputs": [],
   "source": [
    "data = {\n",
    "    \"data_en_de\": None,\n",
    "    \"data_en_fr\": None,\n",
    "    \"data_en_tl\": None,\n",
    "}"
   ]
  },
  {
   "cell_type": "code",
   "execution_count": 10,
   "metadata": {
    "execution": {
     "iopub.execute_input": "2021-01-12T11:56:14.604981Z",
     "iopub.status.busy": "2021-01-12T11:56:14.604619Z",
     "iopub.status.idle": "2021-01-12T11:57:45.401855Z",
     "shell.execute_reply": "2021-01-12T11:57:45.400921Z",
     "shell.execute_reply.started": "2021-01-12T11:56:14.604936Z"
    }
   },
   "outputs": [],
   "source": [
    "for key in data.keys():\n",
    "    data[key] = get_train_datasets(key)"
   ]
  },
  {
   "cell_type": "code",
   "execution_count": 11,
   "metadata": {
    "execution": {
     "iopub.execute_input": "2021-01-12T11:57:45.403727Z",
     "iopub.status.busy": "2021-01-12T11:57:45.403458Z",
     "iopub.status.idle": "2021-01-12T11:57:45.407706Z",
     "shell.execute_reply": "2021-01-12T11:57:45.407023Z",
     "shell.execute_reply.started": "2021-01-12T11:57:45.403697Z"
    }
   },
   "outputs": [],
   "source": [
    "all_data = { \"query\": [], \"documents\": [], \"relevance\": [] }"
   ]
  },
  {
   "cell_type": "code",
   "execution_count": 12,
   "metadata": {
    "execution": {
     "iopub.execute_input": "2021-01-12T11:57:45.409137Z",
     "iopub.status.busy": "2021-01-12T11:57:45.408862Z",
     "iopub.status.idle": "2021-01-12T11:57:46.821857Z",
     "shell.execute_reply": "2021-01-12T11:57:46.820949Z",
     "shell.execute_reply.started": "2021-01-12T11:57:45.409102Z"
    }
   },
   "outputs": [],
   "source": [
    "for key in data.keys():\n",
    "    all_data[\"query\"] = all_data[\"query\"] + data[key][\"query\"]\n",
    "    all_data[\"documents\"] = all_data[\"documents\"] + data[key][\"documents\"]\n",
    "    all_data[\"relevance\"] = all_data[\"relevance\"] + data[key][\"relevance\"]"
   ]
  },
  {
   "cell_type": "markdown",
   "metadata": {},
   "source": [
    "# Model Libraries"
   ]
  },
  {
   "cell_type": "code",
   "execution_count": 13,
   "metadata": {
    "execution": {
     "iopub.execute_input": "2021-01-12T11:57:46.823377Z",
     "iopub.status.busy": "2021-01-12T11:57:46.823113Z",
     "iopub.status.idle": "2021-01-12T11:57:51.149510Z",
     "shell.execute_reply": "2021-01-12T11:57:51.148817Z",
     "shell.execute_reply.started": "2021-01-12T11:57:46.823340Z"
    }
   },
   "outputs": [],
   "source": [
    "import torch\n",
    "import torch.nn as nn\n",
    "import torch.nn.functional as f\n",
    "import torch.optim as optim\n",
    "# import transformers\n",
    "from transformers import BertTokenizer\n",
    "# import datasets\n",
    "from datasets import Dataset\n",
    "\n",
    "# import the NEW method\n",
    "import library.bert_emd"
   ]
  },
  {
   "cell_type": "code",
   "execution_count": 14,
   "metadata": {
    "execution": {
     "iopub.execute_input": "2021-01-12T11:57:51.150826Z",
     "iopub.status.busy": "2021-01-12T11:57:51.150654Z",
     "iopub.status.idle": "2021-01-12T11:57:51.156646Z",
     "shell.execute_reply": "2021-01-12T11:57:51.156122Z",
     "shell.execute_reply.started": "2021-01-12T11:57:51.150804Z"
    }
   },
   "outputs": [
    {
     "data": {
      "text/plain": [
       "<module 'library.bert_wmd' from '/home/erikn/Documents/code/research/library/bert_wmd.py'>"
      ]
     },
     "execution_count": 14,
     "metadata": {},
     "output_type": "execute_result"
    }
   ],
   "source": [
    "reload(library.bert_emd)"
   ]
  },
  {
   "cell_type": "markdown",
   "metadata": {},
   "source": [
    "## Model Training"
   ]
  },
  {
   "cell_type": "code",
   "execution_count": 15,
   "metadata": {
    "execution": {
     "iopub.execute_input": "2021-01-12T11:57:51.157703Z",
     "iopub.status.busy": "2021-01-12T11:57:51.157523Z",
     "iopub.status.idle": "2021-01-12T11:58:03.788629Z",
     "shell.execute_reply": "2021-01-12T11:58:03.787802Z",
     "shell.execute_reply.started": "2021-01-12T11:57:51.157682Z"
    }
   },
   "outputs": [],
   "source": [
    "dataset = Dataset.from_dict(all_data)"
   ]
  },
  {
   "cell_type": "code",
   "execution_count": 16,
   "metadata": {
    "execution": {
     "iopub.execute_input": "2021-01-12T11:58:03.790478Z",
     "iopub.status.busy": "2021-01-12T11:58:03.790270Z",
     "iopub.status.idle": "2021-01-12T11:58:03.971422Z",
     "shell.execute_reply": "2021-01-12T11:58:03.970411Z",
     "shell.execute_reply.started": "2021-01-12T11:58:03.790450Z"
    }
   },
   "outputs": [],
   "source": [
    "batch_size = 5\n",
    "n_epochs = 1\n",
    "n_steps = 16"
   ]
  },
  {
   "cell_type": "code",
   "execution_count": 17,
   "metadata": {
    "execution": {
     "iopub.execute_input": "2021-01-12T11:58:03.973498Z",
     "iopub.status.busy": "2021-01-12T11:58:03.973122Z",
     "iopub.status.idle": "2021-01-12T11:58:04.071696Z",
     "shell.execute_reply": "2021-01-12T11:58:04.070617Z",
     "shell.execute_reply.started": "2021-01-12T11:58:03.973450Z"
    }
   },
   "outputs": [],
   "source": [
    "# set the device on which we will train the model\n",
    "device = torch.device(\"cuda\" if torch.cuda.is_available() else \"cpu\")"
   ]
  },
  {
   "cell_type": "code",
   "execution_count": 18,
   "metadata": {
    "execution": {
     "iopub.execute_input": "2021-01-12T11:58:04.073596Z",
     "iopub.status.busy": "2021-01-12T11:58:04.073213Z",
     "iopub.status.idle": "2021-01-12T11:58:04.171092Z",
     "shell.execute_reply": "2021-01-12T11:58:04.169983Z",
     "shell.execute_reply.started": "2021-01-12T11:58:04.073543Z"
    }
   },
   "outputs": [],
   "source": [
    "# prepare the dataset loader\n",
    "train_data = torch.utils.data.DataLoader(dataset, batch_size=batch_size)"
   ]
  },
  {
   "cell_type": "code",
   "execution_count": 19,
   "metadata": {
    "execution": {
     "iopub.execute_input": "2021-01-12T11:58:04.173095Z",
     "iopub.status.busy": "2021-01-12T11:58:04.172711Z",
     "iopub.status.idle": "2021-01-12T11:58:07.085255Z",
     "shell.execute_reply": "2021-01-12T11:58:07.084586Z",
     "shell.execute_reply.started": "2021-01-12T11:58:04.173049Z"
    }
   },
   "outputs": [],
   "source": [
    "# get the bert tokenizer\n",
    "tokenizer = BertTokenizer.from_pretrained('bert-base-multilingual-cased')"
   ]
  },
  {
   "cell_type": "code",
   "execution_count": 20,
   "metadata": {
    "execution": {
     "iopub.execute_input": "2021-01-12T11:58:07.086506Z",
     "iopub.status.busy": "2021-01-12T11:58:07.086312Z",
     "iopub.status.idle": "2021-01-12T11:58:15.578251Z",
     "shell.execute_reply": "2021-01-12T11:58:15.577337Z",
     "shell.execute_reply.started": "2021-01-12T11:58:07.086483Z"
    }
   },
   "outputs": [],
   "source": [
    "# load the NEW method used for CLIR\n",
    "model = library.bert_emd.BERT_EMD().train().to(device)"
   ]
  },
  {
   "cell_type": "code",
   "execution_count": 21,
   "metadata": {
    "execution": {
     "iopub.execute_input": "2021-01-12T11:58:15.579822Z",
     "iopub.status.busy": "2021-01-12T11:58:15.579624Z",
     "iopub.status.idle": "2021-01-12T11:58:15.585743Z",
     "shell.execute_reply": "2021-01-12T11:58:15.585007Z",
     "shell.execute_reply.started": "2021-01-12T11:58:15.579797Z"
    }
   },
   "outputs": [],
   "source": [
    "# initialize the Adam optimizer (used for training/updating the model)\n",
    "optimizer = optim.AdamW(params=model.parameters(), lr=1e-6)"
   ]
  },
  {
   "cell_type": "code",
   "execution_count": 22,
   "metadata": {
    "execution": {
     "iopub.execute_input": "2021-01-12T11:58:15.586815Z",
     "iopub.status.busy": "2021-01-12T11:58:15.586642Z",
     "iopub.status.idle": "2021-01-12T11:58:15.661593Z",
     "shell.execute_reply": "2021-01-12T11:58:15.661001Z",
     "shell.execute_reply.started": "2021-01-12T11:58:15.586795Z"
    }
   },
   "outputs": [],
   "source": [
    "cross_entropy_loss = torch.nn.CrossEntropyLoss()"
   ]
  },
  {
   "cell_type": "code",
   "execution_count": 23,
   "metadata": {
    "execution": {
     "iopub.execute_input": "2021-01-12T11:58:15.663004Z",
     "iopub.status.busy": "2021-01-12T11:58:15.662761Z",
     "iopub.status.idle": "2021-01-12T11:58:15.746972Z",
     "shell.execute_reply": "2021-01-12T11:58:15.745905Z",
     "shell.execute_reply.started": "2021-01-12T11:58:15.662976Z"
    }
   },
   "outputs": [
    {
     "name": "stdout",
     "output_type": "stream",
     "text": [
      "Parameter containing:\n",
      "tensor([[ 0.0260, -0.0062, -0.0041,  ...,  0.0297,  0.0242,  0.0197],\n",
      "        [ 0.0104, -0.0136,  0.0067,  ...,  0.0124,  0.0267,  0.0337],\n",
      "        [ 0.0221, -0.0036,  0.0193,  ...,  0.0069,  0.0268,  0.0050],\n",
      "        ...,\n",
      "        [ 0.0068,  0.0189,  0.0267,  ...,  0.0229,  0.0647,  0.0437],\n",
      "        [ 0.0184,  0.0148,  0.0243,  ...,  0.0321,  0.0071,  0.0204],\n",
      "        [ 0.0214,  0.0188, -0.0134,  ..., -0.0060,  0.0058, -0.0059]],\n",
      "       device='cuda:0', requires_grad=True)\n"
     ]
    }
   ],
   "source": [
    "for param in model.parameters():\n",
    "    print(param)\n",
    "    break"
   ]
  },
  {
   "cell_type": "code",
   "execution_count": 24,
   "metadata": {
    "execution": {
     "iopub.execute_input": "2021-01-12T11:58:15.750852Z",
     "iopub.status.busy": "2021-01-12T11:58:15.750676Z",
     "iopub.status.idle": "2021-01-12T11:58:15.812473Z",
     "shell.execute_reply": "2021-01-12T11:58:15.811762Z",
     "shell.execute_reply.started": "2021-01-12T11:58:15.750831Z"
    }
   },
   "outputs": [],
   "source": [
    "def train(batch, loss_fn):\n",
    "    query = example[\"query\"]\n",
    "    documents = example[\"documents\"]\n",
    "    relevance = example[\"relevance\"]\n",
    "    \n",
    "    # shuffle the indices\n",
    "    index_shuffle = list(range(len(documents)))\n",
    "    random.shuffle(index_shuffle)\n",
    "\n",
    "    documents = [documents[index_shuffle[i]] for i in range(len(documents))]\n",
    "    relevance = [relevance[index_shuffle[i]] for i in range(len(relevance))]\n",
    "    \n",
    "    q_inputs = tokenizer(query, truncation=True, padding=True, return_tensors='pt')\n",
    "    d_inputs = tokenizer(documents, truncation=True, padding=True, return_tensors='pt')\n",
    "    labels = torch.LongTensor([relevance.index('2')])\n",
    "    labels = labels.to(device)\n",
    "    # get the input batches\n",
    "    examples = { \n",
    "        'q_input_ids': q_inputs['input_ids'],\n",
    "        'q_attention_mask': q_inputs['attention_mask'],\n",
    "        'q_token_type_ids': q_inputs['token_type_ids'],\n",
    "        'd_input_ids': d_inputs['input_ids'],\n",
    "        'd_attention_mask': d_inputs['attention_mask'],\n",
    "        'd_token_type_ids': d_inputs['token_type_ids'],\n",
    "    }\n",
    "    # move the batch tensors to the same device as the \n",
    "    examples = { k: v.to(device) for k, v in examples.items() }\n",
    "    # send 'input_ids', 'attention_mask' and 'labels' to the model\n",
    "    # the outputs are of shape (loss, distances)\n",
    "    outputs = model(**examples)\n",
    "    distances = (1 - outputs[0]).unsqueeze(0)\n",
    "    loss = loss_fn(distances, labels)\n",
    "    return loss"
   ]
  },
  {
   "cell_type": "code",
   "execution_count": null,
   "metadata": {
    "execution": {
     "iopub.execute_input": "2021-01-12T11:58:15.814123Z",
     "iopub.status.busy": "2021-01-12T11:58:15.813894Z"
    }
   },
   "outputs": [
    {
     "data": {
      "application/vnd.jupyter.widget-view+json": {
       "model_id": "eb49cd8b1c5048c485a1d82f19c5d326",
       "version_major": 2,
       "version_minor": 0
      },
      "text/plain": [
       "HBox(children=(FloatProgress(value=0.0, max=1.0), HTML(value='')))"
      ]
     },
     "metadata": {},
     "output_type": "display_data"
    },
    {
     "data": {
      "application/vnd.jupyter.widget-view+json": {
       "model_id": "2c1b9ee4e4f74934bdc59802de02357e",
       "version_major": 2,
       "version_minor": 0
      },
      "text/plain": [
       "HBox(children=(FloatProgress(value=0.0, max=719609.0), HTML(value='')))"
      ]
     },
     "metadata": {},
     "output_type": "display_data"
    }
   ],
   "source": [
    "train_loss = []\n",
    "# iterate through the data 'n_epochs' times\n",
    "for epoch in tqdmn(range(n_epochs)):\n",
    "    current_loss = 0\n",
    "    # iterate through each batch of the train data\n",
    "    for i, batch in enumerate(tqdmn(train_data)):\n",
    "        loss = train(batch, cross_entropy_loss)\n",
    "        loss.backward()\n",
    "        # Make sure deallocation has taken place\n",
    "        if torch.cuda.is_available():\n",
    "            torch.cuda.empty_cache()\n",
    "            torch.cuda.synchronize()\n",
    "        \n",
    "        # update the model using the optimizer\n",
    "        optimizer.step()\n",
    "        # once we update the model we set the gradients to zero\n",
    "        optimizer.zero_grad()\n",
    "        current_loss += loss.item()\n",
    "        if i % n_steps == 0 and i > 0:\n",
    "            # update the model using the optimizer\n",
    "            optimizer.step()\n",
    "            # once we update the model we set the gradients to zero\n",
    "            optimizer.zero_grad()\n",
    "            # store the loss value for visualization\n",
    "            train_loss.append(current_loss / (batch_size * n_steps))\n",
    "            current_loss = 0\n",
    "    # update the model one last time for this epoch\n",
    "    optimizer.step()\n",
    "    optimizer.zero_grad()"
   ]
  },
  {
   "cell_type": "code",
   "execution_count": 31,
   "metadata": {
    "execution": {
     "iopub.execute_input": "2021-01-16T17:51:02.659982Z",
     "iopub.status.busy": "2021-01-16T17:51:02.659522Z",
     "iopub.status.idle": "2021-01-16T17:51:02.692566Z",
     "shell.execute_reply": "2021-01-16T17:51:02.691918Z",
     "shell.execute_reply.started": "2021-01-16T17:51:02.659931Z"
    }
   },
   "outputs": [
    {
     "name": "stdout",
     "output_type": "stream",
     "text": [
      "Parameter containing:\n",
      "tensor([[ 0.0260, -0.0062, -0.0041,  ...,  0.0297,  0.0242,  0.0197],\n",
      "        [ 0.0104, -0.0136,  0.0067,  ...,  0.0124,  0.0267,  0.0337],\n",
      "        [ 0.0221, -0.0036,  0.0193,  ...,  0.0069,  0.0268,  0.0050],\n",
      "        ...,\n",
      "        [ 0.0068,  0.0189,  0.0267,  ...,  0.0229,  0.0647,  0.0437],\n",
      "        [ 0.0184,  0.0148,  0.0243,  ...,  0.0321,  0.0071,  0.0204],\n",
      "        [ 0.0214,  0.0188, -0.0134,  ..., -0.0060,  0.0058, -0.0059]],\n",
      "       device='cuda:0', requires_grad=True)\n"
     ]
    }
   ],
   "source": [
    "for param in model.parameters():\n",
    "    print(param)\n",
    "    break"
   ]
  },
  {
   "cell_type": "code",
   "execution_count": 32,
   "metadata": {
    "execution": {
     "iopub.execute_input": "2021-01-16T17:51:04.147067Z",
     "iopub.status.busy": "2021-01-16T17:51:04.146643Z",
     "iopub.status.idle": "2021-01-16T17:51:04.447183Z",
     "shell.execute_reply": "2021-01-16T17:51:04.446680Z",
     "shell.execute_reply.started": "2021-01-16T17:51:04.147019Z"
    }
   },
   "outputs": [
    {
     "data": {
      "image/png": "[encoded data removed]",
      "text/plain": [
       "<Figure size 720x288 with 1 Axes>"
      ]
     },
     "metadata": {
      "needs_background": "light"
     },
     "output_type": "display_data"
    }
   ],
   "source": [
    "# DEFAULT EPSILON (1e-8)\n",
    "fig, ax = plt.subplots(figsize=(10, 4))\n",
    "# visualize the loss values\n",
    "ax.plot(train_loss)\n",
    "# set the labels\n",
    "ax.set_ylabel('Loss')\n",
    "ax.set_xlabel('Iterations')\n",
    "fig.tight_layout()\n",
    "plt.show()"
   ]
  },
  {
   "cell_type": "code",
   "execution_count": 33,
   "metadata": {
    "execution": {
     "iopub.execute_input": "2021-01-16T17:51:16.723917Z",
     "iopub.status.busy": "2021-01-16T17:51:16.723496Z",
     "iopub.status.idle": "2021-01-16T17:51:16.737316Z",
     "shell.execute_reply": "2021-01-16T17:51:16.736731Z",
     "shell.execute_reply.started": "2021-01-16T17:51:16.723870Z"
    }
   },
   "outputs": [],
   "source": [
    "optimizer.zero_grad()"
   ]
  },
  {
   "cell_type": "code",
   "execution_count": 34,
   "metadata": {
    "execution": {
     "iopub.execute_input": "2021-01-16T17:51:25.396161Z",
     "iopub.status.busy": "2021-01-16T17:51:25.395619Z",
     "iopub.status.idle": "2021-01-16T17:51:25.400945Z",
     "shell.execute_reply": "2021-01-16T17:51:25.400052Z",
     "shell.execute_reply.started": "2021-01-16T17:51:25.396097Z"
    }
   },
   "outputs": [],
   "source": [
    "PATH = '../../data/models/bert_emd_sasaki18.pth'"
   ]
  },
  {
   "cell_type": "code",
   "execution_count": 35,
   "metadata": {
    "execution": {
     "iopub.execute_input": "2021-01-16T17:51:28.332020Z",
     "iopub.status.busy": "2021-01-16T17:51:28.331745Z",
     "iopub.status.idle": "2021-01-16T17:51:36.150312Z",
     "shell.execute_reply": "2021-01-16T17:51:36.149136Z",
     "shell.execute_reply.started": "2021-01-16T17:51:28.331990Z"
    }
   },
   "outputs": [],
   "source": [
    "torch.save(model.state_dict(), PATH)"
   ]
  },
  {
   "cell_type": "code",
   "execution_count": null,
   "metadata": {},
   "outputs": [],
   "source": []
  }
 ],
 "metadata": {
  "kernelspec": {
   "display_name": "Python 3",
   "language": "python",
   "name": "python3"
  },
  "language_info": {
   "codemirror_mode": {
    "name": "ipython",
    "version": 3
   },
   "file_extension": ".py",
   "mimetype": "text/x-python",
   "name": "python",
   "nbconvert_exporter": "python",
   "pygments_lexer": "ipython3",
   "version": "3.8.5"
  }
 },
 "nbformat": 4,
 "nbformat_minor": 4
}