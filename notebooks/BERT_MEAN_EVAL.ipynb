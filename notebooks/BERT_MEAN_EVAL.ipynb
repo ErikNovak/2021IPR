{
 "cells": [
  {
   "cell_type": "markdown",
   "metadata": {},
   "source": [
    "### Prepare the notebook to have access to all files"
   ]
  },
  {
   "cell_type": "code",
   "execution_count": 1,
   "metadata": {
    "ExecuteTime": {
     "end_time": "2021-01-26T17:40:38.870367Z",
     "start_time": "2021-01-26T17:40:38.864866Z"
    },
    "execution": {
     "iopub.execute_input": "2021-01-16T17:53:39.037324Z",
     "iopub.status.busy": "2021-01-16T17:53:39.037006Z",
     "iopub.status.idle": "2021-01-16T17:53:39.041980Z",
     "shell.execute_reply": "2021-01-16T17:53:39.041115Z",
     "shell.execute_reply.started": "2021-01-16T17:53:39.037270Z"
    }
   },
   "outputs": [],
   "source": [
    "import os\n",
    "import sys\n",
    "# get the project root\n",
    "__filename__ = os.path.abspath(\".\")\n",
    "__dirname__ = os.path.dirname(__filename__)\n",
    "if __dirname__ not in sys.path:\n",
    "    sys.path.append(__dirname__)"
   ]
  },
  {
   "cell_type": "markdown",
   "metadata": {
    "execution": {
     "iopub.execute_input": "2020-12-01T10:22:23.293558Z",
     "iopub.status.busy": "2020-12-01T10:22:23.293204Z",
     "iopub.status.idle": "2020-12-01T10:22:23.297517Z",
     "shell.execute_reply": "2020-12-01T10:22:23.296659Z",
     "shell.execute_reply.started": "2020-12-01T10:22:23.293517Z"
    }
   },
   "source": [
    "### Visualization and process library"
   ]
  },
  {
   "cell_type": "code",
   "execution_count": 2,
   "metadata": {
    "ExecuteTime": {
     "end_time": "2021-01-26T17:40:39.407462Z",
     "start_time": "2021-01-26T17:40:38.872522Z"
    },
    "execution": {
     "iopub.execute_input": "2021-01-16T17:53:39.045832Z",
     "iopub.status.busy": "2021-01-16T17:53:39.045637Z",
     "iopub.status.idle": "2021-01-16T17:53:41.340312Z",
     "shell.execute_reply": "2021-01-16T17:53:41.339467Z",
     "shell.execute_reply.started": "2021-01-16T17:53:39.045808Z"
    }
   },
   "outputs": [],
   "source": [
    "import random\n",
    "import pandas as pd\n",
    "from tqdm import notebook\n",
    "tqdmn = notebook.tqdm"
   ]
  },
  {
   "cell_type": "markdown",
   "metadata": {},
   "source": [
    "### Debugging Tool"
   ]
  },
  {
   "cell_type": "code",
   "execution_count": 3,
   "metadata": {
    "ExecuteTime": {
     "end_time": "2021-01-26T17:40:39.412504Z",
     "start_time": "2021-01-26T17:40:39.409551Z"
    },
    "execution": {
     "iopub.execute_input": "2021-01-16T17:53:41.342300Z",
     "iopub.status.busy": "2021-01-16T17:53:41.342060Z",
     "iopub.status.idle": "2021-01-16T17:53:41.346591Z",
     "shell.execute_reply": "2021-01-16T17:53:41.345836Z",
     "shell.execute_reply.started": "2021-01-16T17:53:41.342271Z"
    }
   },
   "outputs": [],
   "source": [
    "from importlib import reload"
   ]
  },
  {
   "cell_type": "markdown",
   "metadata": {},
   "source": [
    "# Data Loading"
   ]
  },
  {
   "cell_type": "code",
   "execution_count": 4,
   "metadata": {
    "ExecuteTime": {
     "end_time": "2021-01-26T17:40:40.458896Z",
     "start_time": "2021-01-26T17:40:39.414556Z"
    },
    "execution": {
     "iopub.execute_input": "2021-01-25T09:39:08.011699Z",
     "iopub.status.busy": "2021-01-25T09:39:08.011249Z",
     "iopub.status.idle": "2021-01-25T09:39:08.017340Z",
     "shell.execute_reply": "2021-01-25T09:39:08.016222Z",
     "shell.execute_reply.started": "2021-01-25T09:39:08.011647Z"
    }
   },
   "outputs": [],
   "source": [
    "from library.data_loader import get_test_datasets"
   ]
  },
  {
   "cell_type": "code",
   "execution_count": 5,
   "metadata": {
    "ExecuteTime": {
     "end_time": "2021-01-26T17:40:40.463498Z",
     "start_time": "2021-01-26T17:40:40.460744Z"
    },
    "execution": {
     "iopub.execute_input": "2021-01-25T11:17:05.759897Z",
     "iopub.status.busy": "2021-01-25T11:17:05.759425Z",
     "iopub.status.idle": "2021-01-25T11:17:05.764925Z",
     "shell.execute_reply": "2021-01-25T11:17:05.763936Z",
     "shell.execute_reply.started": "2021-01-25T11:17:05.759848Z"
    }
   },
   "outputs": [],
   "source": [
    "test_data = {\n",
    "    \"data_en_de\": None,\n",
    "    \"data_en_fr\": None,\n",
    "    \"data_en_tl\": None,\n",
    "}"
   ]
  },
  {
   "cell_type": "code",
   "execution_count": 6,
   "metadata": {
    "ExecuteTime": {
     "end_time": "2021-01-26T17:42:34.658567Z",
     "start_time": "2021-01-26T17:40:40.464996Z"
    },
    "execution": {
     "iopub.execute_input": "2021-01-25T11:17:06.111576Z",
     "iopub.status.busy": "2021-01-25T11:17:06.111159Z",
     "iopub.status.idle": "2021-01-25T11:19:29.638316Z",
     "shell.execute_reply": "2021-01-25T11:19:29.637327Z",
     "shell.execute_reply.started": "2021-01-25T11:17:06.111532Z"
    }
   },
   "outputs": [],
   "source": [
    "for key in test_data.keys():\n",
    "    test_data[key] = get_test_datasets(key)"
   ]
  },
  {
   "cell_type": "markdown",
   "metadata": {},
   "source": [
    "# Model Libraries"
   ]
  },
  {
   "cell_type": "code",
   "execution_count": 7,
   "metadata": {
    "ExecuteTime": {
     "end_time": "2021-01-26T17:42:34.705530Z",
     "start_time": "2021-01-26T17:42:34.660933Z"
    },
    "execution": {
     "iopub.execute_input": "2021-01-16T17:57:24.979975Z",
     "iopub.status.busy": "2021-01-16T17:57:24.979786Z",
     "iopub.status.idle": "2021-01-16T17:57:26.383981Z",
     "shell.execute_reply": "2021-01-16T17:57:26.383322Z",
     "shell.execute_reply.started": "2021-01-16T17:57:24.979953Z"
    }
   },
   "outputs": [],
   "source": [
    "import torch\n",
    "import torch.nn as nn\n",
    "import torch.nn.functional as f\n",
    "import torch.optim as optim\n",
    "# import transformers\n",
    "from transformers import BertTokenizer\n",
    "# import datasets\n",
    "from datasets import Dataset\n",
    "# import the NEW method\n",
    "import library.bert_mean"
   ]
  },
  {
   "cell_type": "code",
   "execution_count": 8,
   "metadata": {
    "ExecuteTime": {
     "end_time": "2021-01-26T17:42:34.984959Z",
     "start_time": "2021-01-26T17:42:34.708157Z"
    },
    "execution": {
     "iopub.execute_input": "2021-01-16T17:57:26.385086Z",
     "iopub.status.busy": "2021-01-16T17:57:26.384902Z",
     "iopub.status.idle": "2021-01-16T17:57:26.390137Z",
     "shell.execute_reply": "2021-01-16T17:57:26.389404Z",
     "shell.execute_reply.started": "2021-01-16T17:57:26.385063Z"
    }
   },
   "outputs": [
    {
     "data": {
      "text/plain": [
       "<module 'library.bert_mean' from '/home/erikn/Documents/code/papers/Paper-2021-IPR/library/bert_mean.py'>"
      ]
     },
     "execution_count": 8,
     "metadata": {},
     "output_type": "execute_result"
    }
   ],
   "source": [
    "reload(library.bert_mean)"
   ]
  },
  {
   "cell_type": "code",
   "execution_count": 9,
   "metadata": {
    "ExecuteTime": {
     "end_time": "2021-01-26T17:42:35.320905Z",
     "start_time": "2021-01-26T17:42:34.986999Z"
    },
    "execution": {
     "iopub.execute_input": "2021-01-16T17:57:26.391268Z",
     "iopub.status.busy": "2021-01-16T17:57:26.391007Z",
     "iopub.status.idle": "2021-01-16T17:57:26.479064Z",
     "shell.execute_reply": "2021-01-16T17:57:26.477968Z",
     "shell.execute_reply.started": "2021-01-16T17:57:26.391246Z"
    }
   },
   "outputs": [],
   "source": [
    "# set the device on which we will train the model\n",
    "device = torch.device(\"cuda\" if torch.cuda.is_available() else \"cpu\")"
   ]
  },
  {
   "cell_type": "code",
   "execution_count": 10,
   "metadata": {
    "ExecuteTime": {
     "end_time": "2021-01-26T17:42:36.230669Z",
     "start_time": "2021-01-26T17:42:35.323259Z"
    },
    "execution": {
     "iopub.execute_input": "2021-01-16T17:57:26.480948Z",
     "iopub.status.busy": "2021-01-16T17:57:26.480577Z",
     "iopub.status.idle": "2021-01-16T17:57:27.127901Z",
     "shell.execute_reply": "2021-01-16T17:57:27.127199Z",
     "shell.execute_reply.started": "2021-01-16T17:57:26.480903Z"
    }
   },
   "outputs": [],
   "source": [
    "# get the bert tokenizer\n",
    "tokenizer = BertTokenizer.from_pretrained('bert-base-multilingual-cased')"
   ]
  },
  {
   "cell_type": "code",
   "execution_count": 11,
   "metadata": {
    "ExecuteTime": {
     "end_time": "2021-01-26T17:42:36.235290Z",
     "start_time": "2021-01-26T17:42:36.232591Z"
    },
    "execution": {
     "iopub.execute_input": "2021-01-16T17:57:27.129067Z",
     "iopub.status.busy": "2021-01-16T17:57:27.128901Z",
     "iopub.status.idle": "2021-01-16T17:57:27.132375Z",
     "shell.execute_reply": "2021-01-16T17:57:27.131683Z",
     "shell.execute_reply.started": "2021-01-16T17:57:27.129046Z"
    }
   },
   "outputs": [],
   "source": [
    "PATH = '../data/models/bert_mean_sasaki18.pth'"
   ]
  },
  {
   "cell_type": "code",
   "execution_count": 12,
   "metadata": {
    "ExecuteTime": {
     "end_time": "2021-01-26T17:42:45.863989Z",
     "start_time": "2021-01-26T17:42:36.237176Z"
    },
    "execution": {
     "iopub.execute_input": "2021-01-16T17:57:27.133404Z",
     "iopub.status.busy": "2021-01-16T17:57:27.133237Z",
     "iopub.status.idle": "2021-01-16T17:57:36.700900Z",
     "shell.execute_reply": "2021-01-16T17:57:36.699953Z",
     "shell.execute_reply.started": "2021-01-16T17:57:27.133383Z"
    }
   },
   "outputs": [],
   "source": [
    "# load the NEW method used for CLIR\n",
    "model = library.bert_mean.BERT_MEAN()\n",
    "model.load_state_dict(torch.load(PATH))\n",
    "model = model.eval().to(device)"
   ]
  },
  {
   "cell_type": "code",
   "execution_count": 13,
   "metadata": {
    "ExecuteTime": {
     "end_time": "2021-01-26T17:42:45.870175Z",
     "start_time": "2021-01-26T17:42:45.866146Z"
    },
    "execution": {
     "iopub.execute_input": "2021-01-16T17:57:36.702473Z",
     "iopub.status.busy": "2021-01-16T17:57:36.702281Z",
     "iopub.status.idle": "2021-01-16T17:57:36.707073Z",
     "shell.execute_reply": "2021-01-16T17:57:36.706433Z",
     "shell.execute_reply.started": "2021-01-16T17:57:36.702450Z"
    }
   },
   "outputs": [],
   "source": [
    "def format_evaluation(d):\n",
    "    return {\n",
    "        \"model\": d[\"model\"],\n",
    "        \"q_lang\": d[\"q_lang\"],\n",
    "        \"d_lang\": d[\"d_lang\"],\n",
    "        \"P@1\": d[\"P@1\"],\n",
    "        \"MAP\": d[\"MAP\"],\n",
    "    }"
   ]
  },
  {
   "cell_type": "code",
   "execution_count": 14,
   "metadata": {
    "ExecuteTime": {
     "end_time": "2021-01-26T17:42:46.117175Z",
     "start_time": "2021-01-26T17:42:45.872138Z"
    },
    "execution": {
     "iopub.execute_input": "2021-01-16T17:57:36.708205Z",
     "iopub.status.busy": "2021-01-16T17:57:36.707996Z",
     "iopub.status.idle": "2021-01-16T17:57:36.835402Z",
     "shell.execute_reply": "2021-01-16T17:57:36.834667Z",
     "shell.execute_reply.started": "2021-01-16T17:57:36.708183Z"
    }
   },
   "outputs": [],
   "source": [
    "def evaluate(batch):\n",
    "    q_inputs = tokenizer(batch['query'], truncation=True, padding=True, return_tensors='pt')\n",
    "    d_inputs = tokenizer(batch['documents'], truncation=True, padding=True, return_tensors='pt')\n",
    "    # get the input batches\n",
    "    examples = { \n",
    "        'q_input_ids': q_inputs['input_ids'],\n",
    "        'q_attention_mask': q_inputs['attention_mask'],\n",
    "        'q_token_type_ids': q_inputs['token_type_ids'],\n",
    "        'd_input_ids': d_inputs['input_ids'],\n",
    "        'd_attention_mask': d_inputs['attention_mask'],\n",
    "        'd_token_type_ids': d_inputs['token_type_ids'],\n",
    "    }\n",
    "    # move the batch tensors to the same device as the \n",
    "    examples = { k: v.to(device) for k, v in examples.items() }\n",
    "    # send 'input_ids', 'attention_mask' and 'labels' to the model\n",
    "    # the outputs are of shape (loss, distances)\n",
    "    outputs = model(**examples)\n",
    "    return outputs"
   ]
  },
  {
   "cell_type": "code",
   "execution_count": 15,
   "metadata": {
    "ExecuteTime": {
     "end_time": "2021-01-26T17:42:46.282955Z",
     "start_time": "2021-01-26T17:42:46.120415Z"
    },
    "execution": {
     "iopub.execute_input": "2021-01-16T17:57:36.836873Z",
     "iopub.status.busy": "2021-01-16T17:57:36.836630Z",
     "iopub.status.idle": "2021-01-16T17:57:36.911912Z",
     "shell.execute_reply": "2021-01-16T17:57:36.910984Z",
     "shell.execute_reply.started": "2021-01-16T17:57:36.836844Z"
    }
   },
   "outputs": [],
   "source": [
    "def get_average_precision_at_k(params, model):\n",
    "    # get parameters for calculation\n",
    "    labels = torch.Tensor(params[\"relevance\"])\n",
    "    # get the loss values\n",
    "    with torch.no_grad():\n",
    "        outputs = evaluate(params)\n",
    "        # sort the instances\n",
    "        distances = outputs[0].detach().cpu()\n",
    "        # delete the outputs\n",
    "        del outputs\n",
    "    # Make sure deallocation has taken place\n",
    "    if torch.cuda.is_available():\n",
    "        torch.cuda.empty_cache()\n",
    "        torch.cuda.synchronize()\n",
    "    \n",
    "    # get the sort indices\n",
    "    sort_indices = distances.argsort()\n",
    "    # sort the labels values based on the similarity order\n",
    "    RelAtK = labels[sort_indices]\n",
    "    # get the cummulative sum over the whole labels list\n",
    "    cum_labels = RelAtK.cumsum(dim=0)\n",
    "    # calculate the precision at k value over the whole list\n",
    "    PatK = cum_labels * torch.Tensor([1 / (i + 1) for i in range(labels.shape[0])])\n",
    "    # Group Truth Positives\n",
    "    GTP = RelAtK.sum()\n",
    "    # Average Precision for given query\n",
    "    AveP = (1 / GTP * (RelAtK * PatK).sum())\n",
    "    return { \"P@1\": PatK[0].item(), \"AveP\": AveP.item() }"
   ]
  },
  {
   "cell_type": "code",
   "execution_count": 16,
   "metadata": {
    "ExecuteTime": {
     "end_time": "2021-01-26T17:42:46.550010Z",
     "start_time": "2021-01-26T17:42:46.285298Z"
    },
    "execution": {
     "iopub.execute_input": "2021-01-16T17:57:36.913467Z",
     "iopub.status.busy": "2021-01-16T17:57:36.913167Z",
     "iopub.status.idle": "2021-01-16T17:57:37.021250Z",
     "shell.execute_reply": "2021-01-16T17:57:37.020085Z",
     "shell.execute_reply.started": "2021-01-16T17:57:36.913431Z"
    }
   },
   "outputs": [],
   "source": [
    "# set a placeholder for evaluation results\n",
    "def lm_process_dataset(dataset, d_lang, model_type, model):\n",
    "    values = []\n",
    "    # set a placeholder for evaluation results\n",
    "    for example in tqdmn(dataset):\n",
    "        query = example[\"query\"]\n",
    "        documents = example[\"documents\"]\n",
    "        relevance = example[\"relevance\"]\n",
    "        \n",
    "        index_shuffle = list(range(len(documents)))\n",
    "        random.shuffle(index_shuffle)\n",
    "        \n",
    "        documents = [documents[index_shuffle[i]] for i in range(len(documents))]\n",
    "        relevance = [relevance[index_shuffle[i]] for i in range(len(relevance))]\n",
    "        \n",
    "        params = {\n",
    "            \"query\": query,\n",
    "            \"documents\": documents,\n",
    "            \"relevance\": relevance,\n",
    "        }\n",
    "        values.append(get_average_precision_at_k(params, model))\n",
    "\n",
    "    # return the evaluation results\n",
    "    return [{\n",
    "        \"q_lang\": \"en\",\n",
    "        \"d_lang\": d_lang,\n",
    "        \"P@1\": sum([v[\"P@1\"] for v in values]) / len(values),\n",
    "        \"MAP\": sum([v[\"AveP\"] for v in values]) / len(values),\n",
    "        \"model\": model_type\n",
    "    }]"
   ]
  },
  {
   "cell_type": "code",
   "execution_count": null,
   "metadata": {
    "ExecuteTime": {
     "start_time": "2021-01-26T17:41:28.682Z"
    },
    "execution": {
     "iopub.execute_input": "2021-01-16T17:57:37.023204Z",
     "iopub.status.busy": "2021-01-16T17:57:37.022848Z",
     "iopub.status.idle": "2021-01-16T19:23:50.531988Z",
     "shell.execute_reply": "2021-01-16T19:23:50.531109Z",
     "shell.execute_reply.started": "2021-01-16T17:57:37.023162Z"
    }
   },
   "outputs": [
    {
     "data": {
      "application/vnd.jupyter.widget-view+json": {
       "model_id": "fc26c538b8284c4b85a3416cdc2ef5c5",
       "version_major": 2,
       "version_minor": 0
      },
      "text/plain": [
       "HBox(children=(FloatProgress(value=0.0, max=42021.0), HTML(value='')))"
      ]
     },
     "metadata": {},
     "output_type": "display_data"
    }
   ],
   "source": [
    "bert_evaluation_de = lm_process_dataset(test_data[\"data_en_de\"], \"de\", \"mbert\", model)"
   ]
  },
  {
   "cell_type": "code",
   "execution_count": null,
   "metadata": {
    "ExecuteTime": {
     "start_time": "2021-01-26T17:41:28.683Z"
    },
    "execution": {
     "iopub.execute_input": "2021-01-16T19:23:50.533696Z",
     "iopub.status.busy": "2021-01-16T19:23:50.533463Z",
     "iopub.status.idle": "2021-01-16T19:23:50.548360Z",
     "shell.execute_reply": "2021-01-16T19:23:50.547856Z",
     "shell.execute_reply.started": "2021-01-16T19:23:50.533671Z"
    }
   },
   "outputs": [],
   "source": [
    "pd.DataFrame([format_evaluation(bert_evaluation_de[0])])"
   ]
  },
  {
   "cell_type": "code",
   "execution_count": null,
   "metadata": {
    "ExecuteTime": {
     "start_time": "2021-01-26T17:41:28.685Z"
    },
    "execution": {
     "iopub.execute_input": "2021-01-16T19:23:50.549495Z",
     "iopub.status.busy": "2021-01-16T19:23:50.549323Z"
    }
   },
   "outputs": [],
   "source": [
    "bert_evaluation_fr = lm_process_dataset(test_data[\"data_en_fr\"], \"fr\", \"mbert\", model)"
   ]
  },
  {
   "cell_type": "code",
   "execution_count": null,
   "metadata": {
    "ExecuteTime": {
     "start_time": "2021-01-26T17:41:28.686Z"
    },
    "execution": {
     "iopub.execute_input": "2021-01-16T23:38:26.416254Z",
     "iopub.status.busy": "2021-01-16T23:38:26.415810Z",
     "iopub.status.idle": "2021-01-16T23:38:26.432215Z",
     "shell.execute_reply": "2021-01-16T23:38:26.431469Z",
     "shell.execute_reply.started": "2021-01-16T23:38:26.416203Z"
    }
   },
   "outputs": [],
   "source": [
    "pd.DataFrame([format_evaluation(bert_evaluation_fr[0])])"
   ]
  },
  {
   "cell_type": "code",
   "execution_count": null,
   "metadata": {
    "ExecuteTime": {
     "start_time": "2021-01-26T17:41:28.686Z"
    }
   },
   "outputs": [],
   "source": [
    "bert_evaluation_tl = lm_process_dataset(test_data[\"data_en_tl\"], \"tl\", \"mbert\", model)"
   ]
  },
  {
   "cell_type": "code",
   "execution_count": null,
   "metadata": {
    "ExecuteTime": {
     "start_time": "2021-01-26T17:41:28.687Z"
    },
    "execution": {
     "iopub.execute_input": "2021-01-16T23:38:28.519072Z",
     "iopub.status.busy": "2021-01-16T23:38:28.518632Z",
     "iopub.status.idle": "2021-01-16T23:38:28.535691Z",
     "shell.execute_reply": "2021-01-16T23:38:28.534877Z",
     "shell.execute_reply.started": "2021-01-16T23:38:28.519022Z"
    }
   },
   "outputs": [],
   "source": [
    "pd.DataFrame([format_evaluation(bert_evaluation_tl[0])])"
   ]
  },
  {
   "cell_type": "code",
   "execution_count": null,
   "metadata": {
    "ExecuteTime": {
     "start_time": "2021-01-26T17:41:28.688Z"
    }
   },
   "outputs": [],
   "source": [
    "bert_evaluation = bert_evaluation_de + bert_evaluation_fr + bert_evaluation_tl"
   ]
  },
  {
   "cell_type": "code",
   "execution_count": null,
   "metadata": {
    "ExecuteTime": {
     "start_time": "2021-01-26T17:41:28.689Z"
    },
    "execution": {
     "iopub.execute_input": "2021-01-16T23:38:30.012980Z",
     "iopub.status.busy": "2021-01-16T23:38:30.012647Z",
     "iopub.status.idle": "2021-01-16T23:38:30.035107Z",
     "shell.execute_reply": "2021-01-16T23:38:30.033991Z",
     "shell.execute_reply.started": "2021-01-16T23:38:30.012944Z"
    }
   },
   "outputs": [],
   "source": [
    "pd.DataFrame([format_evaluation(e) for e in bert_evaluation])"
   ]
  }
 ],
 "metadata": {
  "kernelspec": {
   "display_name": "Python 3",
   "language": "python",
   "name": "python3"
  },
  "language_info": {
   "codemirror_mode": {
    "name": "ipython",
    "version": 3
   },
   "file_extension": ".py",
   "mimetype": "text/x-python",
   "name": "python",
   "nbconvert_exporter": "python",
   "pygments_lexer": "ipython3",
   "version": "3.8.5"
  }
 },
 "nbformat": 4,
 "nbformat_minor": 4
}
