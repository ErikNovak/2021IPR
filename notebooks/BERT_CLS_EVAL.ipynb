{
 "cells": [
  {
   "cell_type": "markdown",
   "metadata": {},
   "source": [
    "### Prepare the notebook to have access to all files"
   ]
  },
  {
   "cell_type": "code",
   "execution_count": 1,
   "metadata": {
    "execution": {
     "iopub.execute_input": "2021-01-25T20:15:01.941466Z",
     "iopub.status.busy": "2021-01-25T20:15:01.940392Z",
     "iopub.status.idle": "2021-01-25T20:15:01.951462Z",
     "shell.execute_reply": "2021-01-25T20:15:01.950270Z",
     "shell.execute_reply.started": "2021-01-25T20:15:01.941214Z"
    }
   },
   "outputs": [],
   "source": [
    "import os\n",
    "import sys\n",
    "# get the project root\n",
    "__filename__ = os.path.abspath(\".\")\n",
    "__dirname__ = os.path.dirname(__filename__)\n",
    "if __dirname__ not in sys.path:\n",
    "    sys.path.append(__dirname__)"
   ]
  },
  {
   "cell_type": "markdown",
   "metadata": {
    "execution": {
     "iopub.execute_input": "2020-12-01T10:22:23.293558Z",
     "iopub.status.busy": "2020-12-01T10:22:23.293204Z",
     "iopub.status.idle": "2020-12-01T10:22:23.297517Z",
     "shell.execute_reply": "2020-12-01T10:22:23.296659Z",
     "shell.execute_reply.started": "2020-12-01T10:22:23.293517Z"
    }
   },
   "source": [
    "### Visualization and process library"
   ]
  },
  {
   "cell_type": "code",
   "execution_count": 2,
   "metadata": {
    "execution": {
     "iopub.execute_input": "2021-01-25T20:15:02.813238Z",
     "iopub.status.busy": "2021-01-25T20:15:02.812772Z",
     "iopub.status.idle": "2021-01-25T20:15:06.388854Z",
     "shell.execute_reply": "2021-01-25T20:15:06.387883Z",
     "shell.execute_reply.started": "2021-01-25T20:15:02.813190Z"
    }
   },
   "outputs": [
    {
     "name": "stderr",
     "output_type": "stream",
     "text": [
      "\n",
      "Bad key \"text.kerning_factor\" on line 4 in\n",
      "/home/erikn/Programs/anaconda3/envs/paper2021IPR/lib/python3.8/site-packages/matplotlib/mpl-data/stylelib/_classic_test_patch.mplstyle.\n",
      "You probably need to get an updated matplotlibrc file from\n",
      "https://github.com/matplotlib/matplotlib/blob/v3.1.2/matplotlibrc.template\n",
      "or from the matplotlib source distribution\n"
     ]
    }
   ],
   "source": [
    "import re\n",
    "import numpy as np\n",
    "import matplotlib.pyplot as plt\n",
    "\n",
    "import pandas as pd\n",
    "import random\n",
    "\n",
    "import json\n",
    "from tqdm import notebook\n",
    "tqdmn = notebook.tqdm"
   ]
  },
  {
   "cell_type": "markdown",
   "metadata": {},
   "source": [
    "### Debugging Tool"
   ]
  },
  {
   "cell_type": "code",
   "execution_count": 3,
   "metadata": {
    "execution": {
     "iopub.execute_input": "2021-01-25T20:15:06.390462Z",
     "iopub.status.busy": "2021-01-25T20:15:06.390245Z",
     "iopub.status.idle": "2021-01-25T20:15:06.394136Z",
     "shell.execute_reply": "2021-01-25T20:15:06.393389Z",
     "shell.execute_reply.started": "2021-01-25T20:15:06.390434Z"
    }
   },
   "outputs": [],
   "source": [
    "from importlib import reload"
   ]
  },
  {
   "cell_type": "markdown",
   "metadata": {},
   "source": [
    "# Data Loading"
   ]
  },
  {
   "cell_type": "code",
   "execution_count": 12,
   "metadata": {
    "execution": {
     "iopub.execute_input": "2021-01-25T20:15:06.395539Z",
     "iopub.status.busy": "2021-01-25T20:15:06.395334Z",
     "iopub.status.idle": "2021-01-25T20:15:06.496259Z",
     "shell.execute_reply": "2021-01-25T20:15:06.495017Z",
     "shell.execute_reply.started": "2021-01-25T20:15:06.395513Z"
    }
   },
   "outputs": [],
   "source": [
    "from library.data_loader import get_test_datasets"
   ]
  },
  {
   "cell_type": "code",
   "execution_count": 13,
   "metadata": {
    "execution": {
     "iopub.execute_input": "2021-01-25T20:15:17.439895Z",
     "iopub.status.busy": "2021-01-25T20:15:17.439687Z",
     "iopub.status.idle": "2021-01-25T20:15:17.596192Z",
     "shell.execute_reply": "2021-01-25T20:15:17.595142Z",
     "shell.execute_reply.started": "2021-01-25T20:15:17.439870Z"
    }
   },
   "outputs": [],
   "source": [
    "test_data = {\n",
    "    \"data_en_de\": None,\n",
    "    \"data_en_fr\": None,\n",
    "    \"data_en_tl\": None,\n",
    "}"
   ]
  },
  {
   "cell_type": "code",
   "execution_count": 14,
   "metadata": {
    "execution": {
     "iopub.execute_input": "2021-01-25T20:15:30.211858Z",
     "iopub.status.busy": "2021-01-25T20:15:30.211434Z",
     "iopub.status.idle": "2021-01-25T20:17:47.164848Z",
     "shell.execute_reply": "2021-01-25T20:17:47.163535Z",
     "shell.execute_reply.started": "2021-01-25T20:15:30.211808Z"
    }
   },
   "outputs": [],
   "source": [
    "for key in test_data.keys():\n",
    "    test_data[key] = get_test_datasets(key)"
   ]
  },
  {
   "cell_type": "markdown",
   "metadata": {},
   "source": [
    "# Model Libraries"
   ]
  },
  {
   "cell_type": "code",
   "execution_count": 15,
   "metadata": {
    "execution": {
     "iopub.execute_input": "2021-01-25T20:17:47.166758Z",
     "iopub.status.busy": "2021-01-25T20:17:47.166563Z",
     "iopub.status.idle": "2021-01-25T20:17:53.409850Z",
     "shell.execute_reply": "2021-01-25T20:17:53.408919Z",
     "shell.execute_reply.started": "2021-01-25T20:17:47.166732Z"
    }
   },
   "outputs": [],
   "source": [
    "import torch\n",
    "import torch.nn as nn\n",
    "import torch.nn.functional as f\n",
    "import torch.optim as optim\n",
    "# import transformers\n",
    "from transformers import BertTokenizer\n",
    "# import the NEW method\n",
    "import library.bert_cls"
   ]
  },
  {
   "cell_type": "code",
   "execution_count": 16,
   "metadata": {
    "execution": {
     "iopub.execute_input": "2021-01-25T20:17:53.412002Z",
     "iopub.status.busy": "2021-01-25T20:17:53.411691Z",
     "iopub.status.idle": "2021-01-25T20:17:53.420141Z",
     "shell.execute_reply": "2021-01-25T20:17:53.419450Z",
     "shell.execute_reply.started": "2021-01-25T20:17:53.411966Z"
    }
   },
   "outputs": [
    {
     "data": {
      "text/plain": [
       "<module 'library.bert_cls' from '/home/erikn/Documents/code/papers/Paper-2021-IPR/library/bert_cls.py'>"
      ]
     },
     "execution_count": 16,
     "metadata": {},
     "output_type": "execute_result"
    }
   ],
   "source": [
    "reload(library.bert_cls)"
   ]
  },
  {
   "cell_type": "code",
   "execution_count": 17,
   "metadata": {
    "execution": {
     "iopub.execute_input": "2021-01-25T20:17:53.421627Z",
     "iopub.status.busy": "2021-01-25T20:17:53.421382Z",
     "iopub.status.idle": "2021-01-25T20:17:53.595633Z",
     "shell.execute_reply": "2021-01-25T20:17:53.594645Z",
     "shell.execute_reply.started": "2021-01-25T20:17:53.421580Z"
    }
   },
   "outputs": [],
   "source": [
    "# set the device on which we will train the model\n",
    "device = torch.device(\"cuda\" if torch.cuda.is_available() else \"cpu\")"
   ]
  },
  {
   "cell_type": "code",
   "execution_count": 18,
   "metadata": {
    "execution": {
     "iopub.execute_input": "2021-01-25T20:17:53.597518Z",
     "iopub.status.busy": "2021-01-25T20:17:53.597150Z",
     "iopub.status.idle": "2021-01-25T20:17:54.395407Z",
     "shell.execute_reply": "2021-01-25T20:17:54.394621Z",
     "shell.execute_reply.started": "2021-01-25T20:17:53.597472Z"
    }
   },
   "outputs": [],
   "source": [
    "# get the bert tokenizer\n",
    "tokenizer = BertTokenizer.from_pretrained('bert-base-multilingual-cased')"
   ]
  },
  {
   "cell_type": "code",
   "execution_count": 19,
   "metadata": {
    "execution": {
     "iopub.execute_input": "2021-01-25T20:17:54.396731Z",
     "iopub.status.busy": "2021-01-25T20:17:54.396513Z",
     "iopub.status.idle": "2021-01-25T20:17:54.399904Z",
     "shell.execute_reply": "2021-01-25T20:17:54.399246Z",
     "shell.execute_reply.started": "2021-01-25T20:17:54.396704Z"
    }
   },
   "outputs": [],
   "source": [
    "PATH = '../data/models/bert_cls_sasaki18.pth'"
   ]
  },
  {
   "cell_type": "code",
   "execution_count": 20,
   "metadata": {
    "execution": {
     "iopub.execute_input": "2021-01-25T20:17:54.400981Z",
     "iopub.status.busy": "2021-01-25T20:17:54.400778Z",
     "iopub.status.idle": "2021-01-25T20:18:22.243738Z",
     "shell.execute_reply": "2021-01-25T20:18:22.242839Z",
     "shell.execute_reply.started": "2021-01-25T20:17:54.400956Z"
    }
   },
   "outputs": [],
   "source": [
    "# load the NEW method used for CLIR\n",
    "model = library.bert_cls.BERT_CLS()\n",
    "model.load_state_dict(torch.load(PATH))\n",
    "model = model.eval().to(device)"
   ]
  },
  {
   "cell_type": "code",
   "execution_count": 21,
   "metadata": {
    "execution": {
     "iopub.execute_input": "2021-01-25T20:18:22.245469Z",
     "iopub.status.busy": "2021-01-25T20:18:22.245286Z",
     "iopub.status.idle": "2021-01-25T20:18:22.249466Z",
     "shell.execute_reply": "2021-01-25T20:18:22.248645Z",
     "shell.execute_reply.started": "2021-01-25T20:18:22.245447Z"
    }
   },
   "outputs": [],
   "source": [
    "def format_evaluation(d):\n",
    "    return {\n",
    "        \"model\": d[\"model\"],\n",
    "        \"q_lang\": d[\"q_lang\"],\n",
    "        \"d_lang\": d[\"d_lang\"],\n",
    "        \"P@1\": d[\"P@1\"],\n",
    "        \"MAP\": d[\"MAP\"],\n",
    "    }"
   ]
  },
  {
   "cell_type": "code",
   "execution_count": 22,
   "metadata": {
    "execution": {
     "iopub.execute_input": "2021-01-25T20:18:22.250532Z",
     "iopub.status.busy": "2021-01-25T20:18:22.250352Z",
     "iopub.status.idle": "2021-01-25T20:18:22.498575Z",
     "shell.execute_reply": "2021-01-25T20:18:22.497684Z",
     "shell.execute_reply.started": "2021-01-25T20:18:22.250497Z"
    }
   },
   "outputs": [],
   "source": [
    "def evaluate(batch):\n",
    "    q_inputs = tokenizer(batch['query'], truncation=True, padding=True, return_tensors='pt')\n",
    "    d_inputs = tokenizer(batch['documents'], truncation=True, padding=True, return_tensors='pt')\n",
    "    # get the input batches\n",
    "    examples = { \n",
    "        'q_input_ids': q_inputs['input_ids'],\n",
    "        'q_attention_mask': q_inputs['attention_mask'],\n",
    "        'q_token_type_ids': q_inputs['token_type_ids'],\n",
    "        'd_input_ids': d_inputs['input_ids'],\n",
    "        'd_attention_mask': d_inputs['attention_mask'],\n",
    "        'd_token_type_ids': d_inputs['token_type_ids'],\n",
    "    }\n",
    "    # move the batch tensors to the same device as the \n",
    "    examples = { k: v.to(device) for k, v in examples.items() }\n",
    "    # send 'input_ids', 'attention_mask' and 'labels' to the model\n",
    "    # the outputs are of shape (loss, distances)\n",
    "    outputs = model(**examples)\n",
    "    return outputs"
   ]
  },
  {
   "cell_type": "code",
   "execution_count": 23,
   "metadata": {
    "execution": {
     "iopub.execute_input": "2021-01-25T20:18:22.500292Z",
     "iopub.status.busy": "2021-01-25T20:18:22.499985Z",
     "iopub.status.idle": "2021-01-25T20:18:22.699187Z",
     "shell.execute_reply": "2021-01-25T20:18:22.698107Z",
     "shell.execute_reply.started": "2021-01-25T20:18:22.500254Z"
    }
   },
   "outputs": [],
   "source": [
    "def get_average_precision_at_k(params, model):\n",
    "    # get parameters for calculation\n",
    "    labels = torch.Tensor(params[\"relevance\"])\n",
    "    # get the loss values\n",
    "    with torch.no_grad():\n",
    "        outputs = evaluate(params)\n",
    "        # sort the instances\n",
    "        distances = outputs[0].detach().cpu()\n",
    "        # delete the outputs\n",
    "        del outputs\n",
    "    # Make sure deallocation has taken place\n",
    "    if torch.cuda.is_available():\n",
    "        torch.cuda.empty_cache()\n",
    "        torch.cuda.synchronize()\n",
    "    \n",
    "    # get the sort indices\n",
    "    sort_indices = distances.argsort()\n",
    "    # sort the labels values based on the similarity order\n",
    "    RelAtK = labels[sort_indices]\n",
    "    # get the cummulative sum over the whole labels list\n",
    "    cum_labels = RelAtK.cumsum(dim=0)\n",
    "    # calculate the precision at k value over the whole list\n",
    "    PatK = cum_labels * torch.Tensor([1 / (i + 1) for i in range(labels.shape[0])])\n",
    "    # Group Truth Positives\n",
    "    GTP = RelAtK.sum()\n",
    "    # Average Precision for given query\n",
    "    AveP = (1 / GTP * (RelAtK * PatK).sum())\n",
    "    return { \"P@1\": PatK[0].item(), \"AveP\": AveP.item() }"
   ]
  },
  {
   "cell_type": "code",
   "execution_count": 24,
   "metadata": {
    "execution": {
     "iopub.execute_input": "2021-01-25T20:21:34.417336Z",
     "iopub.status.busy": "2021-01-25T20:21:34.416954Z",
     "iopub.status.idle": "2021-01-25T20:21:34.429698Z",
     "shell.execute_reply": "2021-01-25T20:21:34.428706Z",
     "shell.execute_reply.started": "2021-01-25T20:21:34.417292Z"
    }
   },
   "outputs": [],
   "source": [
    "def lm_process_dataset(dataset, d_lang, model_type, model):    \n",
    "    # set a placeholder for evaluation results\n",
    "    values = []\n",
    "    for example in tqdmn(dataset):\n",
    "        query = example[\"query\"]\n",
    "        documents = example[\"documents\"]\n",
    "        relevance = example[\"relevance\"]\n",
    "        \n",
    "        index_shuffle = list(range(len(documents)))\n",
    "        random.shuffle(index_shuffle)\n",
    "        \n",
    "        documents = [documents[index_shuffle[i]] for i in range(len(documents))]\n",
    "        relevance = [relevance[index_shuffle[i]] for i in range(len(relevance))]\n",
    "        \n",
    "        params = {\n",
    "            \"query\": query,\n",
    "            \"documents\": documents,\n",
    "            \"relevance\": relevance,\n",
    "        }\n",
    "        values.append(get_average_precision_at_k(params, model))\n",
    "\n",
    "    # return the evaluation results\n",
    "    return [{\n",
    "        \"q_lang\": \"en\",\n",
    "        \"d_lang\": d_lang,\n",
    "        \"P@1\": sum([v[\"P@1\"] for v in values]) / len(values),\n",
    "        \"MAP\": sum([v[\"AveP\"] for v in values]) / len(values),\n",
    "        \"model\": model_type\n",
    "    }]"
   ]
  },
  {
   "cell_type": "code",
   "execution_count": 25,
   "metadata": {
    "execution": {
     "iopub.execute_input": "2021-01-25T20:21:35.053159Z",
     "iopub.status.busy": "2021-01-25T20:21:35.052701Z",
     "iopub.status.idle": "2021-01-26T06:32:50.501585Z",
     "shell.execute_reply": "2021-01-26T06:32:50.500821Z",
     "shell.execute_reply.started": "2021-01-25T20:21:35.053099Z"
    }
   },
   "outputs": [
    {
     "data": {
      "application/vnd.jupyter.widget-view+json": {
       "model_id": "e4cf8368aedc484599acd2efed3143db",
       "version_major": 2,
       "version_minor": 0
      },
      "text/plain": [
       "HBox(children=(FloatProgress(value=0.0, max=42021.0), HTML(value='')))"
      ]
     },
     "metadata": {},
     "output_type": "display_data"
    },
    {
     "name": "stdout",
     "output_type": "stream",
     "text": [
      "\n"
     ]
    }
   ],
   "source": [
    "bert_evaluation_de = lm_process_dataset(test_data[\"data_en_de\"], \"de\", \"mbert\", model)"
   ]
  },
  {
   "cell_type": "code",
   "execution_count": 26,
   "metadata": {
    "execution": {
     "iopub.execute_input": "2021-01-26T08:13:08.072412Z",
     "iopub.status.busy": "2021-01-26T08:13:08.071939Z",
     "iopub.status.idle": "2021-01-26T08:13:08.104813Z",
     "shell.execute_reply": "2021-01-26T08:13:08.104014Z",
     "shell.execute_reply.started": "2021-01-26T08:13:08.072356Z"
    }
   },
   "outputs": [
    {
     "data": {
      "text/html": [
       "<div>\n",
       "<style scoped>\n",
       "    .dataframe tbody tr th:only-of-type {\n",
       "        vertical-align: middle;\n",
       "    }\n",
       "\n",
       "    .dataframe tbody tr th {\n",
       "        vertical-align: top;\n",
       "    }\n",
       "\n",
       "    .dataframe thead th {\n",
       "        text-align: right;\n",
       "    }\n",
       "</style>\n",
       "<table border=\"1\" class=\"dataframe\">\n",
       "  <thead>\n",
       "    <tr style=\"text-align: right;\">\n",
       "      <th></th>\n",
       "      <th>model</th>\n",
       "      <th>q_lang</th>\n",
       "      <th>d_lang</th>\n",
       "      <th>P@1</th>\n",
       "      <th>MAP</th>\n",
       "    </tr>\n",
       "  </thead>\n",
       "  <tbody>\n",
       "    <tr>\n",
       "      <th>0</th>\n",
       "      <td>mbert</td>\n",
       "      <td>en</td>\n",
       "      <td>de</td>\n",
       "      <td>0.025701</td>\n",
       "      <td>NaN</td>\n",
       "    </tr>\n",
       "  </tbody>\n",
       "</table>\n",
       "</div>"
      ],
      "text/plain": [
       "   model q_lang d_lang       P@1  MAP\n",
       "0  mbert     en     de  0.025701  NaN"
      ]
     },
     "execution_count": 26,
     "metadata": {},
     "output_type": "execute_result"
    }
   ],
   "source": [
    "pd.DataFrame([format_evaluation(bert_evaluation_de[0])])"
   ]
  },
  {
   "cell_type": "code",
   "execution_count": null,
   "metadata": {
    "execution": {
     "iopub.execute_input": "2021-01-16T19:23:50.549495Z",
     "iopub.status.busy": "2021-01-16T19:23:50.549323Z"
    }
   },
   "outputs": [
    {
     "data": {
      "application/vnd.jupyter.widget-view+json": {
       "model_id": "325c43ec4b9b438695a448bccfdd3c21",
       "version_major": 2,
       "version_minor": 0
      },
      "text/plain": [
       "HBox(children=(FloatProgress(value=0.0, max=5825.0), HTML(value='')))"
      ]
     },
     "metadata": {},
     "output_type": "display_data"
    }
   ],
   "source": [
    "bert_evaluation_fr = lm_process_dataset(test_data[\"data_en_fr\"], \"fr\", \"mbert\", model)"
   ]
  },
  {
   "cell_type": "code",
   "execution_count": 31,
   "metadata": {
    "execution": {
     "iopub.execute_input": "2021-01-16T23:38:26.416254Z",
     "iopub.status.busy": "2021-01-16T23:38:26.415810Z",
     "iopub.status.idle": "2021-01-16T23:38:26.432215Z",
     "shell.execute_reply": "2021-01-16T23:38:26.431469Z",
     "shell.execute_reply.started": "2021-01-16T23:38:26.416203Z"
    }
   },
   "outputs": [
    {
     "data": {
      "text/html": [
       "<div>\n",
       "<style scoped>\n",
       "    .dataframe tbody tr th:only-of-type {\n",
       "        vertical-align: middle;\n",
       "    }\n",
       "\n",
       "    .dataframe tbody tr th {\n",
       "        vertical-align: top;\n",
       "    }\n",
       "\n",
       "    .dataframe thead th {\n",
       "        text-align: right;\n",
       "    }\n",
       "</style>\n",
       "<table border=\"1\" class=\"dataframe\">\n",
       "  <thead>\n",
       "    <tr style=\"text-align: right;\">\n",
       "      <th></th>\n",
       "      <th>model</th>\n",
       "      <th>q_lang</th>\n",
       "      <th>d_lang</th>\n",
       "      <th>count</th>\n",
       "      <th>P@1</th>\n",
       "      <th>MAP</th>\n",
       "    </tr>\n",
       "  </thead>\n",
       "  <tbody>\n",
       "    <tr>\n",
       "      <th>0</th>\n",
       "      <td>mbert</td>\n",
       "      <td>en</td>\n",
       "      <td>fr</td>\n",
       "      <td>5825</td>\n",
       "      <td>0.459399</td>\n",
       "      <td>0.635262</td>\n",
       "    </tr>\n",
       "  </tbody>\n",
       "</table>\n",
       "</div>"
      ],
      "text/plain": [
       "   model q_lang d_lang  count       P@1       MAP\n",
       "0  mbert     en     fr   5825  0.459399  0.635262"
      ]
     },
     "execution_count": 31,
     "metadata": {},
     "output_type": "execute_result"
    }
   ],
   "source": [
    "pd.DataFrame([format_evaluation(bert_evaluation_fr[0])])"
   ]
  },
  {
   "cell_type": "code",
   "execution_count": null,
   "metadata": {},
   "outputs": [],
   "source": [
    "bert_evaluation_tl = lm_process_dataset(test_data[\"data_en_tl\"], \"tl\", \"mbert\", model)"
   ]
  },
  {
   "cell_type": "code",
   "execution_count": 32,
   "metadata": {
    "execution": {
     "iopub.execute_input": "2021-01-16T23:38:28.519072Z",
     "iopub.status.busy": "2021-01-16T23:38:28.518632Z",
     "iopub.status.idle": "2021-01-16T23:38:28.535691Z",
     "shell.execute_reply": "2021-01-16T23:38:28.534877Z",
     "shell.execute_reply.started": "2021-01-16T23:38:28.519022Z"
    }
   },
   "outputs": [
    {
     "data": {
      "text/html": [
       "<div>\n",
       "<style scoped>\n",
       "    .dataframe tbody tr th:only-of-type {\n",
       "        vertical-align: middle;\n",
       "    }\n",
       "\n",
       "    .dataframe tbody tr th {\n",
       "        vertical-align: top;\n",
       "    }\n",
       "\n",
       "    .dataframe thead th {\n",
       "        text-align: right;\n",
       "    }\n",
       "</style>\n",
       "<table border=\"1\" class=\"dataframe\">\n",
       "  <thead>\n",
       "    <tr style=\"text-align: right;\">\n",
       "      <th></th>\n",
       "      <th>model</th>\n",
       "      <th>q_lang</th>\n",
       "      <th>d_lang</th>\n",
       "      <th>count</th>\n",
       "      <th>P@1</th>\n",
       "      <th>MAP</th>\n",
       "    </tr>\n",
       "  </thead>\n",
       "  <tbody>\n",
       "    <tr>\n",
       "      <th>0</th>\n",
       "      <td>mbert</td>\n",
       "      <td>en</td>\n",
       "      <td>tl</td>\n",
       "      <td>2268</td>\n",
       "      <td>0.28836</td>\n",
       "      <td>0.499721</td>\n",
       "    </tr>\n",
       "  </tbody>\n",
       "</table>\n",
       "</div>"
      ],
      "text/plain": [
       "   model q_lang d_lang  count      P@1       MAP\n",
       "0  mbert     en     tl   2268  0.28836  0.499721"
      ]
     },
     "execution_count": 32,
     "metadata": {},
     "output_type": "execute_result"
    }
   ],
   "source": [
    "pd.DataFrame([format_evaluation(bert_evaluation_tl[0])])"
   ]
  },
  {
   "cell_type": "code",
   "execution_count": null,
   "metadata": {},
   "outputs": [],
   "source": [
    "bert_evaluation = bert_evaluation_de + bert_evaluation_fr + bert_evaluation_tl"
   ]
  },
  {
   "cell_type": "code",
   "execution_count": 33,
   "metadata": {
    "execution": {
     "iopub.execute_input": "2021-01-16T23:38:30.012980Z",
     "iopub.status.busy": "2021-01-16T23:38:30.012647Z",
     "iopub.status.idle": "2021-01-16T23:38:30.035107Z",
     "shell.execute_reply": "2021-01-16T23:38:30.033991Z",
     "shell.execute_reply.started": "2021-01-16T23:38:30.012944Z"
    }
   },
   "outputs": [
    {
     "data": {
      "text/html": [
       "<div>\n",
       "<style scoped>\n",
       "    .dataframe tbody tr th:only-of-type {\n",
       "        vertical-align: middle;\n",
       "    }\n",
       "\n",
       "    .dataframe tbody tr th {\n",
       "        vertical-align: top;\n",
       "    }\n",
       "\n",
       "    .dataframe thead th {\n",
       "        text-align: right;\n",
       "    }\n",
       "</style>\n",
       "<table border=\"1\" class=\"dataframe\">\n",
       "  <thead>\n",
       "    <tr style=\"text-align: right;\">\n",
       "      <th></th>\n",
       "      <th>model</th>\n",
       "      <th>q_lang</th>\n",
       "      <th>d_lang</th>\n",
       "      <th>count</th>\n",
       "      <th>P@1</th>\n",
       "      <th>MAP</th>\n",
       "    </tr>\n",
       "  </thead>\n",
       "  <tbody>\n",
       "    <tr>\n",
       "      <th>0</th>\n",
       "      <td>mbert</td>\n",
       "      <td>en</td>\n",
       "      <td>de</td>\n",
       "      <td>5927</td>\n",
       "      <td>0.504809</td>\n",
       "      <td>0.682864</td>\n",
       "    </tr>\n",
       "    <tr>\n",
       "      <th>1</th>\n",
       "      <td>mbert</td>\n",
       "      <td>en</td>\n",
       "      <td>fr</td>\n",
       "      <td>5825</td>\n",
       "      <td>0.459399</td>\n",
       "      <td>0.635262</td>\n",
       "    </tr>\n",
       "    <tr>\n",
       "      <th>2</th>\n",
       "      <td>mbert</td>\n",
       "      <td>en</td>\n",
       "      <td>tl</td>\n",
       "      <td>2268</td>\n",
       "      <td>0.288360</td>\n",
       "      <td>0.499721</td>\n",
       "    </tr>\n",
       "  </tbody>\n",
       "</table>\n",
       "</div>"
      ],
      "text/plain": [
       "   model q_lang d_lang  count       P@1       MAP\n",
       "0  mbert     en     de   5927  0.504809  0.682864\n",
       "1  mbert     en     fr   5825  0.459399  0.635262\n",
       "2  mbert     en     tl   2268  0.288360  0.499721"
      ]
     },
     "execution_count": 33,
     "metadata": {},
     "output_type": "execute_result"
    }
   ],
   "source": [
    "pd.DataFrame([format_evaluation(e) for e in bert_evaluation])"
   ]
  },
  {
   "cell_type": "code",
   "execution_count": null,
   "metadata": {},
   "outputs": [],
   "source": []
  }
 ],
 "metadata": {
  "kernelspec": {
   "display_name": "Python 3",
   "language": "python",
   "name": "python3"
  },
  "language_info": {
   "codemirror_mode": {
    "name": "ipython",
    "version": 3
   },
   "file_extension": ".py",
   "mimetype": "text/x-python",
   "name": "python",
   "nbconvert_exporter": "python",
   "pygments_lexer": "ipython3",
   "version": "3.8.5"
  }
 },
 "nbformat": 4,
 "nbformat_minor": 4
}
