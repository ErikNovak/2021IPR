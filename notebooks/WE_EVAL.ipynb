{
 "cells": [
  {
   "cell_type": "code",
   "execution_count": 20,
   "metadata": {
    "execution": {
     "iopub.execute_input": "2021-01-25T09:52:28.307221Z",
     "iopub.status.busy": "2021-01-25T09:52:28.306874Z",
     "iopub.status.idle": "2021-01-25T09:52:28.313242Z",
     "shell.execute_reply": "2021-01-25T09:52:28.312129Z",
     "shell.execute_reply.started": "2021-01-25T09:52:28.307182Z"
    }
   },
   "outputs": [],
   "source": [
    "import os\n",
    "import sys\n",
    "# get the project root\n",
    "__filename__ = os.path.abspath(\".\")\n",
    "__dirname__ = os.path.dirname(__filename__)\n",
    "if __dirname__ not in sys.path:\n",
    "    sys.path.append(__dirname__)"
   ]
  },
  {
   "cell_type": "code",
   "execution_count": 2,
   "metadata": {
    "execution": {
     "iopub.execute_input": "2021-01-25T09:36:31.314948Z",
     "iopub.status.busy": "2021-01-25T09:36:31.314468Z",
     "iopub.status.idle": "2021-01-25T09:36:31.319919Z",
     "shell.execute_reply": "2021-01-25T09:36:31.318826Z",
     "shell.execute_reply.started": "2021-01-25T09:36:31.314898Z"
    }
   },
   "outputs": [],
   "source": [
    "\n",
    "from importlib import reload"
   ]
  },
  {
   "cell_type": "code",
   "execution_count": 3,
   "metadata": {
    "execution": {
     "iopub.execute_input": "2021-01-25T09:36:37.458372Z",
     "iopub.status.busy": "2021-01-25T09:36:37.457957Z",
     "iopub.status.idle": "2021-01-25T09:36:37.508971Z",
     "shell.execute_reply": "2021-01-25T09:36:37.507841Z",
     "shell.execute_reply.started": "2021-01-25T09:36:37.458330Z"
    }
   },
   "outputs": [],
   "source": [
    "import json\n",
    "from tqdm import notebook\n",
    "tqdmn = notebook.tqdm"
   ]
  },
  {
   "cell_type": "code",
   "execution_count": 77,
   "metadata": {
    "execution": {
     "iopub.execute_input": "2021-01-25T11:21:26.847401Z",
     "iopub.status.busy": "2021-01-25T11:21:26.846958Z",
     "iopub.status.idle": "2021-01-25T11:21:26.852423Z",
     "shell.execute_reply": "2021-01-25T11:21:26.851494Z",
     "shell.execute_reply.started": "2021-01-25T11:21:26.847351Z"
    }
   },
   "outputs": [],
   "source": [
    "import pandas as pd\n",
    "import torch\n",
    "import random"
   ]
  },
  {
   "cell_type": "markdown",
   "metadata": {},
   "source": [
    "# Loading the data sets"
   ]
  },
  {
   "cell_type": "code",
   "execution_count": 5,
   "metadata": {
    "execution": {
     "iopub.execute_input": "2021-01-25T09:36:48.176449Z",
     "iopub.status.busy": "2021-01-25T09:36:48.175951Z",
     "iopub.status.idle": "2021-01-25T09:36:48.181004Z",
     "shell.execute_reply": "2021-01-25T09:36:48.180098Z",
     "shell.execute_reply.started": "2021-01-25T09:36:48.176397Z"
    }
   },
   "outputs": [],
   "source": [
    "import re\n",
    "import numpy as np"
   ]
  },
  {
   "cell_type": "code",
   "execution_count": 6,
   "metadata": {
    "execution": {
     "iopub.execute_input": "2021-01-25T09:39:08.011699Z",
     "iopub.status.busy": "2021-01-25T09:39:08.011249Z",
     "iopub.status.idle": "2021-01-25T09:39:08.017340Z",
     "shell.execute_reply": "2021-01-25T09:39:08.016222Z",
     "shell.execute_reply.started": "2021-01-25T09:39:08.011647Z"
    }
   },
   "outputs": [],
   "source": [
    "def open_training_set(filepath):\n",
    "    with open(filepath, 'r', encoding='utf-8') as f:\n",
    "        return f.readlines()"
   ]
  },
  {
   "cell_type": "code",
   "execution_count": 7,
   "metadata": {
    "execution": {
     "iopub.execute_input": "2021-01-25T09:39:08.353340Z",
     "iopub.status.busy": "2021-01-25T09:39:08.353041Z",
     "iopub.status.idle": "2021-01-25T09:39:08.359170Z",
     "shell.execute_reply": "2021-01-25T09:39:08.357934Z",
     "shell.execute_reply.started": "2021-01-25T09:39:08.353308Z"
    }
   },
   "outputs": [],
   "source": [
    "def format_row(string):\n",
    "    splitted_values = re.split(r'\\t+', string)\n",
    "    \n",
    "    if len(splitted_values) == 3:\n",
    "        rel, query, document = splitted_values\n",
    "        return { \"query\": query.strip(), \"documents\": document.strip(), \"relevance\": rel.strip() }\n",
    "    else:\n",
    "        return None"
   ]
  },
  {
   "cell_type": "code",
   "execution_count": 8,
   "metadata": {
    "execution": {
     "iopub.execute_input": "2021-01-25T09:39:08.743184Z",
     "iopub.status.busy": "2021-01-25T09:39:08.742729Z",
     "iopub.status.idle": "2021-01-25T09:39:08.748367Z",
     "shell.execute_reply": "2021-01-25T09:39:08.747372Z",
     "shell.execute_reply.started": "2021-01-25T09:39:08.743133Z"
    }
   },
   "outputs": [],
   "source": [
    "def format_dataset(array):\n",
    "    return [format_row(row) for row in array]"
   ]
  },
  {
   "cell_type": "code",
   "execution_count": 64,
   "metadata": {
    "execution": {
     "iopub.execute_input": "2021-01-25T11:16:59.029787Z",
     "iopub.status.busy": "2021-01-25T11:16:59.029271Z",
     "iopub.status.idle": "2021-01-25T11:16:59.043717Z",
     "shell.execute_reply": "2021-01-25T11:16:59.043003Z",
     "shell.execute_reply.started": "2021-01-25T11:16:59.029733Z"
    }
   },
   "outputs": [],
   "source": [
    "def prepare_dataset(filepath):   \n",
    "    file = open_training_set(filepath)\n",
    "    file = format_dataset(file)\n",
    "    \n",
    "    dataset = {}\n",
    "    dataset[\"query\"] = [el[\"query\"] for el in file if el]\n",
    "    dataset[\"documents\"] = [el[\"documents\"] for el in file if el]\n",
    "    dataset[\"relevance\"] = [el[\"relevance\"] for el in file if el]\n",
    "    return dataset"
   ]
  },
  {
   "cell_type": "code",
   "execution_count": 29,
   "metadata": {
    "execution": {
     "iopub.execute_input": "2021-01-25T10:35:55.577765Z",
     "iopub.status.busy": "2021-01-25T10:35:55.577238Z",
     "iopub.status.idle": "2021-01-25T10:35:55.584010Z",
     "shell.execute_reply": "2021-01-25T10:35:55.583001Z",
     "shell.execute_reply.started": "2021-01-25T10:35:55.577706Z"
    }
   },
   "outputs": [],
   "source": [
    "def get_train_datasets(datatype):\n",
    "    # prepare the dataset paths\n",
    "    train_path = f\"../../data/clir/sasaki18/{datatype}/train.txt\"\n",
    "    # load the datasets\n",
    "    return prepare_dataset(train_path)"
   ]
  },
  {
   "cell_type": "code",
   "execution_count": 30,
   "metadata": {
    "execution": {
     "iopub.execute_input": "2021-01-25T10:35:56.673661Z",
     "iopub.status.busy": "2021-01-25T10:35:56.673132Z",
     "iopub.status.idle": "2021-01-25T10:35:56.678726Z",
     "shell.execute_reply": "2021-01-25T10:35:56.677584Z",
     "shell.execute_reply.started": "2021-01-25T10:35:56.673580Z"
    }
   },
   "outputs": [],
   "source": [
    "train_data = {\n",
    "    \"data_en_de\": None,\n",
    "    \"data_en_fr\": None,\n",
    "    \"data_en_tl\": None,\n",
    "}"
   ]
  },
  {
   "cell_type": "code",
   "execution_count": 31,
   "metadata": {
    "execution": {
     "iopub.execute_input": "2021-01-25T10:35:58.260922Z",
     "iopub.status.busy": "2021-01-25T10:35:58.260458Z",
     "iopub.status.idle": "2021-01-25T10:37:41.177240Z",
     "shell.execute_reply": "2021-01-25T10:37:41.176017Z",
     "shell.execute_reply.started": "2021-01-25T10:35:58.260872Z"
    }
   },
   "outputs": [],
   "source": [
    "for key in data.keys():\n",
    "    train_data[key] = get_train_datasets(key)"
   ]
  },
  {
   "cell_type": "markdown",
   "metadata": {},
   "source": [
    "## load the Word Embeddings"
   ]
  },
  {
   "cell_type": "code",
   "execution_count": 23,
   "metadata": {
    "execution": {
     "iopub.execute_input": "2021-01-25T09:54:10.930242Z",
     "iopub.status.busy": "2021-01-25T09:54:10.929768Z",
     "iopub.status.idle": "2021-01-25T09:54:10.961287Z",
     "shell.execute_reply": "2021-01-25T09:54:10.960004Z",
     "shell.execute_reply.started": "2021-01-25T09:54:10.930191Z"
    }
   },
   "outputs": [],
   "source": [
    "import library.text_embeds as TE"
   ]
  },
  {
   "cell_type": "code",
   "execution_count": 26,
   "metadata": {
    "execution": {
     "iopub.execute_input": "2021-01-25T09:55:16.200755Z",
     "iopub.status.busy": "2021-01-25T09:55:16.200400Z",
     "iopub.status.idle": "2021-01-25T09:55:16.205116Z",
     "shell.execute_reply": "2021-01-25T09:55:16.204183Z",
     "shell.execute_reply.started": "2021-01-25T09:55:16.200718Z"
    }
   },
   "outputs": [],
   "source": [
    "# prepare language mapping\n",
    "language_mapping = {\n",
    "    \"de\": \"german\",\n",
    "    \"en\": \"english\",\n",
    "    \"fr\": \"french\",\n",
    "    \"tl\": \"tagalog\"\n",
    "}"
   ]
  },
  {
   "cell_type": "code",
   "execution_count": 27,
   "metadata": {
    "execution": {
     "iopub.execute_input": "2021-01-25T09:55:16.614777Z",
     "iopub.status.busy": "2021-01-25T09:55:16.614300Z",
     "iopub.status.idle": "2021-01-25T09:55:17.784695Z",
     "shell.execute_reply": "2021-01-25T09:55:17.783533Z",
     "shell.execute_reply.started": "2021-01-25T09:55:16.614714Z"
    }
   },
   "outputs": [],
   "source": [
    "models = {}"
   ]
  },
  {
   "cell_type": "code",
   "execution_count": 28,
   "metadata": {
    "execution": {
     "iopub.execute_input": "2021-01-25T09:55:17.787038Z",
     "iopub.status.busy": "2021-01-25T09:55:17.786668Z",
     "iopub.status.idle": "2021-01-25T10:33:30.307663Z",
     "shell.execute_reply": "2021-01-25T10:33:30.306836Z",
     "shell.execute_reply.started": "2021-01-25T09:55:17.786993Z"
    }
   },
   "outputs": [
    {
     "data": {
      "application/vnd.jupyter.widget-view+json": {
       "model_id": "b0bcc12cf0eb46c8b84c4aab1d0bb394",
       "version_major": 2,
       "version_minor": 0
      },
      "text/plain": [
       "HBox(children=(FloatProgress(value=0.0, description='Language Models: ', max=4.0, style=ProgressStyle(descript…"
      ]
     },
     "metadata": {},
     "output_type": "display_data"
    },
    {
     "name": "stdout",
     "output_type": "stream",
     "text": [
      "\n"
     ]
    }
   ],
   "source": [
    "for language in tqdmn(language_mapping.keys(), desc=\"Language Models: \"):\n",
    "    model_path = __dirname__ + '/data/fasttext/wiki.{}.align.vec'.format(language)\n",
    "    # append the language model\n",
    "    models[language] = TE.TextEmbedding(language_mapping[language], model_path)"
   ]
  },
  {
   "cell_type": "markdown",
   "metadata": {},
   "source": [
    "### Update the models with the training set vocabulary"
   ]
  },
  {
   "cell_type": "code",
   "execution_count": 32,
   "metadata": {
    "execution": {
     "iopub.execute_input": "2021-01-25T10:40:35.207348Z",
     "iopub.status.busy": "2021-01-25T10:40:35.206949Z",
     "iopub.status.idle": "2021-01-25T10:49:52.742947Z",
     "shell.execute_reply": "2021-01-25T10:49:52.741860Z",
     "shell.execute_reply.started": "2021-01-25T10:40:35.207302Z"
    }
   },
   "outputs": [],
   "source": [
    "models[\"de\"].add_vocabulary_corpus(train_data[\"data_en_de\"][\"documents\"])\n",
    "models[\"fr\"].add_vocabulary_corpus(train_data[\"data_en_fr\"][\"documents\"])\n",
    "models[\"tl\"].add_vocabulary_corpus(train_data[\"data_en_tl\"][\"documents\"])"
   ]
  },
  {
   "cell_type": "markdown",
   "metadata": {},
   "source": [
    "# Load the Test Datasets"
   ]
  },
  {
   "cell_type": "code",
   "execution_count": 45,
   "metadata": {
    "execution": {
     "iopub.execute_input": "2021-01-25T10:56:23.435650Z",
     "iopub.status.busy": "2021-01-25T10:56:23.435161Z",
     "iopub.status.idle": "2021-01-25T10:56:23.915043Z",
     "shell.execute_reply": "2021-01-25T10:56:23.914302Z",
     "shell.execute_reply.started": "2021-01-25T10:56:23.435596Z"
    }
   },
   "outputs": [],
   "source": [
    "# import datasets\n",
    "from datasets import Dataset"
   ]
  },
  {
   "cell_type": "code",
   "execution_count": 33,
   "metadata": {
    "execution": {
     "iopub.execute_input": "2021-01-25T10:51:14.662883Z",
     "iopub.status.busy": "2021-01-25T10:51:14.662358Z",
     "iopub.status.idle": "2021-01-25T10:51:14.669160Z",
     "shell.execute_reply": "2021-01-25T10:51:14.668060Z",
     "shell.execute_reply.started": "2021-01-25T10:51:14.662826Z"
    }
   },
   "outputs": [],
   "source": [
    "def get_test_datasets(datatype):\n",
    "    # prepare the dataset paths\n",
    "    test_path = f\"../../data/clir/sasaki18/{datatype}/test1.txt\"\n",
    "    # load the datasets\n",
    "    return prepare_dataset(test_path)"
   ]
  },
  {
   "cell_type": "code",
   "execution_count": 65,
   "metadata": {
    "execution": {
     "iopub.execute_input": "2021-01-25T11:17:05.759897Z",
     "iopub.status.busy": "2021-01-25T11:17:05.759425Z",
     "iopub.status.idle": "2021-01-25T11:17:05.764925Z",
     "shell.execute_reply": "2021-01-25T11:17:05.763936Z",
     "shell.execute_reply.started": "2021-01-25T11:17:05.759848Z"
    }
   },
   "outputs": [],
   "source": [
    "test_data = {\n",
    "    \"data_en_de\": None,\n",
    "    \"data_en_fr\": None,\n",
    "    \"data_en_tl\": None,\n",
    "}"
   ]
  },
  {
   "cell_type": "code",
   "execution_count": 66,
   "metadata": {
    "execution": {
     "iopub.execute_input": "2021-01-25T11:17:06.111576Z",
     "iopub.status.busy": "2021-01-25T11:17:06.111159Z",
     "iopub.status.idle": "2021-01-25T11:19:29.638316Z",
     "shell.execute_reply": "2021-01-25T11:19:29.637327Z",
     "shell.execute_reply.started": "2021-01-25T11:17:06.111532Z"
    }
   },
   "outputs": [],
   "source": [
    "for key in data.keys():\n",
    "    test_data[key] = get_test_datasets(key)"
   ]
  },
  {
   "cell_type": "code",
   "execution_count": 67,
   "metadata": {
    "execution": {
     "iopub.execute_input": "2021-01-25T11:19:57.664498Z",
     "iopub.status.busy": "2021-01-25T11:19:57.663990Z",
     "iopub.status.idle": "2021-01-25T11:19:57.670902Z",
     "shell.execute_reply": "2021-01-25T11:19:57.669837Z",
     "shell.execute_reply.started": "2021-01-25T11:19:57.664440Z"
    }
   },
   "outputs": [],
   "source": [
    "batch_size = 40"
   ]
  },
  {
   "cell_type": "code",
   "execution_count": 68,
   "metadata": {
    "execution": {
     "iopub.execute_input": "2021-01-25T11:19:59.657277Z",
     "iopub.status.busy": "2021-01-25T11:19:59.656832Z",
     "iopub.status.idle": "2021-01-25T11:19:59.663478Z",
     "shell.execute_reply": "2021-01-25T11:19:59.662491Z",
     "shell.execute_reply.started": "2021-01-25T11:19:59.657228Z"
    }
   },
   "outputs": [],
   "source": [
    "def format_evaluation(d):\n",
    "    return {\n",
    "        \"q_lang\": d[\"q_lang\"],\n",
    "        \"d_lang\": d[\"d_lang\"],\n",
    "        \"P@1\": d[\"AveP@1\"],\n",
    "        \"MAP\": d[\"MAP\"],\n",
    "        \"model\": d[\"model\"]\n",
    "    }"
   ]
  },
  {
   "cell_type": "markdown",
   "metadata": {},
   "source": [
    "## Evaluate WE with Weights"
   ]
  },
  {
   "cell_type": "code",
   "execution_count": 72,
   "metadata": {
    "execution": {
     "iopub.execute_input": "2021-01-25T11:20:41.490584Z",
     "iopub.status.busy": "2021-01-25T11:20:41.490191Z",
     "iopub.status.idle": "2021-01-25T11:20:41.508291Z",
     "shell.execute_reply": "2021-01-25T11:20:41.507623Z",
     "shell.execute_reply.started": "2021-01-25T11:20:41.490546Z"
    }
   },
   "outputs": [],
   "source": [
    "def get_average_precision_at_k_weight(params):    \n",
    "    # get parameters\n",
    "    query = params[\"query\"]\n",
    "    documents = params[\"documents\"]\n",
    "    relevance = params[\"relevance\"]\n",
    "    q_lang = params[\"q_lang\"]\n",
    "    d_lang = params[\"d_lang\"]\n",
    "    d_weight = params[\"d_weight\"]\n",
    "    \n",
    "    # shuffle the indices\n",
    "    index_shuffle = list(range(len(documents)))\n",
    "    random.shuffle(index_shuffle)\n",
    "    documents = [documents[index_shuffle[i]] for i in range(len(documents))]\n",
    "    relevance = [relevance[index_shuffle[i]] for i in range(len(relevance))]\n",
    "    \n",
    "    # get query vector (normalized)\n",
    "    q_vector = models[q_lang].text_embedding(query, weight=\"tf\", normalize=True)\n",
    "    q_vector = np.array(q_vector)\n",
    "    \n",
    "    # get documents vectors (normalized)\n",
    "    d_vectors = [models[d_lang].text_embedding(d, weight=d_weight, normalize=True) for d in documents]\n",
    "    d_vectors = np.array(d_vectors)\n",
    "    \n",
    "    #  get the cosine similarity between documents and vectors\n",
    "    cosine_similarity = np.matmul(d_vectors, q_vector)\n",
    "    sort_indices = np.argsort(cosine_similarity)[::-1]\n",
    "    \n",
    "    # sort the relevance values based on the similarity order\n",
    "    sort_rel = np.array([relevance[ind] for ind in sort_indices])\n",
    "    \n",
    "    # get the cummulative sum over the whole relevance list\n",
    "    cum_rel = np.cumsum(sort_rel)\n",
    "    # calculate the precision at k value over the whole list\n",
    "    PatK = [sort_rel[idx] / (idx + 1) for idx in range(0, len(relevance))]\n",
    "    \n",
    "    # Group Truth Positives\n",
    "    GTP = sum(sort_rel)\n",
    "    # Average Precision for given query\n",
    "    AveP = 1 / GTP * sum(sort_rel * PatK)\n",
    "    \n",
    "    # return the Precision@1 and Average Precision\n",
    "    return { \"P@1\": PatK[0], \"AveP\": AveP, \"P@k\": PatK }"
   ]
  },
  {
   "cell_type": "code",
   "execution_count": 79,
   "metadata": {
    "execution": {
     "iopub.execute_input": "2021-01-25T11:22:36.808456Z",
     "iopub.status.busy": "2021-01-25T11:22:36.807925Z",
     "iopub.status.idle": "2021-01-25T11:22:36.860653Z",
     "shell.execute_reply": "2021-01-25T11:22:36.859928Z",
     "shell.execute_reply.started": "2021-01-25T11:22:36.808406Z"
    }
   },
   "outputs": [],
   "source": [
    "def we_weight_process_dataset(dataset, d_lang):\n",
    "    \n",
    "    # setup the vocabulary of the models\n",
    "    data = Dataset.from_dict(dataset)\n",
    "    # prepare the dataset loader\n",
    "    data = torch.utils.data.DataLoader(data, batch_size=batch_size)\n",
    "    \n",
    "    # set a placeholder for evaluation results\n",
    "    evaluation = []\n",
    "    \n",
    "    for d_weight in [\"tf\", \"idf\", \"tfidf\"]:\n",
    "        values = []\n",
    "        for example in tqdmn(data, desc=f\"WE model={d_weight}\"):\n",
    "            params = {\n",
    "                \"query\": example[\"query\"][0],\n",
    "                \"documents\": example[\"documents\"],\n",
    "                \"relevance\": example[\"relevance\"],\n",
    "                \"q_lang\": \"en\",\n",
    "                \"d_lang\": d_lang,\n",
    "                \"d_weight\": d_weight\n",
    "            }\n",
    "            values.append(get_average_precision_at_k_weight(params))\n",
    "        \n",
    "        evaluation.append({\n",
    "            \"q_lang\": \"en\",\n",
    "            \"d_lang\": d_lang,\n",
    "            \"AveP@1\": sum([v[\"P@1\"] for v in values]) / len(values),\n",
    "            \"MAP\": sum([v[\"AveP\"] for v in values]) / len(values),\n",
    "            \"model\": d_weight\n",
    "        })\n",
    "        \n",
    "    # return the evaluation results\n",
    "    return evaluation"
   ]
  },
  {
   "cell_type": "code",
   "execution_count": 80,
   "metadata": {
    "execution": {
     "iopub.execute_input": "2021-01-25T11:22:37.734548Z",
     "iopub.status.busy": "2021-01-25T11:22:37.734115Z",
     "iopub.status.idle": "2021-01-25T13:08:31.970693Z",
     "shell.execute_reply": "2021-01-25T13:08:31.965658Z",
     "shell.execute_reply.started": "2021-01-25T11:22:37.734500Z"
    }
   },
   "outputs": [
    {
     "data": {
      "application/vnd.jupyter.widget-view+json": {
       "model_id": "006aa106084d408a89771b85f6688901",
       "version_major": 2,
       "version_minor": 0
      },
      "text/plain": [
       "HBox(children=(FloatProgress(value=0.0, description='WE model=tf', max=42021.0, style=ProgressStyle(descriptio…"
      ]
     },
     "metadata": {},
     "output_type": "display_data"
    },
    {
     "name": "stdout",
     "output_type": "stream",
     "text": [
      "\n"
     ]
    },
    {
     "data": {
      "application/vnd.jupyter.widget-view+json": {
       "model_id": "82aed491468e44adb62f5a3ed20291c9",
       "version_major": 2,
       "version_minor": 0
      },
      "text/plain": [
       "HBox(children=(FloatProgress(value=0.0, description='WE model=idf', max=42021.0, style=ProgressStyle(descripti…"
      ]
     },
     "metadata": {},
     "output_type": "display_data"
    },
    {
     "name": "stdout",
     "output_type": "stream",
     "text": [
      "\n"
     ]
    },
    {
     "data": {
      "application/vnd.jupyter.widget-view+json": {
       "model_id": "e6495dac605a408a9968d0ce477a8379",
       "version_major": 2,
       "version_minor": 0
      },
      "text/plain": [
       "HBox(children=(FloatProgress(value=0.0, description='WE model=tfidf', max=42021.0, style=ProgressStyle(descrip…"
      ]
     },
     "metadata": {},
     "output_type": "display_data"
    },
    {
     "name": "stdout",
     "output_type": "stream",
     "text": [
      "\n"
     ]
    }
   ],
   "source": [
    "we_weight_evaluation_de = we_weight_process_dataset(test_data[\"data_en_de\"], \"de\")"
   ]
  },
  {
   "cell_type": "code",
   "execution_count": 83,
   "metadata": {
    "execution": {
     "iopub.execute_input": "2021-01-25T13:12:16.965512Z",
     "iopub.status.busy": "2021-01-25T13:12:16.965096Z",
     "iopub.status.idle": "2021-01-25T14:56:45.528663Z",
     "shell.execute_reply": "2021-01-25T14:56:45.505977Z",
     "shell.execute_reply.started": "2021-01-25T13:12:16.965468Z"
    }
   },
   "outputs": [
    {
     "data": {
      "application/vnd.jupyter.widget-view+json": {
       "model_id": "b1331c65e0b64927b840b1d8ae69ddbe",
       "version_major": 2,
       "version_minor": 0
      },
      "text/plain": [
       "HBox(children=(FloatProgress(value=0.0, description='WE model=tf', max=54196.0, style=ProgressStyle(descriptio…"
      ]
     },
     "metadata": {},
     "output_type": "display_data"
    },
    {
     "name": "stdout",
     "output_type": "stream",
     "text": [
      "\n"
     ]
    },
    {
     "data": {
      "application/vnd.jupyter.widget-view+json": {
       "model_id": "2f30ca709fd44197a5b7db1fe25c46d0",
       "version_major": 2,
       "version_minor": 0
      },
      "text/plain": [
       "HBox(children=(FloatProgress(value=0.0, description='WE model=idf', max=54196.0, style=ProgressStyle(descripti…"
      ]
     },
     "metadata": {},
     "output_type": "display_data"
    },
    {
     "name": "stdout",
     "output_type": "stream",
     "text": [
      "\n"
     ]
    },
    {
     "data": {
      "application/vnd.jupyter.widget-view+json": {
       "model_id": "5bca3677026d40dc94e6b4e0ed9b0771",
       "version_major": 2,
       "version_minor": 0
      },
      "text/plain": [
       "HBox(children=(FloatProgress(value=0.0, description='WE model=tfidf', max=54196.0, style=ProgressStyle(descrip…"
      ]
     },
     "metadata": {},
     "output_type": "display_data"
    },
    {
     "name": "stdout",
     "output_type": "stream",
     "text": [
      "\n"
     ]
    }
   ],
   "source": [
    "we_weight_evaluation_fr = we_weight_process_dataset(test_data[\"data_en_fr\"], \"fr\")"
   ]
  },
  {
   "cell_type": "code",
   "execution_count": 85,
   "metadata": {
    "execution": {
     "iopub.execute_input": "2021-01-25T15:23:39.130466Z",
     "iopub.status.busy": "2021-01-25T15:23:39.129943Z",
     "iopub.status.idle": "2021-01-25T15:25:21.947116Z",
     "shell.execute_reply": "2021-01-25T15:25:21.943184Z",
     "shell.execute_reply.started": "2021-01-25T15:23:39.130414Z"
    }
   },
   "outputs": [
    {
     "data": {
      "application/vnd.jupyter.widget-view+json": {
       "model_id": "589eebb9fb7541fd928115f71e3b7286",
       "version_major": 2,
       "version_minor": 0
      },
      "text/plain": [
       "HBox(children=(FloatProgress(value=0.0, description='WE model=tf', max=2359.0, style=ProgressStyle(description…"
      ]
     },
     "metadata": {},
     "output_type": "display_data"
    },
    {
     "name": "stdout",
     "output_type": "stream",
     "text": [
      "\n"
     ]
    },
    {
     "data": {
      "application/vnd.jupyter.widget-view+json": {
       "model_id": "d4a6a8c5198f45a3b838fc153814669a",
       "version_major": 2,
       "version_minor": 0
      },
      "text/plain": [
       "HBox(children=(FloatProgress(value=0.0, description='WE model=idf', max=2359.0, style=ProgressStyle(descriptio…"
      ]
     },
     "metadata": {},
     "output_type": "display_data"
    },
    {
     "name": "stdout",
     "output_type": "stream",
     "text": [
      "\n"
     ]
    },
    {
     "data": {
      "application/vnd.jupyter.widget-view+json": {
       "model_id": "392209278f2040249315185c83caef0a",
       "version_major": 2,
       "version_minor": 0
      },
      "text/plain": [
       "HBox(children=(FloatProgress(value=0.0, description='WE model=tfidf', max=2359.0, style=ProgressStyle(descript…"
      ]
     },
     "metadata": {},
     "output_type": "display_data"
    },
    {
     "name": "stdout",
     "output_type": "stream",
     "text": [
      "\n"
     ]
    }
   ],
   "source": [
    "we_weight_evaluation_tl = we_weight_process_dataset(test_data[\"data_en_tl\"], \"tl\")"
   ]
  },
  {
   "cell_type": "code",
   "execution_count": 86,
   "metadata": {
    "execution": {
     "iopub.execute_input": "2021-01-25T15:25:21.953132Z",
     "iopub.status.busy": "2021-01-25T15:25:21.952853Z",
     "iopub.status.idle": "2021-01-25T15:25:21.957399Z",
     "shell.execute_reply": "2021-01-25T15:25:21.956743Z",
     "shell.execute_reply.started": "2021-01-25T15:25:21.953095Z"
    }
   },
   "outputs": [],
   "source": [
    "we_weight = we_weight_evaluation_de + we_weight_evaluation_fr + we_weight_evaluation_tl"
   ]
  },
  {
   "cell_type": "code",
   "execution_count": 87,
   "metadata": {
    "execution": {
     "iopub.execute_input": "2021-01-25T15:25:21.958752Z",
     "iopub.status.busy": "2021-01-25T15:25:21.958558Z",
     "iopub.status.idle": "2021-01-25T15:25:22.409683Z",
     "shell.execute_reply": "2021-01-25T15:25:22.408904Z",
     "shell.execute_reply.started": "2021-01-25T15:25:21.958729Z"
    }
   },
   "outputs": [
    {
     "data": {
      "text/html": [
       "<div>\n",
       "<style scoped>\n",
       "    .dataframe tbody tr th:only-of-type {\n",
       "        vertical-align: middle;\n",
       "    }\n",
       "\n",
       "    .dataframe tbody tr th {\n",
       "        vertical-align: top;\n",
       "    }\n",
       "\n",
       "    .dataframe thead th {\n",
       "        text-align: right;\n",
       "    }\n",
       "</style>\n",
       "<table border=\"1\" class=\"dataframe\">\n",
       "  <thead>\n",
       "    <tr style=\"text-align: right;\">\n",
       "      <th></th>\n",
       "      <th>q_lang</th>\n",
       "      <th>d_lang</th>\n",
       "      <th>P@1</th>\n",
       "      <th>MAP</th>\n",
       "      <th>model</th>\n",
       "    </tr>\n",
       "  </thead>\n",
       "  <tbody>\n",
       "    <tr>\n",
       "      <th>0</th>\n",
       "      <td>en</td>\n",
       "      <td>de</td>\n",
       "      <td>0.736655</td>\n",
       "      <td>0.835902</td>\n",
       "      <td>tf</td>\n",
       "    </tr>\n",
       "    <tr>\n",
       "      <th>1</th>\n",
       "      <td>en</td>\n",
       "      <td>de</td>\n",
       "      <td>0.743961</td>\n",
       "      <td>0.840405</td>\n",
       "      <td>idf</td>\n",
       "    </tr>\n",
       "    <tr>\n",
       "      <th>2</th>\n",
       "      <td>en</td>\n",
       "      <td>de</td>\n",
       "      <td>0.763785</td>\n",
       "      <td>0.854061</td>\n",
       "      <td>tfidf</td>\n",
       "    </tr>\n",
       "    <tr>\n",
       "      <th>3</th>\n",
       "      <td>en</td>\n",
       "      <td>fr</td>\n",
       "      <td>0.717581</td>\n",
       "      <td>0.823263</td>\n",
       "      <td>tf</td>\n",
       "    </tr>\n",
       "    <tr>\n",
       "      <th>4</th>\n",
       "      <td>en</td>\n",
       "      <td>fr</td>\n",
       "      <td>0.718023</td>\n",
       "      <td>0.822198</td>\n",
       "      <td>idf</td>\n",
       "    </tr>\n",
       "    <tr>\n",
       "      <th>5</th>\n",
       "      <td>en</td>\n",
       "      <td>fr</td>\n",
       "      <td>0.753598</td>\n",
       "      <td>0.845904</td>\n",
       "      <td>tfidf</td>\n",
       "    </tr>\n",
       "    <tr>\n",
       "      <th>6</th>\n",
       "      <td>en</td>\n",
       "      <td>tl</td>\n",
       "      <td>0.589657</td>\n",
       "      <td>0.704402</td>\n",
       "      <td>tf</td>\n",
       "    </tr>\n",
       "    <tr>\n",
       "      <th>7</th>\n",
       "      <td>en</td>\n",
       "      <td>tl</td>\n",
       "      <td>0.594320</td>\n",
       "      <td>0.711674</td>\n",
       "      <td>idf</td>\n",
       "    </tr>\n",
       "    <tr>\n",
       "      <th>8</th>\n",
       "      <td>en</td>\n",
       "      <td>tl</td>\n",
       "      <td>0.597287</td>\n",
       "      <td>0.710278</td>\n",
       "      <td>tfidf</td>\n",
       "    </tr>\n",
       "  </tbody>\n",
       "</table>\n",
       "</div>"
      ],
      "text/plain": [
       "  q_lang d_lang       P@1       MAP  model\n",
       "0     en     de  0.736655  0.835902     tf\n",
       "1     en     de  0.743961  0.840405    idf\n",
       "2     en     de  0.763785  0.854061  tfidf\n",
       "3     en     fr  0.717581  0.823263     tf\n",
       "4     en     fr  0.718023  0.822198    idf\n",
       "5     en     fr  0.753598  0.845904  tfidf\n",
       "6     en     tl  0.589657  0.704402     tf\n",
       "7     en     tl  0.594320  0.711674    idf\n",
       "8     en     tl  0.597287  0.710278  tfidf"
      ]
     },
     "execution_count": 87,
     "metadata": {},
     "output_type": "execute_result"
    }
   ],
   "source": [
    "pd.DataFrame([format_evaluation(e) for e in we_weight])"
   ]
  },
  {
   "cell_type": "markdown",
   "metadata": {},
   "source": [
    "## Evaluate WE with EMD"
   ]
  },
  {
   "cell_type": "code",
   "execution_count": 94,
   "metadata": {
    "execution": {
     "iopub.execute_input": "2021-01-25T15:55:03.009565Z",
     "iopub.status.busy": "2021-01-25T15:55:03.009026Z",
     "iopub.status.idle": "2021-01-25T15:55:03.144022Z",
     "shell.execute_reply": "2021-01-25T15:55:03.142941Z",
     "shell.execute_reply.started": "2021-01-25T15:55:03.009511Z"
    }
   },
   "outputs": [],
   "source": [
    "import ot"
   ]
  },
  {
   "cell_type": "code",
   "execution_count": 95,
   "metadata": {
    "execution": {
     "iopub.execute_input": "2021-01-25T15:55:04.802685Z",
     "iopub.status.busy": "2021-01-25T15:55:04.802222Z",
     "iopub.status.idle": "2021-01-25T15:55:04.814118Z",
     "shell.execute_reply": "2021-01-25T15:55:04.813360Z",
     "shell.execute_reply.started": "2021-01-25T15:55:04.802635Z"
    }
   },
   "outputs": [],
   "source": [
    "def wmd(model1, model2, text1, text2):\n",
    "    # get the tokens and their appearances\n",
    "    tokens1 = model1.tokenize(text1)\n",
    "    tokens2 = model2.tokenize(text2)\n",
    "    \n",
    "    # get the token distributions\n",
    "    values1 = [value for key, value in tokens1 if key in model1.embedding]\n",
    "    values2 = [value for key, value in tokens2 if key in model2.embedding]\n",
    "    \n",
    "    if len(values1) == 0 or len(values2) == 0:\n",
    "        return 100\n",
    "    \n",
    "    # get embeddings\n",
    "    keys1 = [key for key, value in tokens1]\n",
    "    keys2 = [key for key, value in tokens2]\n",
    "    embeds_text1 = model1.word_embeddings(keys1)\n",
    "    embeds_text2 = model2.word_embeddings(keys2)\n",
    "    \n",
    "    # calculate cost matrix\n",
    "    cost_matrix = np.matmul(embeds_text1, embeds_text2.T)\n",
    "    cost_matrix = np.ones(cost_matrix.shape) - cost_matrix\n",
    "    \n",
    "    dist_text1 = np.array(values1) / sum(values1)\n",
    "    dist_text2 = np.array(values2) / sum(values2)\n",
    "    \n",
    "    return ot.emd2(dist_text1, dist_text2, cost_matrix)"
   ]
  },
  {
   "cell_type": "code",
   "execution_count": 99,
   "metadata": {
    "execution": {
     "iopub.execute_input": "2021-01-25T15:56:09.895473Z",
     "iopub.status.busy": "2021-01-25T15:56:09.895058Z",
     "iopub.status.idle": "2021-01-25T15:56:09.954617Z",
     "shell.execute_reply": "2021-01-25T15:56:09.953638Z",
     "shell.execute_reply.started": "2021-01-25T15:56:09.895428Z"
    }
   },
   "outputs": [],
   "source": [
    "def get_average_precision_at_k_emd(params):\n",
    "    \n",
    "    # get parameters\n",
    "    query = params[\"query\"]\n",
    "    documents = params[\"documents\"]\n",
    "    relevance = params[\"relevance\"]\n",
    "    q_lang = params[\"q_lang\"]\n",
    "    d_lang = params[\"d_lang\"]\n",
    "    \n",
    "    # shuffle the indices\n",
    "    index_shuffle = list(range(len(documents)))\n",
    "    random.shuffle(index_shuffle)\n",
    "    \n",
    "    s_documents = []\n",
    "    s_relevance = []\n",
    "    for i in index_shuffle:\n",
    "        s_documents.append(documents[i])\n",
    "        s_relevance.append(1 if int(relevance[i]) > 0 else 0)\n",
    "    \n",
    "    # get similarity\n",
    "    similarity = np.array([wmd(models[q_lang], models[d_lang], query, d) for d in s_documents])\n",
    "    sort_indices = np.argsort(similarity)\n",
    "    \n",
    "    # sort the relevance values based on the similarity order\n",
    "    sort_rel = np.array([s_relevance[ind] for ind in sort_indices])\n",
    "    \n",
    "    # get the cummulative sum over the whole relevance list\n",
    "    cum_rel = np.cumsum(sort_rel)\n",
    "    # calculate the precision at k value over the whole list\n",
    "    PatK = [sort_rel[idx] / (idx + 1) for idx in range(0, len(s_relevance))]\n",
    "    \n",
    "    # Group Truth Positives\n",
    "    GTP = sum(sort_rel)\n",
    "    # Average Precision for given query\n",
    "    AveP = 1 / GTP * sum(sort_rel * PatK)\n",
    "    \n",
    "    # return the Precision@1 and Average Precision\n",
    "    return { \"P@1\": PatK[0], \"AveP\": AveP, \"P@k\": PatK }"
   ]
  },
  {
   "cell_type": "code",
   "execution_count": 100,
   "metadata": {
    "execution": {
     "iopub.execute_input": "2021-01-25T15:56:10.425074Z",
     "iopub.status.busy": "2021-01-25T15:56:10.424699Z",
     "iopub.status.idle": "2021-01-25T15:56:10.434224Z",
     "shell.execute_reply": "2021-01-25T15:56:10.433298Z",
     "shell.execute_reply.started": "2021-01-25T15:56:10.425037Z"
    }
   },
   "outputs": [],
   "source": [
    "def we_emd_process_dataset(dataset, d_lang):\n",
    "    \n",
    "    # setup the vocabulary of the models\n",
    "    data = Dataset.from_dict(dataset)\n",
    "    # prepare the dataset loader\n",
    "    data = torch.utils.data.DataLoader(data, batch_size=batch_size)\n",
    "    \n",
    "    values = []\n",
    "    for example in tqdmn(data, desc=f\"WE model=EMD\"):\n",
    "        params = {\n",
    "            \"query\": example[\"query\"][0],\n",
    "            \"documents\": example[\"document\"],\n",
    "            \"relevance\": example[\"rel\"],\n",
    "            \"q_lang\": \"en\",\n",
    "            \"d_lang\": d_lang,\n",
    "        }\n",
    "        values.append(get_average_precision_at_k_emd(params))\n",
    "        \n",
    "    return [{\n",
    "        \"q_lang\": \"en\",\n",
    "        \"d_lang\": d_lang,\n",
    "        \"MAP\": sum([v[\"AveP\"] for v in values]) / len(values),\n",
    "        \"AveP@1\": sum([v[\"P@1\"] for v in values]) / len(values),\n",
    "        \"model\": \"emd\",\n",
    "    }]\n",
    "        \n",
    "    # return the evaluation results\n",
    "    return evaluation"
   ]
  },
  {
   "cell_type": "code",
   "execution_count": 102,
   "metadata": {
    "execution": {
     "iopub.execute_input": "2021-01-25T15:56:40.990857Z",
     "iopub.status.busy": "2021-01-25T15:56:40.990316Z",
     "iopub.status.idle": "2021-01-25T17:33:03.553886Z",
     "shell.execute_reply": "2021-01-25T17:33:03.553023Z",
     "shell.execute_reply.started": "2021-01-25T15:56:40.990794Z"
    }
   },
   "outputs": [
    {
     "data": {
      "application/vnd.jupyter.widget-view+json": {
       "model_id": "e9962a79d060419898e4edbe8cf8d30a",
       "version_major": 2,
       "version_minor": 0
      },
      "text/plain": [
       "HBox(children=(FloatProgress(value=0.0, description='WE model=EMD', max=42021.0, style=ProgressStyle(descripti…"
      ]
     },
     "metadata": {},
     "output_type": "display_data"
    },
    {
     "name": "stdout",
     "output_type": "stream",
     "text": [
      "\n"
     ]
    }
   ],
   "source": [
    "we_emd_evaluation_de = we_emd_process_dataset(test_data[\"data_en_de\"], \"de\")"
   ]
  },
  {
   "cell_type": "code",
   "execution_count": 104,
   "metadata": {
    "execution": {
     "iopub.execute_input": "2021-01-25T17:42:08.973419Z",
     "iopub.status.busy": "2021-01-25T17:42:08.972937Z",
     "iopub.status.idle": "2021-01-25T19:20:55.210785Z",
     "shell.execute_reply": "2021-01-25T19:20:55.210048Z",
     "shell.execute_reply.started": "2021-01-25T17:42:08.973368Z"
    }
   },
   "outputs": [
    {
     "data": {
      "application/vnd.jupyter.widget-view+json": {
       "model_id": "b507a93118104f31b901b88fec3bfb52",
       "version_major": 2,
       "version_minor": 0
      },
      "text/plain": [
       "HBox(children=(FloatProgress(value=0.0, description='WE model=EMD', max=54196.0, style=ProgressStyle(descripti…"
      ]
     },
     "metadata": {},
     "output_type": "display_data"
    },
    {
     "name": "stdout",
     "output_type": "stream",
     "text": [
      "\n"
     ]
    }
   ],
   "source": [
    "we_emd_evaluation_fr = we_emd_process_dataset(test_data[\"data_en_fr\"], \"fr\")"
   ]
  },
  {
   "cell_type": "code",
   "execution_count": 106,
   "metadata": {
    "execution": {
     "iopub.execute_input": "2021-01-25T19:20:55.218545Z",
     "iopub.status.busy": "2021-01-25T19:20:55.218376Z",
     "iopub.status.idle": "2021-01-25T19:23:09.557058Z",
     "shell.execute_reply": "2021-01-25T19:23:09.555124Z",
     "shell.execute_reply.started": "2021-01-25T19:20:55.218525Z"
    }
   },
   "outputs": [
    {
     "data": {
      "application/vnd.jupyter.widget-view+json": {
       "model_id": "3a9cbc4c7a0a41dda32a435d967846c5",
       "version_major": 2,
       "version_minor": 0
      },
      "text/plain": [
       "HBox(children=(FloatProgress(value=0.0, description='WE model=EMD', max=2359.0, style=ProgressStyle(descriptio…"
      ]
     },
     "metadata": {},
     "output_type": "display_data"
    },
    {
     "name": "stdout",
     "output_type": "stream",
     "text": [
      "\n"
     ]
    }
   ],
   "source": [
    "we_emd_evaluation_tl = we_emd_process_dataset(test_data[\"data_en_tl\"], \"tl\")"
   ]
  },
  {
   "cell_type": "code",
   "execution_count": 108,
   "metadata": {
    "execution": {
     "iopub.execute_input": "2021-01-25T19:23:09.576103Z",
     "iopub.status.busy": "2021-01-25T19:23:09.575792Z",
     "iopub.status.idle": "2021-01-25T19:23:09.736408Z",
     "shell.execute_reply": "2021-01-25T19:23:09.735613Z",
     "shell.execute_reply.started": "2021-01-25T19:23:09.576065Z"
    }
   },
   "outputs": [],
   "source": [
    "we_emd = we_emd_evaluation_de + we_emd_evaluation_fr + we_emd_evaluation_tl"
   ]
  },
  {
   "cell_type": "code",
   "execution_count": 109,
   "metadata": {
    "execution": {
     "iopub.execute_input": "2021-01-25T19:23:09.737790Z",
     "iopub.status.busy": "2021-01-25T19:23:09.737495Z",
     "iopub.status.idle": "2021-01-25T19:23:10.018078Z",
     "shell.execute_reply": "2021-01-25T19:23:10.017572Z",
     "shell.execute_reply.started": "2021-01-25T19:23:09.737758Z"
    }
   },
   "outputs": [
    {
     "data": {
      "text/html": [
       "<div>\n",
       "<style scoped>\n",
       "    .dataframe tbody tr th:only-of-type {\n",
       "        vertical-align: middle;\n",
       "    }\n",
       "\n",
       "    .dataframe tbody tr th {\n",
       "        vertical-align: top;\n",
       "    }\n",
       "\n",
       "    .dataframe thead th {\n",
       "        text-align: right;\n",
       "    }\n",
       "</style>\n",
       "<table border=\"1\" class=\"dataframe\">\n",
       "  <thead>\n",
       "    <tr style=\"text-align: right;\">\n",
       "      <th></th>\n",
       "      <th>q_lang</th>\n",
       "      <th>d_lang</th>\n",
       "      <th>P@1</th>\n",
       "      <th>MAP</th>\n",
       "      <th>model</th>\n",
       "    </tr>\n",
       "  </thead>\n",
       "  <tbody>\n",
       "    <tr>\n",
       "      <th>0</th>\n",
       "      <td>en</td>\n",
       "      <td>de</td>\n",
       "      <td>0.867281</td>\n",
       "      <td>0.919340</td>\n",
       "      <td>emd</td>\n",
       "    </tr>\n",
       "    <tr>\n",
       "      <th>1</th>\n",
       "      <td>en</td>\n",
       "      <td>fr</td>\n",
       "      <td>0.828216</td>\n",
       "      <td>0.894646</td>\n",
       "      <td>emd</td>\n",
       "    </tr>\n",
       "    <tr>\n",
       "      <th>2</th>\n",
       "      <td>en</td>\n",
       "      <td>tl</td>\n",
       "      <td>0.606189</td>\n",
       "      <td>0.722897</td>\n",
       "      <td>emd</td>\n",
       "    </tr>\n",
       "  </tbody>\n",
       "</table>\n",
       "</div>"
      ],
      "text/plain": [
       "  q_lang d_lang       P@1       MAP model\n",
       "0     en     de  0.867281  0.919340   emd\n",
       "1     en     fr  0.828216  0.894646   emd\n",
       "2     en     tl  0.606189  0.722897   emd"
      ]
     },
     "execution_count": 109,
     "metadata": {},
     "output_type": "execute_result"
    }
   ],
   "source": [
    "pd.DataFrame([format_evaluation(e) for e in we_emd])"
   ]
  }
 ],
 "metadata": {
  "kernelspec": {
   "display_name": "Python 3",
   "language": "python",
   "name": "python3"
  },
  "language_info": {
   "codemirror_mode": {
    "name": "ipython",
    "version": 3
   },
   "file_extension": ".py",
   "mimetype": "text/x-python",
   "name": "python",
   "nbconvert_exporter": "python",
   "pygments_lexer": "ipython3",
   "version": "3.6.10"
  }
 },
 "nbformat": 4,
 "nbformat_minor": 4
}
