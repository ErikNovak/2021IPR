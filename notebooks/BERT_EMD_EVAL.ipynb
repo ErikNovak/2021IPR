{
 "cells": [
  {
   "cell_type": "markdown",
   "metadata": {},
   "source": [
    "### Prepare the notebook to have access to all files"
   ]
  },
  {
   "cell_type": "code",
   "execution_count": 1,
   "metadata": {
    "ExecuteTime": {
     "end_time": "2021-01-26T15:28:50.071475Z",
     "start_time": "2021-01-26T15:28:50.065805Z"
    },
    "execution": {
     "iopub.execute_input": "2021-01-26T08:15:24.718665Z",
     "iopub.status.busy": "2021-01-26T08:15:24.718155Z",
     "iopub.status.idle": "2021-01-26T08:15:24.726201Z",
     "shell.execute_reply": "2021-01-26T08:15:24.725179Z",
     "shell.execute_reply.started": "2021-01-26T08:15:24.718537Z"
    }
   },
   "outputs": [],
   "source": [
    "import os\n",
    "import sys\n",
    "# get the project root\n",
    "__filename__ = os.path.abspath(\".\")\n",
    "__dirname__ = os.path.dirname(__filename__)\n",
    "if __dirname__ not in sys.path:\n",
    "    sys.path.append(__dirname__)"
   ]
  },
  {
   "cell_type": "markdown",
   "metadata": {
    "execution": {
     "iopub.execute_input": "2020-12-01T10:22:23.293558Z",
     "iopub.status.busy": "2020-12-01T10:22:23.293204Z",
     "iopub.status.idle": "2020-12-01T10:22:23.297517Z",
     "shell.execute_reply": "2020-12-01T10:22:23.296659Z",
     "shell.execute_reply.started": "2020-12-01T10:22:23.293517Z"
    }
   },
   "source": [
    "### Visualization and process library"
   ]
  },
  {
   "cell_type": "code",
   "execution_count": 2,
   "metadata": {
    "ExecuteTime": {
     "end_time": "2021-01-26T15:28:50.628284Z",
     "start_time": "2021-01-26T15:28:50.073875Z"
    },
    "execution": {
     "iopub.execute_input": "2021-01-26T08:15:25.530538Z",
     "iopub.status.busy": "2021-01-26T08:15:25.530113Z",
     "iopub.status.idle": "2021-01-26T08:15:27.492227Z",
     "shell.execute_reply": "2021-01-26T08:15:27.491246Z",
     "shell.execute_reply.started": "2021-01-26T08:15:25.530487Z"
    }
   },
   "outputs": [
    {
     "name": "stderr",
     "output_type": "stream",
     "text": [
      "\n",
      "Bad key \"text.kerning_factor\" on line 4 in\n",
      "/home/erikn/Programs/anaconda3/envs/paper2021IPR/lib/python3.8/site-packages/matplotlib/mpl-data/stylelib/_classic_test_patch.mplstyle.\n",
      "You probably need to get an updated matplotlibrc file from\n",
      "https://github.com/matplotlib/matplotlib/blob/v3.1.2/matplotlibrc.template\n",
      "or from the matplotlib source distribution\n"
     ]
    }
   ],
   "source": [
    "import random\n",
    "import pandas as pd\n",
    "from tqdm import notebook\n",
    "tqdmn = notebook.tqdm"
   ]
  },
  {
   "cell_type": "markdown",
   "metadata": {},
   "source": [
    "### Debugging Tool"
   ]
  },
  {
   "cell_type": "code",
   "execution_count": 3,
   "metadata": {
    "ExecuteTime": {
     "end_time": "2021-01-26T15:28:50.633252Z",
     "start_time": "2021-01-26T15:28:50.630458Z"
    },
    "execution": {
     "iopub.execute_input": "2021-01-26T08:15:28.027674Z",
     "iopub.status.busy": "2021-01-26T08:15:28.027250Z",
     "iopub.status.idle": "2021-01-26T08:15:28.032855Z",
     "shell.execute_reply": "2021-01-26T08:15:28.031944Z",
     "shell.execute_reply.started": "2021-01-26T08:15:28.027627Z"
    }
   },
   "outputs": [],
   "source": [
    "from importlib import reload"
   ]
  },
  {
   "cell_type": "markdown",
   "metadata": {},
   "source": [
    "# Data Loading"
   ]
  },
  {
   "cell_type": "code",
   "execution_count": 4,
   "metadata": {
    "ExecuteTime": {
     "end_time": "2021-01-26T15:28:51.656687Z",
     "start_time": "2021-01-26T15:28:50.635071Z"
    }
   },
   "outputs": [],
   "source": [
    "from library.data_loader import get_test_datasets"
   ]
  },
  {
   "cell_type": "code",
   "execution_count": 5,
   "metadata": {
    "ExecuteTime": {
     "end_time": "2021-01-26T15:28:51.661277Z",
     "start_time": "2021-01-26T15:28:51.658572Z"
    },
    "execution": {
     "iopub.execute_input": "2021-01-26T08:15:35.416762Z",
     "iopub.status.busy": "2021-01-26T08:15:35.416558Z",
     "iopub.status.idle": "2021-01-26T08:15:35.571805Z",
     "shell.execute_reply": "2021-01-26T08:15:35.570942Z",
     "shell.execute_reply.started": "2021-01-26T08:15:35.416736Z"
    }
   },
   "outputs": [],
   "source": [
    "test_data = {\n",
    "    \"data_en_de\": None,\n",
    "    \"data_en_fr\": None,\n",
    "    \"data_en_tl\": None,\n",
    "}"
   ]
  },
  {
   "cell_type": "code",
   "execution_count": 6,
   "metadata": {
    "ExecuteTime": {
     "end_time": "2021-01-26T15:30:40.630021Z",
     "start_time": "2021-01-26T15:28:51.662878Z"
    },
    "execution": {
     "iopub.execute_input": "2021-01-26T08:15:41.541880Z",
     "iopub.status.busy": "2021-01-26T08:15:41.541437Z",
     "iopub.status.idle": "2021-01-26T08:17:47.217543Z",
     "shell.execute_reply": "2021-01-26T08:17:47.216509Z",
     "shell.execute_reply.started": "2021-01-26T08:15:41.541831Z"
    }
   },
   "outputs": [],
   "source": [
    "for key in test_data.keys():\n",
    "    test_data[key] = get_test_datasets(key)"
   ]
  },
  {
   "cell_type": "markdown",
   "metadata": {},
   "source": [
    "# Model Libraries"
   ]
  },
  {
   "cell_type": "code",
   "execution_count": 7,
   "metadata": {
    "ExecuteTime": {
     "end_time": "2021-01-26T15:30:40.679870Z",
     "start_time": "2021-01-26T15:30:40.633277Z"
    },
    "execution": {
     "iopub.execute_input": "2021-01-26T08:17:47.219320Z",
     "iopub.status.busy": "2021-01-26T08:17:47.219111Z",
     "iopub.status.idle": "2021-01-26T08:17:48.548206Z",
     "shell.execute_reply": "2021-01-26T08:17:48.547414Z",
     "shell.execute_reply.started": "2021-01-26T08:17:47.219295Z"
    }
   },
   "outputs": [],
   "source": [
    "import torch\n",
    "import torch.nn as nn\n",
    "import torch.nn.functional as f\n",
    "import torch.optim as optim\n",
    "# import transformers\n",
    "from transformers import BertTokenizer\n",
    "# import datasets\n",
    "from datasets import Dataset\n",
    "# import the NEW method\n",
    "import library.bert_emd"
   ]
  },
  {
   "cell_type": "code",
   "execution_count": 8,
   "metadata": {
    "ExecuteTime": {
     "end_time": "2021-01-26T15:30:40.800048Z",
     "start_time": "2021-01-26T15:30:40.682719Z"
    },
    "execution": {
     "iopub.execute_input": "2021-01-26T08:17:48.550462Z",
     "iopub.status.busy": "2021-01-26T08:17:48.550142Z",
     "iopub.status.idle": "2021-01-26T08:17:48.559373Z",
     "shell.execute_reply": "2021-01-26T08:17:48.558488Z",
     "shell.execute_reply.started": "2021-01-26T08:17:48.550421Z"
    }
   },
   "outputs": [
    {
     "data": {
      "text/plain": [
       "<module 'library.bert_emd' from '/home/erikn/Documents/code/papers/Paper-2021-IPR/library/bert_emd.py'>"
      ]
     },
     "execution_count": 8,
     "metadata": {},
     "output_type": "execute_result"
    }
   ],
   "source": [
    "reload(library.bert_emd)"
   ]
  },
  {
   "cell_type": "code",
   "execution_count": 9,
   "metadata": {
    "ExecuteTime": {
     "end_time": "2021-01-26T15:30:40.935631Z",
     "start_time": "2021-01-26T15:30:40.802411Z"
    },
    "execution": {
     "iopub.execute_input": "2021-01-26T08:17:48.561248Z",
     "iopub.status.busy": "2021-01-26T08:17:48.560942Z",
     "iopub.status.idle": "2021-01-26T08:17:48.666811Z",
     "shell.execute_reply": "2021-01-26T08:17:48.665699Z",
     "shell.execute_reply.started": "2021-01-26T08:17:48.561211Z"
    }
   },
   "outputs": [],
   "source": [
    "# set the device on which we will train the model\n",
    "device = torch.device(\"cuda\" if torch.cuda.is_available() else \"cpu\")"
   ]
  },
  {
   "cell_type": "code",
   "execution_count": 10,
   "metadata": {
    "ExecuteTime": {
     "end_time": "2021-01-26T15:30:41.634053Z",
     "start_time": "2021-01-26T15:30:40.937434Z"
    },
    "execution": {
     "iopub.execute_input": "2021-01-26T08:17:48.668773Z",
     "iopub.status.busy": "2021-01-26T08:17:48.668395Z",
     "iopub.status.idle": "2021-01-26T08:17:49.336679Z",
     "shell.execute_reply": "2021-01-26T08:17:49.335978Z",
     "shell.execute_reply.started": "2021-01-26T08:17:48.668726Z"
    }
   },
   "outputs": [],
   "source": [
    "# get the bert tokenizer\n",
    "tokenizer = BertTokenizer.from_pretrained('bert-base-multilingual-cased')"
   ]
  },
  {
   "cell_type": "code",
   "execution_count": 11,
   "metadata": {
    "ExecuteTime": {
     "end_time": "2021-01-26T15:30:41.638102Z",
     "start_time": "2021-01-26T15:30:41.635814Z"
    },
    "execution": {
     "iopub.execute_input": "2021-01-26T08:17:49.338086Z",
     "iopub.status.busy": "2021-01-26T08:17:49.337819Z",
     "iopub.status.idle": "2021-01-26T08:17:49.341287Z",
     "shell.execute_reply": "2021-01-26T08:17:49.340651Z",
     "shell.execute_reply.started": "2021-01-26T08:17:49.338062Z"
    }
   },
   "outputs": [],
   "source": [
    "PATH = '../data/models/bert_emd_sasaki18.pth'"
   ]
  },
  {
   "cell_type": "code",
   "execution_count": 12,
   "metadata": {
    "ExecuteTime": {
     "end_time": "2021-01-26T15:30:49.616136Z",
     "start_time": "2021-01-26T15:30:41.640237Z"
    },
    "execution": {
     "iopub.execute_input": "2021-01-26T08:17:49.342479Z",
     "iopub.status.busy": "2021-01-26T08:17:49.342307Z",
     "iopub.status.idle": "2021-01-26T08:18:04.042527Z",
     "shell.execute_reply": "2021-01-26T08:18:04.041751Z",
     "shell.execute_reply.started": "2021-01-26T08:17:49.342457Z"
    }
   },
   "outputs": [],
   "source": [
    "# load the NEW method used for CLIR\n",
    "model = library.bert_emd.BERT_EMD()\n",
    "model.load_state_dict(torch.load(PATH))\n",
    "model = model.eval().to(device)"
   ]
  },
  {
   "cell_type": "code",
   "execution_count": 13,
   "metadata": {
    "ExecuteTime": {
     "end_time": "2021-01-26T15:30:49.621240Z",
     "start_time": "2021-01-26T15:30:49.618069Z"
    },
    "execution": {
     "iopub.execute_input": "2021-01-26T08:18:04.044651Z",
     "iopub.status.busy": "2021-01-26T08:18:04.044432Z",
     "iopub.status.idle": "2021-01-26T08:18:04.052879Z",
     "shell.execute_reply": "2021-01-26T08:18:04.052175Z",
     "shell.execute_reply.started": "2021-01-26T08:18:04.044623Z"
    }
   },
   "outputs": [],
   "source": [
    "def format_evaluation(d):\n",
    "    return {\n",
    "        \"model\": d[\"model\"],\n",
    "        \"q_lang\": d[\"q_lang\"],\n",
    "        \"d_lang\": d[\"d_lang\"],\n",
    "        \"P@1\": d[\"P@1\"],\n",
    "        \"MAP\": d[\"MAP\"],\n",
    "    }"
   ]
  },
  {
   "cell_type": "code",
   "execution_count": 14,
   "metadata": {
    "ExecuteTime": {
     "end_time": "2021-01-26T15:30:49.803727Z",
     "start_time": "2021-01-26T15:30:49.622777Z"
    },
    "execution": {
     "iopub.execute_input": "2021-01-26T08:18:04.054357Z",
     "iopub.status.busy": "2021-01-26T08:18:04.054147Z",
     "iopub.status.idle": "2021-01-26T08:18:04.209546Z",
     "shell.execute_reply": "2021-01-26T08:18:04.208568Z",
     "shell.execute_reply.started": "2021-01-26T08:18:04.054331Z"
    }
   },
   "outputs": [],
   "source": [
    "def evaluate(batch):\n",
    "    q_inputs = tokenizer(batch['query'], truncation=True, padding=True, return_tensors='pt')\n",
    "    d_inputs = tokenizer(batch['documents'], truncation=True, padding=True, return_tensors='pt')\n",
    "    # get the input batches\n",
    "    examples = { \n",
    "        'q_input_ids': q_inputs['input_ids'],\n",
    "        'q_attention_mask': q_inputs['attention_mask'],\n",
    "        'q_token_type_ids': q_inputs['token_type_ids'],\n",
    "        'd_input_ids': d_inputs['input_ids'],\n",
    "        'd_attention_mask': d_inputs['attention_mask'],\n",
    "        'd_token_type_ids': d_inputs['token_type_ids'],\n",
    "    }\n",
    "    # move the batch tensors to the same device as the \n",
    "    examples = { k: v.to(device) for k, v in examples.items() }\n",
    "    # send 'input_ids', 'attention_mask' and 'labels' to the model\n",
    "    # the outputs are of shape (loss, distances)\n",
    "    outputs = model(**examples)\n",
    "    return outputs"
   ]
  },
  {
   "cell_type": "code",
   "execution_count": 15,
   "metadata": {
    "ExecuteTime": {
     "end_time": "2021-01-26T15:30:49.895258Z",
     "start_time": "2021-01-26T15:30:49.806373Z"
    },
    "execution": {
     "iopub.execute_input": "2021-01-26T08:18:04.211211Z",
     "iopub.status.busy": "2021-01-26T08:18:04.210914Z",
     "iopub.status.idle": "2021-01-26T08:18:04.308574Z",
     "shell.execute_reply": "2021-01-26T08:18:04.307608Z",
     "shell.execute_reply.started": "2021-01-26T08:18:04.211173Z"
    }
   },
   "outputs": [],
   "source": [
    "def get_average_precision_at_k(params, model):\n",
    "    # get parameters for calculation\n",
    "    labels = torch.Tensor(params[\"relevance\"])\n",
    "    # get the loss values\n",
    "    with torch.no_grad():\n",
    "        outputs = evaluate(params)\n",
    "        # sort the instances\n",
    "        distances = outputs[0].detach().cpu()\n",
    "        # delete the outputs\n",
    "        del outputs\n",
    "    # Make sure deallocation has taken place\n",
    "    if torch.cuda.is_available():\n",
    "        torch.cuda.empty_cache()\n",
    "        torch.cuda.synchronize()\n",
    "    \n",
    "    # get the sort indices\n",
    "    sort_indices = distances.argsort()\n",
    "    # sort the labels values based on the similarity order\n",
    "    RelAtK = labels[sort_indices]\n",
    "    # get the cummulative sum over the whole labels list\n",
    "    cum_labels = RelAtK.cumsum(dim=0)\n",
    "    # calculate the precision at k value over the whole list\n",
    "    PatK = cum_labels * torch.Tensor([1 / (i + 1) for i in range(labels.shape[0])])\n",
    "    # Group Truth Positives\n",
    "    GTP = RelAtK.sum()\n",
    "    # Average Precision for given query\n",
    "    AveP = (1 / GTP * (RelAtK * PatK).sum())\n",
    "    return { \"P@1\": PatK[0].item(), \"AveP\": AveP.item() }"
   ]
  },
  {
   "cell_type": "code",
   "execution_count": 16,
   "metadata": {
    "ExecuteTime": {
     "end_time": "2021-01-26T15:30:50.019500Z",
     "start_time": "2021-01-26T15:30:49.897341Z"
    },
    "execution": {
     "iopub.execute_input": "2021-01-26T08:21:13.935008Z",
     "iopub.status.busy": "2021-01-26T08:21:13.934544Z",
     "iopub.status.idle": "2021-01-26T08:21:13.948948Z",
     "shell.execute_reply": "2021-01-26T08:21:13.947880Z",
     "shell.execute_reply.started": "2021-01-26T08:21:13.934958Z"
    }
   },
   "outputs": [],
   "source": [
    "# set a placeholder for evaluation results\n",
    "def lm_process_dataset(dataset, d_lang, model_type, model):\n",
    "    values = []\n",
    "    # set a placeholder for evaluation results\n",
    "    for example in tqdmn(dataset):\n",
    "        query = example[\"query\"]\n",
    "        documents = example[\"documents\"]\n",
    "        relevance = example[\"relevance\"]\n",
    "        \n",
    "        index_shuffle = list(range(len(documents)))\n",
    "        random.shuffle(index_shuffle)\n",
    "        \n",
    "        documents = [documents[index_shuffle[i]] for i in range(len(documents))]\n",
    "        relevance = [relevance[index_shuffle[i]] for i in range(len(relevance))]\n",
    "        \n",
    "        params = {\n",
    "            \"query\": query,\n",
    "            \"documents\": documents,\n",
    "            \"relevance\": relevance,\n",
    "        }\n",
    "        values.append(get_average_precision_at_k(params, model))\n",
    "\n",
    "    # return the evaluation results\n",
    "    return [{\n",
    "        \"q_lang\": \"en\",\n",
    "        \"d_lang\": d_lang,\n",
    "        \"P@1\": sum([v[\"P@1\"] for v in values]) / len(values),\n",
    "        \"MAP\": sum([v[\"AveP\"] for v in values]) / len(values),\n",
    "        \"model\": model_type\n",
    "    }]"
   ]
  },
  {
   "cell_type": "code",
   "execution_count": null,
   "metadata": {
    "ExecuteTime": {
     "start_time": "2021-01-26T15:29:39.940Z"
    },
    "execution": {
     "iopub.execute_input": "2021-01-26T08:21:14.494846Z",
     "iopub.status.busy": "2021-01-26T08:21:14.494487Z"
    }
   },
   "outputs": [
    {
     "data": {
      "application/vnd.jupyter.widget-view+json": {
       "model_id": "99dd6300f0524764a8c134a4da7d1c30",
       "version_major": 2,
       "version_minor": 0
      },
      "text/plain": [
       "HBox(children=(FloatProgress(value=0.0, max=42021.0), HTML(value='')))"
      ]
     },
     "metadata": {},
     "output_type": "display_data"
    }
   ],
   "source": [
    "bert_evaluation_de = lm_process_dataset(test_data[\"data_en_de\"], \"de\", \"mbert\", model)"
   ]
  },
  {
   "cell_type": "code",
   "execution_count": null,
   "metadata": {
    "ExecuteTime": {
     "start_time": "2021-01-26T15:29:39.943Z"
    },
    "execution": {
     "iopub.execute_input": "2021-01-26T08:20:57.533781Z",
     "iopub.status.busy": "2021-01-26T08:20:57.533322Z",
     "iopub.status.idle": "2021-01-26T08:20:57.552732Z",
     "shell.execute_reply": "2021-01-26T08:20:57.551949Z",
     "shell.execute_reply.started": "2021-01-26T08:20:57.533730Z"
    }
   },
   "outputs": [],
   "source": [
    "pd.DataFrame([format_evaluation(bert_evaluation_de[0])])"
   ]
  },
  {
   "cell_type": "code",
   "execution_count": null,
   "metadata": {
    "ExecuteTime": {
     "start_time": "2021-01-26T15:29:39.945Z"
    },
    "execution": {
     "iopub.execute_input": "2021-01-16T19:23:50.549495Z",
     "iopub.status.busy": "2021-01-16T19:23:50.549323Z"
    }
   },
   "outputs": [],
   "source": [
    "bert_evaluation_fr = lm_process_dataset(test_data[\"data_en_fr\"], \"fr\", \"mbert\", model)"
   ]
  },
  {
   "cell_type": "code",
   "execution_count": null,
   "metadata": {
    "ExecuteTime": {
     "start_time": "2021-01-26T15:29:39.947Z"
    },
    "execution": {
     "iopub.execute_input": "2021-01-16T23:38:26.416254Z",
     "iopub.status.busy": "2021-01-16T23:38:26.415810Z",
     "iopub.status.idle": "2021-01-16T23:38:26.432215Z",
     "shell.execute_reply": "2021-01-16T23:38:26.431469Z",
     "shell.execute_reply.started": "2021-01-16T23:38:26.416203Z"
    }
   },
   "outputs": [],
   "source": [
    "pd.DataFrame([format_evaluation(bert_evaluation_fr[0])])"
   ]
  },
  {
   "cell_type": "code",
   "execution_count": null,
   "metadata": {
    "ExecuteTime": {
     "start_time": "2021-01-26T15:29:39.950Z"
    }
   },
   "outputs": [],
   "source": [
    "bert_evaluation_tl = lm_process_dataset(test_data[\"data_en_tl\"], \"tl\", \"mbert\", model)"
   ]
  },
  {
   "cell_type": "code",
   "execution_count": null,
   "metadata": {
    "ExecuteTime": {
     "start_time": "2021-01-26T15:29:39.952Z"
    },
    "execution": {
     "iopub.execute_input": "2021-01-16T23:38:28.519072Z",
     "iopub.status.busy": "2021-01-16T23:38:28.518632Z",
     "iopub.status.idle": "2021-01-16T23:38:28.535691Z",
     "shell.execute_reply": "2021-01-16T23:38:28.534877Z",
     "shell.execute_reply.started": "2021-01-16T23:38:28.519022Z"
    }
   },
   "outputs": [],
   "source": [
    "pd.DataFrame([format_evaluation(bert_evaluation_tl[0])])"
   ]
  },
  {
   "cell_type": "code",
   "execution_count": null,
   "metadata": {
    "ExecuteTime": {
     "start_time": "2021-01-26T15:29:39.953Z"
    }
   },
   "outputs": [],
   "source": [
    "bert_evaluation = bert_evaluation_de + bert_evaluation_fr + bert_evaluation_tl"
   ]
  },
  {
   "cell_type": "code",
   "execution_count": null,
   "metadata": {
    "ExecuteTime": {
     "start_time": "2021-01-26T15:29:39.957Z"
    },
    "execution": {
     "iopub.execute_input": "2021-01-16T23:38:30.012980Z",
     "iopub.status.busy": "2021-01-16T23:38:30.012647Z",
     "iopub.status.idle": "2021-01-16T23:38:30.035107Z",
     "shell.execute_reply": "2021-01-16T23:38:30.033991Z",
     "shell.execute_reply.started": "2021-01-16T23:38:30.012944Z"
    }
   },
   "outputs": [],
   "source": [
    "pd.DataFrame([format_evaluation(e) for e in bert_evaluation])"
   ]
  }
 ],
 "metadata": {
  "kernelspec": {
   "display_name": "Python 3",
   "language": "python",
   "name": "python3"
  },
  "language_info": {
   "codemirror_mode": {
    "name": "ipython",
    "version": 3
   },
   "file_extension": ".py",
   "mimetype": "text/x-python",
   "name": "python",
   "nbconvert_exporter": "python",
   "pygments_lexer": "ipython3",
   "version": "3.8.5"
  }
 },
 "nbformat": 4,
 "nbformat_minor": 4
}
