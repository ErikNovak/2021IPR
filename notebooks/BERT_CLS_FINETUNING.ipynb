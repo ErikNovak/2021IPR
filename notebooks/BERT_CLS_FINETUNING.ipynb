{
 "cells": [
  {
   "cell_type": "markdown",
   "metadata": {},
   "source": [
    "### Prepare the notebook to have access to all files"
   ]
  },
  {
   "cell_type": "code",
   "execution_count": 1,
   "metadata": {
    "ExecuteTime": {
     "end_time": "2021-01-26T17:19:19.984505Z",
     "start_time": "2021-01-26T17:19:19.978264Z"
    },
    "execution": {
     "iopub.execute_input": "2021-01-22T10:58:45.347118Z",
     "iopub.status.busy": "2021-01-22T10:58:45.346914Z",
     "iopub.status.idle": "2021-01-22T10:58:45.351252Z",
     "shell.execute_reply": "2021-01-22T10:58:45.350608Z",
     "shell.execute_reply.started": "2021-01-22T10:58:45.347062Z"
    }
   },
   "outputs": [],
   "source": [
    "import os\n",
    "import sys\n",
    "# get the project root\n",
    "__filename__ = os.path.abspath(\".\")\n",
    "__dirname__ = os.path.dirname(__filename__)\n",
    "if __dirname__ not in sys.path:\n",
    "    sys.path.append(__dirname__)"
   ]
  },
  {
   "cell_type": "markdown",
   "metadata": {
    "execution": {
     "iopub.execute_input": "2020-12-01T10:22:23.293558Z",
     "iopub.status.busy": "2020-12-01T10:22:23.293204Z",
     "iopub.status.idle": "2020-12-01T10:22:23.297517Z",
     "shell.execute_reply": "2020-12-01T10:22:23.296659Z",
     "shell.execute_reply.started": "2020-12-01T10:22:23.293517Z"
    }
   },
   "source": [
    "### Visualization and process library"
   ]
  },
  {
   "cell_type": "code",
   "execution_count": 2,
   "metadata": {
    "ExecuteTime": {
     "end_time": "2021-01-26T17:19:21.382503Z",
     "start_time": "2021-01-26T17:19:19.987374Z"
    },
    "execution": {
     "iopub.execute_input": "2021-01-22T10:58:45.352838Z",
     "iopub.status.busy": "2021-01-22T10:58:45.352674Z",
     "iopub.status.idle": "2021-01-22T10:58:45.862498Z",
     "shell.execute_reply": "2021-01-22T10:58:45.861787Z",
     "shell.execute_reply.started": "2021-01-22T10:58:45.352817Z"
    }
   },
   "outputs": [
    {
     "name": "stderr",
     "output_type": "stream",
     "text": [
      "\n",
      "Bad key \"text.kerning_factor\" on line 4 in\n",
      "/home/erikn/Programs/anaconda3/envs/paper2021IPR/lib/python3.8/site-packages/matplotlib/mpl-data/stylelib/_classic_test_patch.mplstyle.\n",
      "You probably need to get an updated matplotlibrc file from\n",
      "https://github.com/matplotlib/matplotlib/blob/v3.1.2/matplotlibrc.template\n",
      "or from the matplotlib source distribution\n"
     ]
    }
   ],
   "source": [
    "import torch\n",
    "import random\n",
    "import matplotlib.pyplot as plt\n",
    "from tqdm import notebook\n",
    "tqdmn = notebook.tqdm"
   ]
  },
  {
   "cell_type": "markdown",
   "metadata": {},
   "source": [
    "### Debugging Tool"
   ]
  },
  {
   "cell_type": "code",
   "execution_count": 3,
   "metadata": {
    "ExecuteTime": {
     "end_time": "2021-01-26T17:19:21.386988Z",
     "start_time": "2021-01-26T17:19:21.384490Z"
    },
    "execution": {
     "iopub.execute_input": "2021-01-22T10:58:45.864095Z",
     "iopub.status.busy": "2021-01-22T10:58:45.863911Z",
     "iopub.status.idle": "2021-01-22T10:58:45.867509Z",
     "shell.execute_reply": "2021-01-22T10:58:45.866921Z",
     "shell.execute_reply.started": "2021-01-22T10:58:45.864074Z"
    }
   },
   "outputs": [],
   "source": [
    "from importlib import reload"
   ]
  },
  {
   "cell_type": "markdown",
   "metadata": {},
   "source": [
    "# Data Loading"
   ]
  },
  {
   "cell_type": "code",
   "execution_count": 4,
   "metadata": {
    "ExecuteTime": {
     "end_time": "2021-01-26T17:19:21.935057Z",
     "start_time": "2021-01-26T17:19:21.388504Z"
    },
    "execution": {
     "iopub.execute_input": "2021-01-22T10:58:45.868540Z",
     "iopub.status.busy": "2021-01-22T10:58:45.868351Z",
     "iopub.status.idle": "2021-01-22T10:58:45.978051Z",
     "shell.execute_reply": "2021-01-22T10:58:45.976866Z",
     "shell.execute_reply.started": "2021-01-22T10:58:45.868517Z"
    }
   },
   "outputs": [],
   "source": [
    "from library.data_loader import get_train_datasets"
   ]
  },
  {
   "cell_type": "code",
   "execution_count": 5,
   "metadata": {
    "ExecuteTime": {
     "end_time": "2021-01-26T17:19:21.939435Z",
     "start_time": "2021-01-26T17:19:21.936969Z"
    },
    "execution": {
     "iopub.execute_input": "2021-01-22T10:58:46.546853Z",
     "iopub.status.busy": "2021-01-22T10:58:46.546485Z",
     "iopub.status.idle": "2021-01-22T10:58:46.735855Z",
     "shell.execute_reply": "2021-01-22T10:58:46.734801Z",
     "shell.execute_reply.started": "2021-01-22T10:58:46.546809Z"
    }
   },
   "outputs": [],
   "source": [
    "data = {\n",
    "    \"data_en_de\": None,\n",
    "    \"data_en_fr\": None,\n",
    "    \"data_en_tl\": None,\n",
    "}"
   ]
  },
  {
   "cell_type": "code",
   "execution_count": 6,
   "metadata": {
    "ExecuteTime": {
     "end_time": "2021-01-26T17:21:08.598600Z",
     "start_time": "2021-01-26T17:19:21.941004Z"
    },
    "execution": {
     "iopub.execute_input": "2021-01-22T10:58:46.737826Z",
     "iopub.status.busy": "2021-01-22T10:58:46.737367Z",
     "iopub.status.idle": "2021-01-22T11:00:24.399104Z",
     "shell.execute_reply": "2021-01-22T11:00:24.397612Z",
     "shell.execute_reply.started": "2021-01-22T10:58:46.737780Z"
    }
   },
   "outputs": [],
   "source": [
    "for key in data.keys():\n",
    "    data[key] = get_train_datasets(key)"
   ]
  },
  {
   "cell_type": "markdown",
   "metadata": {},
   "source": [
    "# Model Libraries"
   ]
  },
  {
   "cell_type": "code",
   "execution_count": 7,
   "metadata": {
    "ExecuteTime": {
     "end_time": "2021-01-26T17:21:08.643639Z",
     "start_time": "2021-01-26T17:21:08.600878Z"
    },
    "execution": {
     "iopub.execute_input": "2021-01-22T11:00:26.500773Z",
     "iopub.status.busy": "2021-01-22T11:00:26.500598Z",
     "iopub.status.idle": "2021-01-22T11:00:30.916670Z",
     "shell.execute_reply": "2021-01-22T11:00:30.915685Z",
     "shell.execute_reply.started": "2021-01-22T11:00:26.500752Z"
    }
   },
   "outputs": [],
   "source": [
    "import torch\n",
    "import torch.nn as nn\n",
    "import torch.nn.functional as f\n",
    "import torch.optim as optim\n",
    "# import transformers\n",
    "from transformers import BertTokenizer\n",
    "# import the NEW method\n",
    "import library.bert_cls"
   ]
  },
  {
   "cell_type": "code",
   "execution_count": 8,
   "metadata": {
    "ExecuteTime": {
     "end_time": "2021-01-26T17:21:08.740893Z",
     "start_time": "2021-01-26T17:21:08.646274Z"
    },
    "execution": {
     "iopub.execute_input": "2021-01-22T11:00:30.917795Z",
     "iopub.status.busy": "2021-01-22T11:00:30.917627Z",
     "iopub.status.idle": "2021-01-22T11:00:30.924504Z",
     "shell.execute_reply": "2021-01-22T11:00:30.923675Z",
     "shell.execute_reply.started": "2021-01-22T11:00:30.917773Z"
    }
   },
   "outputs": [
    {
     "data": {
      "text/plain": [
       "<module 'library.bert_cls' from '/home/erikn/Documents/code/papers/Paper-2021-IPR/library/bert_cls.py'>"
      ]
     },
     "execution_count": 8,
     "metadata": {},
     "output_type": "execute_result"
    }
   ],
   "source": [
    "reload(library.bert_cls)"
   ]
  },
  {
   "cell_type": "markdown",
   "metadata": {},
   "source": [
    "## Model Training"
   ]
  },
  {
   "cell_type": "code",
   "execution_count": 9,
   "metadata": {
    "ExecuteTime": {
     "end_time": "2021-01-26T17:21:08.813289Z",
     "start_time": "2021-01-26T17:21:08.743248Z"
    },
    "execution": {
     "iopub.execute_input": "2021-01-22T11:00:48.142924Z",
     "iopub.status.busy": "2021-01-22T11:00:48.142693Z",
     "iopub.status.idle": "2021-01-22T11:00:48.146957Z",
     "shell.execute_reply": "2021-01-22T11:00:48.146355Z",
     "shell.execute_reply.started": "2021-01-22T11:00:48.142894Z"
    }
   },
   "outputs": [],
   "source": [
    "n_epochs = 1\n",
    "n_steps = 16\n",
    "batch_size = 5"
   ]
  },
  {
   "cell_type": "code",
   "execution_count": 10,
   "metadata": {
    "ExecuteTime": {
     "end_time": "2021-01-26T17:21:08.922509Z",
     "start_time": "2021-01-26T17:21:08.815448Z"
    },
    "execution": {
     "iopub.execute_input": "2021-01-22T11:00:48.148239Z",
     "iopub.status.busy": "2021-01-22T11:00:48.148031Z",
     "iopub.status.idle": "2021-01-22T11:00:48.313635Z",
     "shell.execute_reply": "2021-01-22T11:00:48.312560Z",
     "shell.execute_reply.started": "2021-01-22T11:00:48.148213Z"
    }
   },
   "outputs": [],
   "source": [
    "# set the device on which we will train the model\n",
    "device = torch.device(\"cuda\" if torch.cuda.is_available() else \"cpu\")"
   ]
  },
  {
   "cell_type": "code",
   "execution_count": 11,
   "metadata": {
    "ExecuteTime": {
     "end_time": "2021-01-26T17:21:09.518189Z",
     "start_time": "2021-01-26T17:21:08.924668Z"
    },
    "execution": {
     "iopub.execute_input": "2021-01-22T11:00:48.406392Z",
     "iopub.status.busy": "2021-01-22T11:00:48.406010Z",
     "iopub.status.idle": "2021-01-22T11:00:52.046536Z",
     "shell.execute_reply": "2021-01-22T11:00:52.045671Z",
     "shell.execute_reply.started": "2021-01-22T11:00:48.406347Z"
    }
   },
   "outputs": [],
   "source": [
    "# get the bert tokenizer\n",
    "tokenizer = BertTokenizer.from_pretrained('bert-base-multilingual-cased')"
   ]
  },
  {
   "cell_type": "code",
   "execution_count": 12,
   "metadata": {
    "ExecuteTime": {
     "end_time": "2021-01-26T17:21:17.921600Z",
     "start_time": "2021-01-26T17:21:09.520128Z"
    },
    "execution": {
     "iopub.execute_input": "2021-01-22T11:00:52.047980Z",
     "iopub.status.busy": "2021-01-22T11:00:52.047755Z",
     "iopub.status.idle": "2021-01-22T11:01:00.927214Z",
     "shell.execute_reply": "2021-01-22T11:01:00.926193Z",
     "shell.execute_reply.started": "2021-01-22T11:00:52.047956Z"
    }
   },
   "outputs": [],
   "source": [
    "# load the NEW method used for CLIR\n",
    "model = library.bert_cls.BERT_CLS().train().to(device)"
   ]
  },
  {
   "cell_type": "code",
   "execution_count": 13,
   "metadata": {
    "ExecuteTime": {
     "end_time": "2021-01-26T17:21:17.928904Z",
     "start_time": "2021-01-26T17:21:17.923513Z"
    },
    "execution": {
     "iopub.execute_input": "2021-01-22T11:01:00.928567Z",
     "iopub.status.busy": "2021-01-22T11:01:00.928378Z",
     "iopub.status.idle": "2021-01-22T11:01:00.934888Z",
     "shell.execute_reply": "2021-01-22T11:01:00.934034Z",
     "shell.execute_reply.started": "2021-01-22T11:01:00.928543Z"
    }
   },
   "outputs": [],
   "source": [
    "# initialize the Adam optimizer (used for training/updating the model)\n",
    "optimizer = optim.AdamW(params=model.parameters(), lr=1e-6)"
   ]
  },
  {
   "cell_type": "code",
   "execution_count": 14,
   "metadata": {
    "ExecuteTime": {
     "end_time": "2021-01-26T17:21:18.222080Z",
     "start_time": "2021-01-26T17:21:17.930482Z"
    },
    "execution": {
     "iopub.execute_input": "2021-01-22T11:01:00.936012Z",
     "iopub.status.busy": "2021-01-22T11:01:00.935801Z",
     "iopub.status.idle": "2021-01-22T11:01:01.040634Z",
     "shell.execute_reply": "2021-01-22T11:01:01.039428Z",
     "shell.execute_reply.started": "2021-01-22T11:01:00.935989Z"
    }
   },
   "outputs": [],
   "source": [
    "cross_entropy_loss = torch.nn.CrossEntropyLoss()"
   ]
  },
  {
   "cell_type": "code",
   "execution_count": 15,
   "metadata": {
    "ExecuteTime": {
     "end_time": "2021-01-26T17:21:18.410476Z",
     "start_time": "2021-01-26T17:21:18.224523Z"
    },
    "execution": {
     "iopub.execute_input": "2021-01-22T11:01:01.042701Z",
     "iopub.status.busy": "2021-01-22T11:01:01.042351Z",
     "iopub.status.idle": "2021-01-22T11:01:01.143172Z",
     "shell.execute_reply": "2021-01-22T11:01:01.142311Z",
     "shell.execute_reply.started": "2021-01-22T11:01:01.042656Z"
    }
   },
   "outputs": [
    {
     "name": "stdout",
     "output_type": "stream",
     "text": [
      "Parameter containing:\n",
      "tensor([[ 0.0260, -0.0062, -0.0041,  ...,  0.0297,  0.0242,  0.0197],\n",
      "        [ 0.0104, -0.0136,  0.0067,  ...,  0.0124,  0.0267,  0.0337],\n",
      "        [ 0.0221, -0.0036,  0.0193,  ...,  0.0069,  0.0268,  0.0050],\n",
      "        ...,\n",
      "        [ 0.0068,  0.0189,  0.0267,  ...,  0.0229,  0.0647,  0.0437],\n",
      "        [ 0.0184,  0.0148,  0.0243,  ...,  0.0321,  0.0071,  0.0204],\n",
      "        [ 0.0214,  0.0188, -0.0134,  ..., -0.0060,  0.0058, -0.0059]],\n",
      "       device='cuda:0', requires_grad=True)\n"
     ]
    }
   ],
   "source": [
    "for param in model.parameters():\n",
    "    print(param)\n",
    "    break"
   ]
  },
  {
   "cell_type": "code",
   "execution_count": 16,
   "metadata": {
    "ExecuteTime": {
     "end_time": "2021-01-26T17:21:18.598099Z",
     "start_time": "2021-01-26T17:21:18.412870Z"
    },
    "execution": {
     "iopub.execute_input": "2021-01-22T11:01:01.144520Z",
     "iopub.status.busy": "2021-01-22T11:01:01.144338Z",
     "iopub.status.idle": "2021-01-22T11:01:01.216110Z",
     "shell.execute_reply": "2021-01-22T11:01:01.214984Z",
     "shell.execute_reply.started": "2021-01-22T11:01:01.144497Z"
    }
   },
   "outputs": [],
   "source": [
    "def train(batch, loss_fn):\n",
    "    query = batch[\"query\"]\n",
    "    documents = batch[\"documents\"]\n",
    "    relevance = batch[\"relevance\"]\n",
    "    \n",
    "    # shuffle the indices\n",
    "    index_shuffle = list(range(len(documents)))\n",
    "    random.shuffle(index_shuffle)\n",
    "\n",
    "    documents = [documents[index_shuffle[i]] for i in range(len(documents))]\n",
    "    relevance = [relevance[index_shuffle[i]] for i in range(len(relevance))]\n",
    "    \n",
    "    q_inputs = tokenizer(query, truncation=True, padding=True, return_tensors='pt')\n",
    "    d_inputs = tokenizer(documents, truncation=True, padding=True, return_tensors='pt')\n",
    "    labels = torch.LongTensor([relevance.index(1)])\n",
    "    labels = labels.to(device)\n",
    "    # get the input batches\n",
    "    examples = { \n",
    "        'q_input_ids': q_inputs['input_ids'],\n",
    "        'q_attention_mask': q_inputs['attention_mask'],\n",
    "        'q_token_type_ids': q_inputs['token_type_ids'],\n",
    "        'd_input_ids': d_inputs['input_ids'],\n",
    "        'd_attention_mask': d_inputs['attention_mask'],\n",
    "        'd_token_type_ids': d_inputs['token_type_ids'],\n",
    "    }\n",
    "    # move the batch tensors to the same device as the \n",
    "    examples = { k: v.to(device) for k, v in examples.items() }\n",
    "    # send 'input_ids', 'attention_mask' and 'labels' to the model\n",
    "    # the outputs are of shape (loss, distances)\n",
    "    outputs = model(**examples)\n",
    "    distances = (1 - outputs).unsqueeze(0)\n",
    "    loss = loss_fn(distances, labels)\n",
    "    return loss"
   ]
  },
  {
   "cell_type": "code",
   "execution_count": 17,
   "metadata": {
    "ExecuteTime": {
     "end_time": "2021-01-26T17:23:14.146375Z",
     "start_time": "2021-01-26T17:21:18.600462Z"
    },
    "execution": {
     "iopub.execute_input": "2021-01-22T11:01:01.217831Z",
     "iopub.status.busy": "2021-01-22T11:01:01.217515Z"
    }
   },
   "outputs": [
    {
     "data": {
      "application/vnd.jupyter.widget-view+json": {
       "model_id": "d0f9cf55b447465791a9fb8a9c723d4f",
       "version_major": 2,
       "version_minor": 0
      },
      "text/plain": [
       "HBox(children=(FloatProgress(value=0.0, max=1.0), HTML(value='')))"
      ]
     },
     "metadata": {},
     "output_type": "display_data"
    },
    {
     "data": {
      "application/vnd.jupyter.widget-view+json": {
       "model_id": "4af34f3286954258b76513c36a81ab4d",
       "version_major": 2,
       "version_minor": 0
      },
      "text/plain": [
       "HBox(children=(FloatProgress(value=0.0, description='data_en_de', max=323167.0, style=ProgressStyle(descriptio…"
      ]
     },
     "metadata": {},
     "output_type": "display_data"
    },
    {
     "name": "stdout",
     "output_type": "stream",
     "text": [
      "\n",
      "\n"
     ]
    },
    {
     "ename": "KeyboardInterrupt",
     "evalue": "",
     "output_type": "error",
     "traceback": [
      "\u001b[0;31m---------------------------------------------------------------------------\u001b[0m",
      "\u001b[0;31mKeyboardInterrupt\u001b[0m                         Traceback (most recent call last)",
      "\u001b[0;32m<ipython-input-17-0e4320a5ac3b>\u001b[0m in \u001b[0;36m<module>\u001b[0;34m\u001b[0m\n\u001b[1;32m      8\u001b[0m         \u001b[0;32mfor\u001b[0m \u001b[0mi\u001b[0m\u001b[0;34m,\u001b[0m \u001b[0mbatch\u001b[0m \u001b[0;32min\u001b[0m \u001b[0menumerate\u001b[0m\u001b[0;34m(\u001b[0m\u001b[0mtqdmn\u001b[0m\u001b[0;34m(\u001b[0m\u001b[0mdata\u001b[0m\u001b[0;34m[\u001b[0m\u001b[0mkey\u001b[0m\u001b[0;34m]\u001b[0m\u001b[0;34m,\u001b[0m \u001b[0mdesc\u001b[0m\u001b[0;34m=\u001b[0m\u001b[0mkey\u001b[0m\u001b[0;34m)\u001b[0m\u001b[0;34m)\u001b[0m\u001b[0;34m:\u001b[0m\u001b[0;34m\u001b[0m\u001b[0;34m\u001b[0m\u001b[0m\n\u001b[1;32m      9\u001b[0m             \u001b[0mloss\u001b[0m \u001b[0;34m=\u001b[0m \u001b[0mtrain\u001b[0m\u001b[0;34m(\u001b[0m\u001b[0mbatch\u001b[0m\u001b[0;34m,\u001b[0m \u001b[0mcross_entropy_loss\u001b[0m\u001b[0;34m)\u001b[0m\u001b[0;34m\u001b[0m\u001b[0;34m\u001b[0m\u001b[0m\n\u001b[0;32m---> 10\u001b[0;31m             \u001b[0mloss\u001b[0m\u001b[0;34m.\u001b[0m\u001b[0mbackward\u001b[0m\u001b[0;34m(\u001b[0m\u001b[0;34m)\u001b[0m\u001b[0;34m\u001b[0m\u001b[0;34m\u001b[0m\u001b[0m\n\u001b[0m\u001b[1;32m     11\u001b[0m             \u001b[0;31m# Make sure deallocation has taken place\u001b[0m\u001b[0;34m\u001b[0m\u001b[0;34m\u001b[0m\u001b[0;34m\u001b[0m\u001b[0m\n\u001b[1;32m     12\u001b[0m             \u001b[0;32mif\u001b[0m \u001b[0mtorch\u001b[0m\u001b[0;34m.\u001b[0m\u001b[0mcuda\u001b[0m\u001b[0;34m.\u001b[0m\u001b[0mis_available\u001b[0m\u001b[0;34m(\u001b[0m\u001b[0;34m)\u001b[0m\u001b[0;34m:\u001b[0m\u001b[0;34m\u001b[0m\u001b[0;34m\u001b[0m\u001b[0m\n",
      "\u001b[0;32m~/Programs/anaconda3/envs/paper2021IPR/lib/python3.8/site-packages/torch/tensor.py\u001b[0m in \u001b[0;36mbackward\u001b[0;34m(self, gradient, retain_graph, create_graph)\u001b[0m\n\u001b[1;32m    219\u001b[0m                 \u001b[0mretain_graph\u001b[0m\u001b[0;34m=\u001b[0m\u001b[0mretain_graph\u001b[0m\u001b[0;34m,\u001b[0m\u001b[0;34m\u001b[0m\u001b[0;34m\u001b[0m\u001b[0m\n\u001b[1;32m    220\u001b[0m                 create_graph=create_graph)\n\u001b[0;32m--> 221\u001b[0;31m         \u001b[0mtorch\u001b[0m\u001b[0;34m.\u001b[0m\u001b[0mautograd\u001b[0m\u001b[0;34m.\u001b[0m\u001b[0mbackward\u001b[0m\u001b[0;34m(\u001b[0m\u001b[0mself\u001b[0m\u001b[0;34m,\u001b[0m \u001b[0mgradient\u001b[0m\u001b[0;34m,\u001b[0m \u001b[0mretain_graph\u001b[0m\u001b[0;34m,\u001b[0m \u001b[0mcreate_graph\u001b[0m\u001b[0;34m)\u001b[0m\u001b[0;34m\u001b[0m\u001b[0;34m\u001b[0m\u001b[0m\n\u001b[0m\u001b[1;32m    222\u001b[0m \u001b[0;34m\u001b[0m\u001b[0m\n\u001b[1;32m    223\u001b[0m     \u001b[0;32mdef\u001b[0m \u001b[0mregister_hook\u001b[0m\u001b[0;34m(\u001b[0m\u001b[0mself\u001b[0m\u001b[0;34m,\u001b[0m \u001b[0mhook\u001b[0m\u001b[0;34m)\u001b[0m\u001b[0;34m:\u001b[0m\u001b[0;34m\u001b[0m\u001b[0;34m\u001b[0m\u001b[0m\n",
      "\u001b[0;32m~/Programs/anaconda3/envs/paper2021IPR/lib/python3.8/site-packages/torch/autograd/__init__.py\u001b[0m in \u001b[0;36mbackward\u001b[0;34m(tensors, grad_tensors, retain_graph, create_graph, grad_variables)\u001b[0m\n\u001b[1;32m    128\u001b[0m         \u001b[0mretain_graph\u001b[0m \u001b[0;34m=\u001b[0m \u001b[0mcreate_graph\u001b[0m\u001b[0;34m\u001b[0m\u001b[0;34m\u001b[0m\u001b[0m\n\u001b[1;32m    129\u001b[0m \u001b[0;34m\u001b[0m\u001b[0m\n\u001b[0;32m--> 130\u001b[0;31m     Variable._execution_engine.run_backward(\n\u001b[0m\u001b[1;32m    131\u001b[0m         \u001b[0mtensors\u001b[0m\u001b[0;34m,\u001b[0m \u001b[0mgrad_tensors_\u001b[0m\u001b[0;34m,\u001b[0m \u001b[0mretain_graph\u001b[0m\u001b[0;34m,\u001b[0m \u001b[0mcreate_graph\u001b[0m\u001b[0;34m,\u001b[0m\u001b[0;34m\u001b[0m\u001b[0;34m\u001b[0m\u001b[0m\n\u001b[1;32m    132\u001b[0m         allow_unreachable=True)  # allow_unreachable flag\n",
      "\u001b[0;31mKeyboardInterrupt\u001b[0m: "
     ]
    }
   ],
   "source": [
    "train_loss = []\n",
    "# iterate through the data 'n_epochs' times\n",
    "for epoch in tqdmn(range(n_epochs)):\n",
    "    # go through all datasets\n",
    "    for key in data.keys():\n",
    "        current_loss = 0\n",
    "        # iterate through each batch of the train data\n",
    "        for i, batch in enumerate(tqdmn(data[key], desc=key)):\n",
    "            loss = train(batch, cross_entropy_loss)\n",
    "            loss.backward()\n",
    "            # Make sure deallocation has taken place\n",
    "            if torch.cuda.is_available():\n",
    "                torch.cuda.empty_cache()\n",
    "                torch.cuda.synchronize()\n",
    "            # update the model using the optimizer\n",
    "            optimizer.step()\n",
    "            # once we update the model we set the gradients to zero\n",
    "            optimizer.zero_grad()\n",
    "            current_loss += loss.item()\n",
    "            if i % n_steps == 0 and i > 0:\n",
    "                # update the model using the optimizer\n",
    "                optimizer.step()\n",
    "                # once we update the model we set the gradients to zero\n",
    "                optimizer.zero_grad()\n",
    "                # store the loss value for visualization\n",
    "                train_loss.append(current_loss / (batch_size * n_steps))\n",
    "                current_loss = 0\n",
    "        # update the model one last time for this epoch\n",
    "        optimizer.step()\n",
    "        optimizer.zero_grad()"
   ]
  },
  {
   "cell_type": "code",
   "execution_count": 18,
   "metadata": {
    "ExecuteTime": {
     "end_time": "2021-01-26T17:23:32.718984Z",
     "start_time": "2021-01-26T17:23:32.698928Z"
    },
    "execution": {
     "iopub.execute_input": "2021-01-25T20:06:16.025456Z",
     "iopub.status.busy": "2021-01-25T20:06:16.025090Z",
     "iopub.status.idle": "2021-01-25T20:06:16.036129Z",
     "shell.execute_reply": "2021-01-25T20:06:16.035420Z",
     "shell.execute_reply.started": "2021-01-25T20:06:16.025409Z"
    }
   },
   "outputs": [
    {
     "name": "stdout",
     "output_type": "stream",
     "text": [
      "Parameter containing:\n",
      "tensor([[ 0.0260, -0.0062, -0.0041,  ...,  0.0297,  0.0242,  0.0197],\n",
      "        [ 0.0104, -0.0136,  0.0067,  ...,  0.0124,  0.0267,  0.0337],\n",
      "        [ 0.0221, -0.0036,  0.0193,  ...,  0.0069,  0.0268,  0.0050],\n",
      "        ...,\n",
      "        [ 0.0068,  0.0189,  0.0267,  ...,  0.0229,  0.0647,  0.0437],\n",
      "        [ 0.0184,  0.0148,  0.0243,  ...,  0.0321,  0.0071,  0.0204],\n",
      "        [ 0.0214,  0.0188, -0.0134,  ..., -0.0060,  0.0058, -0.0059]],\n",
      "       device='cuda:0', requires_grad=True)\n"
     ]
    }
   ],
   "source": [
    "for param in model.parameters():\n",
    "    print(param)\n",
    "    break"
   ]
  },
  {
   "cell_type": "code",
   "execution_count": 19,
   "metadata": {
    "ExecuteTime": {
     "end_time": "2021-01-26T17:23:34.487095Z",
     "start_time": "2021-01-26T17:23:33.883443Z"
    },
    "execution": {
     "iopub.execute_input": "2021-01-25T20:06:21.074763Z",
     "iopub.status.busy": "2021-01-25T20:06:21.074465Z",
     "iopub.status.idle": "2021-01-25T20:06:21.289535Z",
     "shell.execute_reply": "2021-01-25T20:06:21.289012Z",
     "shell.execute_reply.started": "2021-01-25T20:06:21.074725Z"
    }
   },
   "outputs": [
    {
     "data": {
      "image/png": "[encoded data removed]",
      "text/plain": [
       "<Figure size 720x288 with 1 Axes>"
      ]
     },
     "metadata": {
      "needs_background": "light"
     },
     "output_type": "display_data"
    }
   ],
   "source": [
    "# DEFAULT EPSILON (1e-8)\n",
    "fig, ax = plt.subplots(figsize=(10, 4))\n",
    "# visualize the loss values\n",
    "ax.plot(train_loss)\n",
    "# set the labels\n",
    "ax.set_ylabel('Loss')\n",
    "ax.set_xlabel('Iterations')\n",
    "fig.tight_layout()\n",
    "plt.show()"
   ]
  },
  {
   "cell_type": "code",
   "execution_count": null,
   "metadata": {
    "ExecuteTime": {
     "end_time": "2021-01-26T17:23:14.152463Z",
     "start_time": "2021-01-26T17:20:09.807Z"
    },
    "execution": {
     "iopub.execute_input": "2021-01-25T20:13:58.843395Z",
     "iopub.status.busy": "2021-01-25T20:13:58.842973Z",
     "iopub.status.idle": "2021-01-25T20:13:58.873748Z",
     "shell.execute_reply": "2021-01-25T20:13:58.872857Z",
     "shell.execute_reply.started": "2021-01-25T20:13:58.843345Z"
    }
   },
   "outputs": [],
   "source": [
    "optimizer.zero_grad()"
   ]
  },
  {
   "cell_type": "code",
   "execution_count": null,
   "metadata": {
    "ExecuteTime": {
     "end_time": "2021-01-26T17:23:14.154043Z",
     "start_time": "2021-01-26T17:20:09.808Z"
    },
    "execution": {
     "iopub.execute_input": "2021-01-25T20:13:59.623841Z",
     "iopub.status.busy": "2021-01-25T20:13:59.623425Z",
     "iopub.status.idle": "2021-01-25T20:13:59.628420Z",
     "shell.execute_reply": "2021-01-25T20:13:59.627344Z",
     "shell.execute_reply.started": "2021-01-25T20:13:59.623792Z"
    }
   },
   "outputs": [],
   "source": [
    "PATH = '../../data/models/bert_cls_sasaki18.pth'"
   ]
  },
  {
   "cell_type": "code",
   "execution_count": null,
   "metadata": {
    "ExecuteTime": {
     "end_time": "2021-01-26T17:23:14.155790Z",
     "start_time": "2021-01-26T17:20:09.809Z"
    },
    "execution": {
     "iopub.execute_input": "2021-01-25T20:14:00.092145Z",
     "iopub.status.busy": "2021-01-25T20:14:00.091716Z",
     "iopub.status.idle": "2021-01-25T20:14:07.603947Z",
     "shell.execute_reply": "2021-01-25T20:14:07.602777Z",
     "shell.execute_reply.started": "2021-01-25T20:14:00.092097Z"
    }
   },
   "outputs": [],
   "source": [
    "torch.save(model.state_dict(), PATH)"
   ]
  },
  {
   "cell_type": "code",
   "execution_count": null,
   "metadata": {},
   "outputs": [],
   "source": []
  }
 ],
 "metadata": {
  "kernelspec": {
   "display_name": "Python 3",
   "language": "python",
   "name": "python3"
  },
  "language_info": {
   "codemirror_mode": {
    "name": "ipython",
    "version": 3
   },
   "file_extension": ".py",
   "mimetype": "text/x-python",
   "name": "python",
   "nbconvert_exporter": "python",
   "pygments_lexer": "ipython3",
   "version": "3.8.5"
  }
 },
 "nbformat": 4,
 "nbformat_minor": 4
}
